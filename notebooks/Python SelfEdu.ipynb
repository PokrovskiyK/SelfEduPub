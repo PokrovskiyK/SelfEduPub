{
  "nbformat": 4,
  "nbformat_minor": 0,
  "metadata": {
    "colab": {
      "name": "Python SelfEdu.ipynb",
      "provenance": [],
      "collapsed_sections": [
        "6OzYnBlou5Ih",
        "Sst_fHFp2lMd",
        "Fb_IxexBXckA",
        "QOH5x5JyQr4v"
      ],
      "toc_visible": true,
      "authorship_tag": "ABX9TyOHmb5QzpTwypHriqbhFLVN"
    },
    "kernelspec": {
      "name": "python3",
      "display_name": "Python 3"
    },
    "language_info": {
      "name": "python"
    }
  },
  "cells": [
    {
      "cell_type": "markdown",
      "metadata": {
        "id": "atGsmqaHmNEl"
      },
      "source": [
        "# Занятие 4 https://youtu.be/HZrbYY10cJI\n",
        "\n",
        "\n",
        "---\n",
        "\n",
        "\n",
        "Типы чисел в Python\n",
        "\n",
        "\n",
        "\n",
        "\n",
        "---\n",
        "\n",
        "\n"
      ]
    },
    {
      "cell_type": "code",
      "metadata": {
        "id": "MS92_-X55wZG"
      },
      "source": [
        "#int float comlex\n",
        "\n",
        "#Базовые операции\n",
        "\n",
        "# +, -, * ,/, //, %, **,"
      ],
      "execution_count": null,
      "outputs": []
    },
    {
      "cell_type": "code",
      "metadata": {
        "id": "5_gDIE52rRrR"
      },
      "source": [
        "a = 2 + 3\n",
        "a = a**a\n",
        "print(a)\n"
      ],
      "execution_count": null,
      "outputs": []
    },
    {
      "cell_type": "markdown",
      "metadata": {
        "id": "AP7h9Setyy6T"
      },
      "source": [
        "Операции выполнятся слева направо. Возведение выполняется справа на лево.\n",
        "\n"
      ]
    },
    {
      "cell_type": "code",
      "metadata": {
        "colab": {
          "base_uri": "https://localhost:8080/"
        },
        "id": "j8hsdFT3zCy6",
        "outputId": "9bec73aa-b476-4859-9531-b1348f3c041e"
      },
      "source": [
        "в2 = 3/6\n",
        "в3 = 7//2 #минимальное целое\n",
        "d3 = -7//3\n",
        "print(d3)\n"
      ],
      "execution_count": null,
      "outputs": [
        {
          "output_type": "stream",
          "name": "stdout",
          "text": [
            "-3\n"
          ]
        }
      ]
    },
    {
      "cell_type": "markdown",
      "metadata": {
        "id": "r4DVKlhdzihE"
      },
      "source": [
        "Остаток от деления"
      ]
    },
    {
      "cell_type": "code",
      "metadata": {
        "colab": {
          "base_uri": "https://localhost:8080/"
        },
        "id": "2eHmPsy1zm8f",
        "outputId": "cf7831f0-c88b-4a34-d133-7eeb7bf709cd"
      },
      "source": [
        "10%4\n",
        "-9%5"
      ],
      "execution_count": null,
      "outputs": [
        {
          "output_type": "execute_result",
          "data": {
            "text/plain": [
              "1"
            ]
          },
          "metadata": {},
          "execution_count": 9
        }
      ]
    },
    {
      "cell_type": "markdown",
      "metadata": {
        "id": "ilvP-62oz6Zu"
      },
      "source": [
        "Остаток вычисляетс япо формуле -9 - (-10) = 1\n"
      ]
    },
    {
      "cell_type": "code",
      "metadata": {
        "colab": {
          "base_uri": "https://localhost:8080/"
        },
        "id": "iQt9mWPg0Ej8",
        "outputId": "bd1e41b0-3083-4eb6-c4d4-25eb16c25cb9"
      },
      "source": [
        "9%-5\n"
      ],
      "execution_count": null,
      "outputs": [
        {
          "output_type": "execute_result",
          "data": {
            "text/plain": [
              "-1"
            ]
          },
          "metadata": {},
          "execution_count": 10
        }
      ]
    },
    {
      "cell_type": "markdown",
      "metadata": {
        "id": "vWPsvOnl0M2P"
      },
      "source": [
        "9 минус кратоное пяти (10)\n",
        "9-10 - -1\n"
      ]
    },
    {
      "cell_type": "code",
      "metadata": {
        "colab": {
          "base_uri": "https://localhost:8080/"
        },
        "id": "bImgA1YV0gXK",
        "outputId": "db31d737-5f05-4bc1-b780-a53934840706"
      },
      "source": [
        "#Возведение в степень\n",
        "36 ** 0.5\n",
        "#Выполняется справа налево\n",
        "2 ** 2 ** 2\n"
      ],
      "execution_count": null,
      "outputs": [
        {
          "output_type": "execute_result",
          "data": {
            "text/plain": [
              "16"
            ]
          },
          "metadata": {},
          "execution_count": 20
        }
      ]
    },
    {
      "cell_type": "code",
      "metadata": {
        "colab": {
          "base_uri": "https://localhost:8080/"
        },
        "id": "eaHwDtq202FD",
        "outputId": "4d57fd3d-0da6-415a-ecf6-9d4b1b670b4f"
      },
      "source": [
        "27 ** 1/3\n",
        "# Приоритет степени!!!"
      ],
      "execution_count": null,
      "outputs": [
        {
          "output_type": "execute_result",
          "data": {
            "text/plain": [
              "9.0"
            ]
          },
          "metadata": {},
          "execution_count": 14
        }
      ]
    },
    {
      "cell_type": "markdown",
      "metadata": {
        "id": "uyAidnA11M7p"
      },
      "source": [
        "Дополнения к ариф операторам"
      ]
    },
    {
      "cell_type": "code",
      "metadata": {
        "colab": {
          "base_uri": "https://localhost:8080/"
        },
        "id": "8T6cOaC41RFB",
        "outputId": "a081b184-d9fa-4034-9cbb-c75e0ebdc307"
      },
      "source": [
        "i = 5\n",
        "j = 3\n",
        "i = i + 1\n",
        "i += 1\n",
        "i *= 3\n",
        "print (i)"
      ],
      "execution_count": null,
      "outputs": [
        {
          "output_type": "stream",
          "name": "stdout",
          "text": [
            "21\n"
          ]
        }
      ]
    },
    {
      "cell_type": "code",
      "metadata": {
        "id": "kL9OO07X4Sd7"
      },
      "source": [
        ""
      ],
      "execution_count": null,
      "outputs": []
    },
    {
      "cell_type": "markdown",
      "metadata": {
        "id": "6OzYnBlou5Ih"
      },
      "source": [
        "#Занятие 5\n",
        "\n",
        "---\n",
        "\n",
        "\n",
        "Математические функции и работа с модулями\n",
        "\n",
        "\n",
        "---\n",
        "\n"
      ]
    },
    {
      "cell_type": "code",
      "metadata": {
        "colab": {
          "base_uri": "https://localhost:8080/"
        },
        "id": "Zb4YbM9nvDjH",
        "outputId": "ecd488ef-b5fc-4614-cb0b-e18c6daf28d3"
      },
      "source": [
        "abs(5)"
      ],
      "execution_count": null,
      "outputs": [
        {
          "output_type": "execute_result",
          "data": {
            "text/plain": [
              "5"
            ]
          },
          "metadata": {},
          "execution_count": 38
        }
      ]
    },
    {
      "cell_type": "code",
      "metadata": {
        "id": "zcYU_ptdvOX_"
      },
      "source": [
        "min(1,2,3,-5,-7,10)\n",
        "b = min(1,2,3,-5,-7,10)"
      ],
      "execution_count": null,
      "outputs": []
    },
    {
      "cell_type": "code",
      "metadata": {
        "colab": {
          "base_uri": "https://localhost:8080/"
        },
        "id": "A_ZruI9PvXWw",
        "outputId": "1b3e5c25-5182-4df2-d357-407884694023"
      },
      "source": [
        "max (1,4,5,12,-5)"
      ],
      "execution_count": null,
      "outputs": [
        {
          "output_type": "execute_result",
          "data": {
            "text/plain": [
              "12"
            ]
          },
          "metadata": {},
          "execution_count": 40
        }
      ]
    },
    {
      "cell_type": "code",
      "metadata": {
        "colab": {
          "base_uri": "https://localhost:8080/",
          "height": 215
        },
        "id": "sIBxymtzvcfd",
        "outputId": "fdd2bcd4-ec72-406f-81ca-8559bc6da63c"
      },
      "source": [
        "min()\n",
        "#Нельзя запускать без аргумента"
      ],
      "execution_count": null,
      "outputs": [
        {
          "output_type": "error",
          "ename": "TypeError",
          "evalue": "ignored",
          "traceback": [
            "\u001b[0;31m---------------------------------------------------------------------------\u001b[0m",
            "\u001b[0;31mTypeError\u001b[0m                                 Traceback (most recent call last)",
            "\u001b[0;32m<ipython-input-41-7221b1611e9b>\u001b[0m in \u001b[0;36m<module>\u001b[0;34m()\u001b[0m\n\u001b[0;32m----> 1\u001b[0;31m \u001b[0mmin\u001b[0m\u001b[0;34m(\u001b[0m\u001b[0;34m)\u001b[0m\u001b[0;34m\u001b[0m\u001b[0;34m\u001b[0m\u001b[0m\n\u001b[0m\u001b[1;32m      2\u001b[0m \u001b[0;31m#Нельзя запускать без аргумента\u001b[0m\u001b[0;34m\u001b[0m\u001b[0;34m\u001b[0m\u001b[0;34m\u001b[0m\u001b[0m\n",
            "\u001b[0;31mTypeError\u001b[0m: min expected 1 arguments, got 0"
          ]
        }
      ]
    },
    {
      "cell_type": "code",
      "metadata": {
        "colab": {
          "base_uri": "https://localhost:8080/"
        },
        "id": "GE8Pi_NivgV1",
        "outputId": "69508c4b-2e2a-419f-ec9b-67c83916f298"
      },
      "source": [
        "#Возведение в степень через фунцию\n",
        "pow(3,5)"
      ],
      "execution_count": null,
      "outputs": [
        {
          "output_type": "execute_result",
          "data": {
            "text/plain": [
              "243"
            ]
          },
          "metadata": {},
          "execution_count": 42
        }
      ]
    },
    {
      "cell_type": "code",
      "metadata": {
        "colab": {
          "base_uri": "https://localhost:8080/"
        },
        "id": "VaW_XmKIvp4i",
        "outputId": "4a721de6-2502-4aec-8856-e35ce68f002d"
      },
      "source": [
        "#Возведение в степпень\n",
        "pow(144, 0.5)\n"
      ],
      "execution_count": null,
      "outputs": [
        {
          "output_type": "execute_result",
          "data": {
            "text/plain": [
              "12.0"
            ]
          },
          "metadata": {},
          "execution_count": 43
        }
      ]
    },
    {
      "cell_type": "code",
      "metadata": {
        "id": "rCkYGib1vv26"
      },
      "source": [
        "#Округление\n",
        "round(1.5)\n",
        "round(10.5)\n",
        "round(10.500001)\n",
        "round(12.4444444, 3)\n",
        "round(1234143214, -5)"
      ],
      "execution_count": null,
      "outputs": []
    },
    {
      "cell_type": "code",
      "metadata": {
        "id": "v6qeqpWbwjRy"
      },
      "source": [
        "# abs() min() max() pow() round()\n",
        "max(1,2, abs(min(10,4,-4,5)))\n"
      ],
      "execution_count": null,
      "outputs": []
    },
    {
      "cell_type": "code",
      "metadata": {
        "id": "BM5UleK-wzPp"
      },
      "source": [
        "#Модуль math\n",
        "import math\n",
        "math.ceil(5.2) #Округление в большую сторону"
      ],
      "execution_count": null,
      "outputs": []
    },
    {
      "cell_type": "code",
      "metadata": {
        "id": "SC-xvo5IxJ0r"
      },
      "source": [
        "math.floor(-3.3) #Округление до наименьшего целого"
      ],
      "execution_count": null,
      "outputs": []
    },
    {
      "cell_type": "code",
      "metadata": {
        "id": "7wlB7Rk5xVal"
      },
      "source": [
        "math.factorial(12)"
      ],
      "execution_count": null,
      "outputs": []
    },
    {
      "cell_type": "code",
      "metadata": {
        "id": "J2qn5hA8xaOR"
      },
      "source": [
        "math.trunc(5.654)\n",
        "#Отбрасывает дробную часть\n",
        "#аналог\n",
        "int(5.634)"
      ],
      "execution_count": null,
      "outputs": []
    },
    {
      "cell_type": "code",
      "metadata": {
        "id": "TMQZg1_R10UN"
      },
      "source": [
        "#Логарифмы\n",
        "math.log2(4)\n",
        "math.log10(100)\n",
        "math.log(2.7)"
      ],
      "execution_count": null,
      "outputs": []
    },
    {
      "cell_type": "code",
      "metadata": {
        "id": "iQwxWHCG2M7Y"
      },
      "source": [
        "math.sqrt(169)"
      ],
      "execution_count": null,
      "outputs": []
    },
    {
      "cell_type": "code",
      "metadata": {
        "id": "mCAm7kZ-2RP7"
      },
      "source": [
        "math.sin(0)\n",
        "math.cos(0)"
      ],
      "execution_count": null,
      "outputs": []
    },
    {
      "cell_type": "code",
      "metadata": {
        "id": "jloxLpL02ZmF"
      },
      "source": [
        "math.pi"
      ],
      "execution_count": null,
      "outputs": []
    },
    {
      "cell_type": "code",
      "metadata": {
        "id": "dWNSEw5e2dkg"
      },
      "source": [
        "math.e"
      ],
      "execution_count": null,
      "outputs": []
    },
    {
      "cell_type": "markdown",
      "metadata": {
        "id": "Sst_fHFp2lMd"
      },
      "source": [
        "\n",
        "\n",
        "\n",
        "# Занятие 6\n",
        "---\n",
        "Функции print() и input()\n",
        "---"
      ]
    },
    {
      "cell_type": "code",
      "metadata": {
        "colab": {
          "base_uri": "https://localhost:8080/"
        },
        "id": "tKEtyl6M21Pc",
        "outputId": "3ce2c269-ff72-4d58-c571-62a7fb728bd8"
      },
      "source": [
        "a = 12.34343\n",
        "print(a * 8 * 0.5)"
      ],
      "execution_count": null,
      "outputs": [
        {
          "output_type": "stream",
          "name": "stdout",
          "text": [
            "49.37372\n"
          ]
        }
      ]
    },
    {
      "cell_type": "code",
      "metadata": {
        "colab": {
          "base_uri": "https://localhost:8080/"
        },
        "id": "RtQ3Fx4C2_sN",
        "outputId": "b840439d-e3c2-4d45-a1bc-e1efe9db22ee"
      },
      "source": [
        "print('hello')"
      ],
      "execution_count": null,
      "outputs": [
        {
          "output_type": "stream",
          "name": "stdout",
          "text": [
            "hello\n"
          ]
        }
      ]
    },
    {
      "cell_type": "code",
      "metadata": {
        "colab": {
          "base_uri": "https://localhost:8080/"
        },
        "id": "8kcoX25d3Dhe",
        "outputId": "29417f06-ad33-4955-e923-996cef179828"
      },
      "source": [
        "#Именованные параметры sep и end\n",
        "a = 4\n",
        "b = 23\n",
        "c = 1\n",
        "print(a,b,c)\n",
        "print(a,b,c, sep = \"'\")"
      ],
      "execution_count": null,
      "outputs": [
        {
          "output_type": "stream",
          "name": "stdout",
          "text": [
            "4 23 1\n",
            "4'23'1\n"
          ]
        }
      ]
    },
    {
      "cell_type": "code",
      "metadata": {
        "colab": {
          "base_uri": "https://localhost:8080/"
        },
        "id": "4JHep85j3jfB",
        "outputId": "e95ae1f5-e6db-44a7-94bc-6eb9e6242666"
      },
      "source": [
        "print('hello')\n",
        "print('world')\n",
        "\n",
        "print('hello', end = '___')\n",
        "print('world')\n",
        "#По умолчанию end = \\n"
      ],
      "execution_count": null,
      "outputs": [
        {
          "output_type": "stream",
          "name": "stdout",
          "text": [
            "hello\n",
            "world\n",
            "hello___world\n"
          ]
        }
      ]
    },
    {
      "cell_type": "code",
      "metadata": {
        "colab": {
          "base_uri": "https://localhost:8080/"
        },
        "id": "ObGmUcTij-D0",
        "outputId": "cf851ed4-929a-44e8-9167-1982062e9a3c"
      },
      "source": [
        "x = 5.98598\n",
        "y = 5.98948\n",
        "print(\"Координаты точки: x = \", x, \"; y = \", y, sep = \"\")"
      ],
      "execution_count": null,
      "outputs": [
        {
          "output_type": "stream",
          "name": "stdout",
          "text": [
            "Координаты точки: x = 5.98598; y = 5.98948\n"
          ]
        }
      ]
    },
    {
      "cell_type": "code",
      "metadata": {
        "colab": {
          "base_uri": "https://localhost:8080/"
        },
        "id": "3NQi5mBwklVp",
        "outputId": "a02f82f0-b50f-4eb1-b2c7-ac2482333eb1"
      },
      "source": [
        "#То же самое через F-строку\n",
        "\n",
        "print(f\"Координаты точки: x = {x}; y = {y}\")"
      ],
      "execution_count": null,
      "outputs": [
        {
          "output_type": "stream",
          "name": "stdout",
          "text": [
            "Координаты точки: x = 5.98598; y = 5.98948\n"
          ]
        }
      ]
    },
    {
      "cell_type": "code",
      "metadata": {
        "colab": {
          "base_uri": "https://localhost:8080/"
        },
        "id": "ivWtFnILlWmj",
        "outputId": "69f3994c-2cbd-4a5f-b899-f4cce1b18150"
      },
      "source": [
        "# INPUT\n",
        "\n",
        "a = input()\n",
        "print(a, type(a))\n",
        "\n",
        "#INPUT выводит все как строки"
      ],
      "execution_count": null,
      "outputs": [
        {
          "output_type": "stream",
          "name": "stdout",
          "text": [
            "1231231231\n",
            "1231231231 <class 'str'>\n"
          ]
        }
      ]
    },
    {
      "cell_type": "code",
      "metadata": {
        "colab": {
          "base_uri": "https://localhost:8080/"
        },
        "id": "jOD_68lolwLS",
        "outputId": "a10ab165-790a-4f9d-e6d7-4607f2db9697"
      },
      "source": [
        "a = int(input())\n",
        "b = abs(a)\n",
        "print(b)"
      ],
      "execution_count": null,
      "outputs": [
        {
          "output_type": "stream",
          "name": "stdout",
          "text": [
            "-123\n",
            "123\n"
          ]
        }
      ]
    },
    {
      "cell_type": "code",
      "metadata": {
        "colab": {
          "base_uri": "https://localhost:8080/"
        },
        "id": "iWyTs-D-mRtY",
        "outputId": "0fbc57c4-35bf-4f14-8524-a3b48e4a9d14"
      },
      "source": [
        "a = float(input())\n",
        "b = abs(a)\n",
        "print(b)"
      ],
      "execution_count": null,
      "outputs": [
        {
          "output_type": "stream",
          "name": "stdout",
          "text": [
            "-2.5\n",
            "2.5\n"
          ]
        }
      ]
    },
    {
      "cell_type": "code",
      "metadata": {
        "colab": {
          "base_uri": "https://localhost:8080/"
        },
        "id": "yj7ExXBMmbi0",
        "outputId": "3a04b60b-5e06-404c-ecfd-6d5a28ad4d0b"
      },
      "source": [
        "# Вычисление преиметра прямоугольника\n",
        "\n",
        "a = float(input(\"Длина прямоугольника  =  \"))\n",
        "b = float(input(\"Ширина прямоугольника  =  \"))\n",
        "print(\"Perimeter: \", 2* (a+b))"
      ],
      "execution_count": null,
      "outputs": [
        {
          "output_type": "stream",
          "name": "stdout",
          "text": [
            "Длина прямоугольника  =  876\n",
            "Ширина прямоугольника  =  87\n",
            "Perimeter:  1926.0\n"
          ]
        }
      ]
    },
    {
      "cell_type": "code",
      "metadata": {
        "colab": {
          "base_uri": "https://localhost:8080/"
        },
        "id": "Yi44tqss5NEu",
        "outputId": "15783137-eeae-4415-de4e-9dd81fe1a8e2"
      },
      "source": [
        "# Конструкция с map!!!!!!!\n",
        "\n",
        "a, b = map (float, input(\"Введите две стороны прямоугольника: \").split())\n",
        "print (\"Периметр = \", 2 * (a+b))"
      ],
      "execution_count": null,
      "outputs": [
        {
          "output_type": "stream",
          "name": "stdout",
          "text": [
            "Введите две стороны прямоугольника: 23 23\n",
            "Периметр =  92.0\n"
          ]
        }
      ]
    },
    {
      "cell_type": "code",
      "metadata": {
        "colab": {
          "base_uri": "https://localhost:8080/"
        },
        "id": "BZe5M1Om7Egf",
        "outputId": "10ecdf5b-0c9f-4cf0-86e2-010d7ba82322"
      },
      "source": [
        " #Конструкция с map!!!!!!!\n",
        " #Периметр треугольника\n",
        "\n",
        "a, b, c = map (float, input(\"Введите стороны треугольника: \").split())\n",
        "print (\"Периметр = \",  a+b+c)"
      ],
      "execution_count": null,
      "outputs": [
        {
          "output_type": "stream",
          "name": "stdout",
          "text": [
            "Введите стороны треугольника: 4.5 7.6 0\n",
            "Периметр =  12.1\n"
          ]
        }
      ]
    },
    {
      "cell_type": "markdown",
      "metadata": {
        "id": "Fb_IxexBXckA"
      },
      "source": [
        "#Занятие 7\n",
        "---\n",
        "Логический тип bool. Операторы сравнения и операторы and, or, not\n",
        "---"
      ]
    },
    {
      "cell_type": "code",
      "metadata": {
        "colab": {
          "base_uri": "https://localhost:8080/"
        },
        "id": "PD_96MpZXzIp",
        "outputId": "72973d59-1f88-4411-f965-ddd97377bba9"
      },
      "source": [
        "#True - истина\n",
        "#False - ложь\n",
        "4 > 7"
      ],
      "execution_count": null,
      "outputs": [
        {
          "output_type": "execute_result",
          "data": {
            "text/plain": [
              "False"
            ]
          },
          "metadata": {},
          "execution_count": 2
        }
      ]
    },
    {
      "cell_type": "code",
      "metadata": {
        "colab": {
          "base_uri": "https://localhost:8080/"
        },
        "id": "Qf9xDqmtYSwr",
        "outputId": "28f1bee5-3885-4644-9f2f-c66eac8d510e"
      },
      "source": [
        "a = 5\n",
        "b = 7.8\n",
        "a <= b\n",
        "rs = a <= b\n",
        "print(rs)\n",
        "type (rs)"
      ],
      "execution_count": null,
      "outputs": [
        {
          "output_type": "stream",
          "name": "stdout",
          "text": [
            "True\n"
          ]
        },
        {
          "output_type": "execute_result",
          "data": {
            "text/plain": [
              "bool"
            ]
          },
          "metadata": {},
          "execution_count": 8
        }
      ]
    },
    {
      "cell_type": "markdown",
      "source": [
        "# Занятие 8\n",
        "---\n",
        "Введение в строки\n",
        "---\n"
      ],
      "metadata": {
        "id": "QOH5x5JyQr4v"
      }
    },
    {
      "cell_type": "code",
      "metadata": {
        "colab": {
          "base_uri": "https://localhost:8080/"
        },
        "id": "cajmEt51Y-u1",
        "outputId": "1c07c557-a1d0-42bd-f299-f71a770e17b5"
      },
      "source": [
        "5==7-2"
      ],
      "execution_count": null,
      "outputs": [
        {
          "output_type": "execute_result",
          "data": {
            "text/plain": [
              "True"
            ]
          },
          "metadata": {},
          "execution_count": 18
        }
      ]
    },
    {
      "cell_type": "code",
      "metadata": {
        "id": "SrgnLY0GY33X",
        "colab": {
          "base_uri": "https://localhost:8080/",
          "height": 35
        },
        "outputId": "6b02389f-b5fb-45e4-fda2-fe7338fcca79"
      },
      "source": [
        "'''\n",
        "#Операторы сравнения\n",
        "< \n",
        ">\n",
        "<=\n",
        ">=\n",
        "==\n",
        "!=\n",
        "'''"
      ],
      "execution_count": null,
      "outputs": [
        {
          "output_type": "execute_result",
          "data": {
            "application/vnd.google.colaboratory.intrinsic+json": {
              "type": "string"
            },
            "text/plain": [
              "'\\n#Операторы сравнения\\n< \\n>\\n<=\\n>=\\n==\\n!=\\n'"
            ]
          },
          "metadata": {},
          "execution_count": 20
        }
      ]
    },
    {
      "cell_type": "code",
      "source": [
        "s1 = \"панда\"\n",
        "s2 = 'Pands'\n",
        "\n",
        "print(s1)\n",
        "print(s2)\n",
        "\n",
        "#Запомнить символ \\n\n",
        "\n",
        "s1 = \"Я люблю \"\n",
        "s2 = \"язык Python\"\n",
        "s1 + s2 + \" \" + str(5+2)\n",
        "\"воу \" * 3 + \"палехч\"\n",
        "len(\"палехч\")\n",
        "asd = \"Proverka\"\n",
        "print(len(asd))\n",
        "print(\"Pro\" in asd)\n",
        "print(asd == \"Proverka\")\n",
        "print(asd != \"Proverka\")\n",
        "\n",
        "print('asd' > 'sda')\n",
        "\n",
        "print(ord(\"&\")) #Вывод кода символа\n",
        "\n"
      ],
      "metadata": {
        "colab": {
          "base_uri": "https://localhost:8080/"
        },
        "outputId": "7325c4e0-975f-481d-a478-d7cf8d259be9",
        "id": "3b1ZL4wGBrWg"
      },
      "execution_count": 1,
      "outputs": [
        {
          "output_type": "stream",
          "name": "stdout",
          "text": [
            "панда\n",
            "Pands\n",
            "8\n",
            "True\n",
            "True\n",
            "False\n",
            "False\n",
            "38\n"
          ]
        }
      ]
    },
    {
      "cell_type": "markdown",
      "source": [
        "#16 Вложенные списки\n",
        "\n"
      ],
      "metadata": {
        "id": "kg2a6KH3FyLG"
      }
    },
    {
      "cell_type": "code",
      "source": [
        "line = [1, 7, 6, 11, 3]\n",
        "img = [[1, 7, 6, 11, 3],[1, 7, 6, 11, 3],[1, 7, 6, 11, 3],[1, 7, 6, 11, 3],[1, 7, 6, 11, 3]]\n",
        "img"
      ],
      "metadata": {
        "id": "ExC04jq6F63b",
        "colab": {
          "base_uri": "https://localhost:8080/"
        },
        "outputId": "d52ccbe8-fe20-46f1-a49e-d9bb1a39439e"
      },
      "execution_count": null,
      "outputs": [
        {
          "output_type": "execute_result",
          "data": {
            "text/plain": [
              "[[1, 7, 6, 11, 3],\n",
              " [1, 7, 6, 11, 3],\n",
              " [1, 7, 6, 11, 3],\n",
              " [1, 7, 6, 11, 3],\n",
              " [1, 7, 6, 11, 3]]"
            ]
          },
          "metadata": {},
          "execution_count": 24
        }
      ]
    },
    {
      "cell_type": "code",
      "source": [
        "img = [line[:], line[:],line[:],line[:],line[:]]\n",
        "img\n",
        "# Ссылки на вложенные списки"
      ],
      "metadata": {
        "id": "_xDcBPnWJGRS",
        "outputId": "49aacb00-b24e-4518-a10d-4b3cfac7e43d",
        "colab": {
          "base_uri": "https://localhost:8080/"
        }
      },
      "execution_count": null,
      "outputs": [
        {
          "output_type": "execute_result",
          "data": {
            "text/plain": [
              "[[1, 7, 6, 11, 3],\n",
              " [1, 7, 6, 11, 3],\n",
              " [1, 7, 6, 11, 3],\n",
              " [1, 7, 6, 11, 3],\n",
              " [1, 7, 6, 11, 3]]"
            ]
          },
          "metadata": {},
          "execution_count": 25
        }
      ]
    },
    {
      "cell_type": "code",
      "source": [
        "img[0][1]\n",
        "img[1] = [0,0,0,0,0]\n",
        "img[1] = [0] * 5\n",
        "img[1][:] = [1]*5\n",
        "img"
      ],
      "metadata": {
        "id": "1g0UwvwmJVqC",
        "outputId": "77fdc315-f8fa-4081-db5a-b4dbd07c6298",
        "colab": {
          "base_uri": "https://localhost:8080/"
        }
      },
      "execution_count": null,
      "outputs": [
        {
          "output_type": "execute_result",
          "data": {
            "text/plain": [
              "[[1, 7, 6, 11, 3],\n",
              " [1, 1, 1, 1, 1],\n",
              " [1, 7, 6, 11, 3],\n",
              " [1, 7, 6, 11, 3],\n",
              " [1, 7, 6, 11, 3]]"
            ]
          },
          "metadata": {},
          "execution_count": 26
        }
      ]
    },
    {
      "cell_type": "code",
      "source": [
        "img[1][3]"
      ],
      "metadata": {
        "id": "EnFQCSvVL09L",
        "outputId": "7e2bb3a7-b2a0-42a4-d424-df256274491d",
        "colab": {
          "base_uri": "https://localhost:8080/"
        }
      },
      "execution_count": null,
      "outputs": [
        {
          "output_type": "execute_result",
          "data": {
            "text/plain": [
              "1"
            ]
          },
          "metadata": {},
          "execution_count": 27
        }
      ]
    },
    {
      "cell_type": "markdown",
      "source": [
        "# 17 Условный оператор"
      ],
      "metadata": {
        "id": "ZGIEM-ogMGlI"
      }
    },
    {
      "cell_type": "code",
      "source": [
        "#@title\n",
        "# if - условный оператор ветвления\n",
        "x = -4\n",
        "if x < 0:\n",
        "  x = -x\n",
        "\n",
        "print(x)"
      ],
      "metadata": {
        "id": "AkZjy189MMaE",
        "outputId": "24fd8b7f-0030-4807-9cf5-59c01c3f722f",
        "colab": {
          "base_uri": "https://localhost:8080/"
        }
      },
      "execution_count": null,
      "outputs": [
        {
          "output_type": "stream",
          "name": "stdout",
          "text": [
            "4\n"
          ]
        }
      ]
    },
    {
      "cell_type": "code",
      "source": [
        "a = float(input(\"a = :\"))\n",
        "b = float(input(\"b = :\"))\n",
        "if a<b:\n",
        "  a,b = b,a\n",
        "print(a,b)"
      ],
      "metadata": {
        "colab": {
          "base_uri": "https://localhost:8080/"
        },
        "id": "ZrGfYwpDOe7z",
        "outputId": "46796797-1303-462b-e3f4-d0bd68aafb36"
      },
      "execution_count": null,
      "outputs": [
        {
          "output_type": "stream",
          "name": "stdout",
          "text": [
            "a = :12\n",
            "b = :13\n",
            "13.0 12.0\n"
          ]
        }
      ]
    },
    {
      "cell_type": "code",
      "source": [
        "x = int(input())\n",
        "if x>=-4 and x <= 10:\n",
        "  print (\" x в диапазоне [-4;10]\")"
      ],
      "metadata": {
        "colab": {
          "base_uri": "https://localhost:8080/"
        },
        "id": "biI9Slo_O5ZY",
        "outputId": "f0637490-bea3-4e00-d533-bdb16177d6c4"
      },
      "execution_count": null,
      "outputs": [
        {
          "output_type": "stream",
          "name": "stdout",
          "text": [
            "6\n",
            " x в диапазоне [-4;10]\n"
          ]
        }
      ]
    },
    {
      "cell_type": "code",
      "source": [
        "x = int(input())\n",
        "if x:\n",
        "    print (\" x True\")\n"
      ],
      "metadata": {
        "colab": {
          "base_uri": "https://localhost:8080/"
        },
        "id": "Lo7aD00PPSRj",
        "outputId": "50598a10-5fe2-49ee-fc5e-9ca4881a5552"
      },
      "execution_count": null,
      "outputs": [
        {
          "name": "stdout",
          "output_type": "stream",
          "text": [
            "0\n"
          ]
        }
      ]
    },
    {
      "cell_type": "code",
      "source": [
        "marks = [3,3,4,5,4]\n",
        "if 2 in marks:\n",
        "  print (\"Студент будет отчислен\")\n",
        "else:\n",
        "  print(\"Студент успешно сдал сессию\")"
      ],
      "metadata": {
        "colab": {
          "base_uri": "https://localhost:8080/"
        },
        "id": "VAhI-W2fPjma",
        "outputId": "ad699b69-ead0-4f59-8a62-8474917d672a"
      },
      "execution_count": null,
      "outputs": [
        {
          "output_type": "stream",
          "name": "stdout",
          "text": [
            "Студент успешно сдал сессию\n"
          ]
        }
      ]
    },
    {
      "cell_type": "code",
      "source": [
        "x = int(input(\"Введите целое число\"))\n",
        "if x % 2 == 0:\n",
        "  print(\"x - четное\")\n",
        "else:\n",
        "  print(\"x - не четное\")\n"
      ],
      "metadata": {
        "colab": {
          "base_uri": "https://localhost:8080/"
        },
        "id": "uWgvHqKkQE7P",
        "outputId": "9baae5b3-aafa-41a3-ec30-efea0a36eb8c"
      },
      "execution_count": null,
      "outputs": [
        {
          "output_type": "stream",
          "name": "stdout",
          "text": [
            "Введите целое число23\n",
            "x - не четное\n"
          ]
        }
      ]
    },
    {
      "cell_type": "code",
      "source": [
        "x = int(input(\"Введите целое число\"))\n",
        "if x <0:\n",
        "  print(\"x - отрицательное число\")\n",
        "else:\n",
        "  print(\"x - не отрицательное число\")"
      ],
      "metadata": {
        "colab": {
          "base_uri": "https://localhost:8080/"
        },
        "id": "rVURsNr6QmMi",
        "outputId": "f22df25d-30e1-4cb5-d233-7460f310937d"
      },
      "execution_count": null,
      "outputs": [
        {
          "output_type": "stream",
          "name": "stdout",
          "text": [
            "Введите целое число12\n",
            "x - не отрицательное число\n"
          ]
        }
      ]
    },
    {
      "cell_type": "markdown",
      "source": [
        "#18 Вложенные условия и множественный выбор\n"
      ],
      "metadata": {
        "id": "WJR1xcGMQ-Su"
      }
    },
    {
      "cell_type": "code",
      "source": [
        "x = int(input())\n",
        "if x % 2 == 0:\n",
        "  if 0 <= x <= 9:\n",
        "    print(\"x - цифра\")\n",
        "  else:\n",
        "    print(\" ч - число\")\n",
        "else:\n",
        "  print(\"Х - нечетное число\")"
      ],
      "metadata": {
        "colab": {
          "base_uri": "https://localhost:8080/"
        },
        "id": "MOAoxUUlSUl0",
        "outputId": "1dcdbb22-6ec2-40fd-e3c1-3dca3ef6bf91"
      },
      "execution_count": null,
      "outputs": [
        {
          "output_type": "stream",
          "name": "stdout",
          "text": [
            "11\n",
            "Х - нечетное число\n"
          ]
        }
      ]
    },
    {
      "cell_type": "code",
      "source": [
        "# сравнение трех чисел\n",
        "a = int(input(\"а = :\"))\n",
        "b = int(input(\"b = :\"))\n",
        "c = int(input(\"c = :\"))\n",
        "if a > b:\n",
        "  if a > c: \n",
        "    print(\"a - max\")\n",
        "  else:\n",
        "    print(\"c - max\")\n",
        "else:\n",
        "  if b > c:\n",
        "    print (\"b - max\")\n",
        "  else:\n",
        "    print(\"c - max\")\n"
      ],
      "metadata": {
        "id": "9dJDDKU2Ubwv",
        "outputId": "b0e257b0-c9f0-41a5-e47d-f0d76490276d",
        "colab": {
          "base_uri": "https://localhost:8080/"
        }
      },
      "execution_count": null,
      "outputs": [
        {
          "output_type": "stream",
          "name": "stdout",
          "text": [
            "а = :12\n",
            "b = :444\n",
            "c = :1212121\n",
            "c - max\n"
          ]
        }
      ]
    },
    {
      "cell_type": "code",
      "source": [
        "# ELIF\n",
        "item = int(input(\"Выберите пункт :\"))\n",
        "if item == 1:\n",
        "  print(\"1\")\n",
        "elif item == 2:\n",
        "  print(\"2\")\n",
        "elif item == 3:\n",
        "  print(\"3\")\n",
        "elif item == 4:\n",
        "  print(\"4\")\n",
        "else: print(\"Ничего\")\n"
      ],
      "metadata": {
        "id": "kSpzu8vfVy0o",
        "outputId": "9b2961e5-e178-4c88-9e3a-6db4be937aef",
        "colab": {
          "base_uri": "https://localhost:8080/"
        }
      },
      "execution_count": null,
      "outputs": [
        {
          "output_type": "stream",
          "name": "stdout",
          "text": [
            "Выберите пункт :3\n",
            "3\n"
          ]
        }
      ]
    },
    {
      "cell_type": "markdown",
      "source": [
        "# 19 Тернарный условный оператор\n"
      ],
      "metadata": {
        "id": "QcSjSjl4D5-T"
      }
    },
    {
      "cell_type": "code",
      "source": [
        "a = 12\n",
        "b = 7\n",
        "if a > b:\n",
        "  res = a\n",
        "else:\n",
        "  res = b\n",
        "print(res)\n"
      ],
      "metadata": {
        "colab": {
          "base_uri": "https://localhost:8080/"
        },
        "id": "ajs50sLPHUPc",
        "outputId": "a2ad011c-87dd-46f0-e585-4e9c0e5c2541"
      },
      "execution_count": null,
      "outputs": [
        {
          "output_type": "stream",
          "name": "stdout",
          "text": [
            "12\n"
          ]
        }
      ]
    },
    {
      "cell_type": "code",
      "source": [
        "res = a if a > b else b\n",
        "print(res)\n",
        "# Тернарный оператор присваивает значения, нет внутренних блоков"
      ],
      "metadata": {
        "colab": {
          "base_uri": "https://localhost:8080/"
        },
        "id": "H9N9tSuDHyOg",
        "outputId": "c6bf31ba-7d36-451f-feab-bf14ff01f4c0"
      },
      "execution_count": null,
      "outputs": [
        {
          "output_type": "stream",
          "name": "stdout",
          "text": [
            "12\n"
          ]
        }
      ]
    },
    {
      "cell_type": "code",
      "source": [
        "res = a +3  if a > b else b * 8\n",
        "print(res)"
      ],
      "metadata": {
        "colab": {
          "base_uri": "https://localhost:8080/"
        },
        "id": "NN_PKta-IVPI",
        "outputId": "930c6a0b-d43a-4825-df90-18743c25e9eb"
      },
      "execution_count": null,
      "outputs": [
        {
          "output_type": "stream",
          "name": "stdout",
          "text": [
            "15\n"
          ]
        }
      ]
    },
    {
      "cell_type": "code",
      "source": [
        "res = print(a)  if a > b else b * 8\n",
        "print(res)"
      ],
      "metadata": {
        "colab": {
          "base_uri": "https://localhost:8080/"
        },
        "id": "vaVXmSG8Ikr8",
        "outputId": "a3880e6c-1f6c-4da0-b6ae-dff303646835"
      },
      "execution_count": null,
      "outputs": [
        {
          "output_type": "stream",
          "name": "stdout",
          "text": [
            "12\n",
            "None\n"
          ]
        }
      ]
    },
    {
      "cell_type": "code",
      "source": [
        "s = \"Большие буквы\"\n",
        "t = \"vfktymrbt ,erds\"\n",
        "\n",
        "res  = s.upper() if s == \"Большие буквы\" else t\n",
        "print(res)"
      ],
      "metadata": {
        "colab": {
          "base_uri": "https://localhost:8080/"
        },
        "id": "kyeWRtRZI3d2",
        "outputId": "3141e323-9839-475f-d670-d9dd9f2189c7"
      },
      "execution_count": null,
      "outputs": [
        {
          "output_type": "stream",
          "name": "stdout",
          "text": [
            "БОЛЬШИЕ БУКВЫ\n"
          ]
        }
      ]
    },
    {
      "cell_type": "code",
      "source": [
        "a = 7\n",
        "b = 12\n",
        "[1, 2,a if a < b else b , 4,5]"
      ],
      "metadata": {
        "colab": {
          "base_uri": "https://localhost:8080/"
        },
        "id": "70SK_UTmKAhr",
        "outputId": "6d81d103-57c7-4cba-c007-6ff897c27496"
      },
      "execution_count": null,
      "outputs": [
        {
          "output_type": "execute_result",
          "data": {
            "text/plain": [
              "[1, 2, 7, 4, 5]"
            ]
          },
          "metadata": {},
          "execution_count": 15
        }
      ]
    },
    {
      "cell_type": "code",
      "source": [
        "a = int(input(\"Введите целое число a: \"))\n",
        "print(\"a - \" + (\"чётное \" if a % 2 == 0 else \"нечётное \") + \"число.\")"
      ],
      "metadata": {
        "colab": {
          "base_uri": "https://localhost:8080/"
        },
        "id": "lb0cCZgtI4sw",
        "outputId": "49d1880a-f9e7-46d1-e9a8-3975d2d91143"
      },
      "execution_count": null,
      "outputs": [
        {
          "output_type": "stream",
          "name": "stdout",
          "text": [
            "Введите целое число a: 121\n",
            "a - нечётное число.\n"
          ]
        }
      ]
    },
    {
      "cell_type": "code",
      "source": [
        "a = -17\n",
        "b = 23\n",
        "max (1, 2, 3, a if a > 0 else b, 5, 3)"
      ],
      "metadata": {
        "colab": {
          "base_uri": "https://localhost:8080/"
        },
        "id": "fBZqPKGAMXc2",
        "outputId": "af436aae-293c-49bd-a2e5-c71d0b7a69bd"
      },
      "execution_count": null,
      "outputs": [
        {
          "output_type": "execute_result",
          "data": {
            "text/plain": [
              "23"
            ]
          },
          "metadata": {},
          "execution_count": 23
        }
      ]
    },
    {
      "cell_type": "code",
      "source": [
        "# Поиск наибольшего числа через тернарных операторов\n",
        "a = 4 \n",
        "b = 7 \n",
        "c = -7\n",
        "\n",
        "d = (a if a > c else c) if a > b else (b if b > c else c)\n",
        "d\n"
      ],
      "metadata": {
        "colab": {
          "base_uri": "https://localhost:8080/"
        },
        "id": "MFWq3X7KM_Xq",
        "outputId": "6ed9c508-2b00-4c6a-fbeb-e14528a790b0"
      },
      "execution_count": null,
      "outputs": [
        {
          "data": {
            "text/plain": [
              "7"
            ]
          },
          "execution_count": null,
          "metadata": {},
          "output_type": "execute_result"
        }
      ]
    },
    {
      "cell_type": "markdown",
      "source": [
        "#20 While оператор цикла\n"
      ],
      "metadata": {
        "id": "Wr9_OnWeTALA"
      }
    },
    {
      "cell_type": "code",
      "source": [
        "# сумма 1, 2, 3, 4, ....., n\n",
        "s = 0\n",
        "i = 1\n",
        "N = 1000\n",
        "while i <= N:\n",
        "  s += i\n",
        "  i += 1\n",
        "print(s)\n"
      ],
      "metadata": {
        "id": "Rooc-CtATF4X",
        "outputId": "c9d6cfe6-12bd-464f-fdeb-e9ffc9ffa14f",
        "colab": {
          "base_uri": "https://localhost:8080/"
        }
      },
      "execution_count": 2,
      "outputs": [
        {
          "output_type": "stream",
          "name": "stdout",
          "text": [
            "500500\n"
          ]
        }
      ]
    },
    {
      "cell_type": "code",
      "source": [
        "# сумма 1, 2, 3, 4, ....., n\n",
        "s = 0\n",
        "i = 1\n",
        "N = 1000\n",
        "while i <= N and i <= 50:\n",
        "  s += i\n",
        "  i += 1\n",
        "print(s) "
      ],
      "metadata": {
        "id": "GQJVOYm-UJyJ",
        "outputId": "9bcd245e-cdeb-4047-95eb-d797b63f65ba",
        "colab": {
          "base_uri": "https://localhost:8080/"
        }
      },
      "execution_count": 3,
      "outputs": [
        {
          "output_type": "stream",
          "name": "stdout",
          "text": [
            "1275\n"
          ]
        }
      ]
    },
    {
      "cell_type": "code",
      "source": [
        "s = 0\n",
        "i = 1\n",
        "N = 1000\n",
        "while i <= N and i <= 50:\n",
        "  s += i\n",
        "  i += 2\n",
        "print(s) "
      ],
      "metadata": {
        "id": "Y0rDesVKUcpd",
        "outputId": "3d73798e-28c8-45e9-c50d-b576fc5108fd",
        "colab": {
          "base_uri": "https://localhost:8080/"
        }
      },
      "execution_count": 4,
      "outputs": [
        {
          "output_type": "stream",
          "name": "stdout",
          "text": [
            "625\n"
          ]
        }
      ]
    },
    {
      "cell_type": "code",
      "source": [
        "i = 1\n",
        "while i < 10:\n",
        "  print(i)\n",
        "  i += 1"
      ],
      "metadata": {
        "id": "x-CcfnknU3-k",
        "outputId": "5cf757e8-7e41-4e5d-b517-6321b85d7206",
        "colab": {
          "base_uri": "https://localhost:8080/"
        }
      },
      "execution_count": 7,
      "outputs": [
        {
          "output_type": "stream",
          "name": "stdout",
          "text": [
            "1\n",
            "2\n",
            "3\n",
            "4\n",
            "5\n",
            "6\n",
            "7\n",
            "8\n",
            "9\n"
          ]
        }
      ]
    },
    {
      "cell_type": "code",
      "source": [
        "N = 5\n",
        "i = -1\n",
        "while i >= -N:\n",
        "  print(i)\n",
        "  i -= 1"
      ],
      "metadata": {
        "id": "5PLX4-urVW1x",
        "outputId": "ef597c36-7881-46f4-d0b5-938323f649c3",
        "colab": {
          "base_uri": "https://localhost:8080/"
        }
      },
      "execution_count": 8,
      "outputs": [
        {
          "output_type": "stream",
          "name": "stdout",
          "text": [
            "-1\n",
            "-2\n",
            "-3\n",
            "-4\n",
            "-5\n"
          ]
        }
      ]
    },
    {
      "cell_type": "code",
      "source": [
        "pass_true = \"password\"\n",
        "ps = \"\"\n",
        "while ps != pass_true:\n",
        "  ps = input(\"Введите пароль: \")\n",
        "print (\"Вход в систему выполнен успешно.\")"
      ],
      "metadata": {
        "id": "II0tXCCmVjTv",
        "outputId": "b14f0abe-b199-400b-845a-7c997c23bdc7",
        "colab": {
          "base_uri": "https://localhost:8080/"
        }
      },
      "execution_count": 9,
      "outputs": [
        {
          "output_type": "stream",
          "name": "stdout",
          "text": [
            "Введите пароль: 12\n",
            "Введите пароль: Лшкшдд\n",
            "Введите пароль: password\n",
            "Вход в систему выполнен успешно.\n"
          ]
        }
      ]
    },
    {
      "cell_type": "code",
      "source": [
        "#Проверка ввода пароля со счетчиком попыток\n",
        "pass_true = \"password\"\n",
        "ps = \"\"\n",
        "m = 3\n",
        "while ps != pass_true and m > 0:\n",
        "  ps = input(\"Введите пароль: \")\n",
        "  m -= 1\n",
        "  if ps != pass_true and m > 0:\n",
        "    print(f\"Осталось {m} попытки(а). \")\n",
        "if ps == pass_true:\n",
        "  print(\"Вход в систему выполнен успешно.\")\n",
        "else:\n",
        "  print(\"Превышено количество попыток входа.\")\n",
        "  \n",
        "\n"
      ],
      "metadata": {
        "id": "5RwvGts8WhEA",
        "outputId": "0b4586d7-b59f-41a6-ad42-47634b31ad5d",
        "colab": {
          "base_uri": "https://localhost:8080/"
        }
      },
      "execution_count": 23,
      "outputs": [
        {
          "output_type": "stream",
          "name": "stdout",
          "text": [
            "Введите пароль: 123\n",
            "Осталось 2 попытки(а). \n",
            "Введите пароль: к\n",
            "Осталось 1 попытки(а). \n",
            "Введите пароль: password\n",
            "Вход в систему выполнен успешно.\n"
          ]
        }
      ]
    },
    {
      "cell_type": "code",
      "source": [
        "N = 20\n",
        "i = 1\n",
        "while i <= N:\n",
        "  if i % 3 == 0:\n",
        "    print(i)\n",
        "\n",
        "  i += 1"
      ],
      "metadata": {
        "id": "9zYFaalebtNN",
        "outputId": "93eb973a-b29e-40ed-efe5-5340b4b7628e",
        "colab": {
          "base_uri": "https://localhost:8080/"
        }
      },
      "execution_count": 25,
      "outputs": [
        {
          "output_type": "stream",
          "name": "stdout",
          "text": [
            "3\n",
            "6\n",
            "9\n",
            "12\n",
            "15\n",
            "18\n"
          ]
        }
      ]
    },
    {
      "cell_type": "markdown",
      "source": [
        "#21 "
      ],
      "metadata": {
        "id": "CNxIw1ZVcLA-"
      }
    }
  ]
}