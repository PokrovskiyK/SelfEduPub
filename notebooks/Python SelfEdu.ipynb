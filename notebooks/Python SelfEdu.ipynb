{
  "nbformat": 4,
  "nbformat_minor": 0,
  "metadata": {
    "colab": {
      "name": "Python SelfEdu.ipynb",
      "provenance": [],
      "collapsed_sections": [
        "6OzYnBlou5Ih",
        "Sst_fHFp2lMd",
        "Fb_IxexBXckA",
        "QOH5x5JyQr4v"
      ],
      "toc_visible": true,
      "authorship_tag": "ABX9TyNTLXB8pyp+SPHgi7xqzOu3"
    },
    "kernelspec": {
      "name": "python3",
      "display_name": "Python 3"
    },
    "language_info": {
      "name": "python"
    }
  },
  "cells": [
    {
      "cell_type": "markdown",
      "metadata": {
        "id": "atGsmqaHmNEl"
      },
      "source": [
        "# Занятие 4 https://youtu.be/HZrbYY10cJI\n",
        "\n",
        "\n",
        "---\n",
        "\n",
        "\n",
        "Типы чисел в Python\n",
        "\n",
        "\n",
        "\n",
        "\n",
        "---\n",
        "\n",
        "\n"
      ]
    },
    {
      "cell_type": "code",
      "metadata": {
        "id": "MS92_-X55wZG"
      },
      "source": [
        "#int float comlex\n",
        "\n",
        "#Базовые операции\n",
        "\n",
        "# +, -, * ,/, //, %, **,"
      ],
      "execution_count": null,
      "outputs": []
    },
    {
      "cell_type": "code",
      "metadata": {
        "id": "5_gDIE52rRrR"
      },
      "source": [
        "a = 2 + 3\n",
        "a = a**a\n",
        "print(a)\n"
      ],
      "execution_count": null,
      "outputs": []
    },
    {
      "cell_type": "markdown",
      "metadata": {
        "id": "AP7h9Setyy6T"
      },
      "source": [
        "Операции выполнятся слева направо. Возведение выполняется справа на лево.\n",
        "\n"
      ]
    },
    {
      "cell_type": "code",
      "metadata": {
        "colab": {
          "base_uri": "https://localhost:8080/"
        },
        "id": "j8hsdFT3zCy6",
        "outputId": "9bec73aa-b476-4859-9531-b1348f3c041e"
      },
      "source": [
        "в2 = 3/6\n",
        "в3 = 7//2 #минимальное целое\n",
        "d3 = -7//3\n",
        "print(d3)\n"
      ],
      "execution_count": null,
      "outputs": [
        {
          "output_type": "stream",
          "name": "stdout",
          "text": [
            "-3\n"
          ]
        }
      ]
    },
    {
      "cell_type": "markdown",
      "metadata": {
        "id": "r4DVKlhdzihE"
      },
      "source": [
        "Остаток от деления"
      ]
    },
    {
      "cell_type": "code",
      "metadata": {
        "colab": {
          "base_uri": "https://localhost:8080/"
        },
        "id": "2eHmPsy1zm8f",
        "outputId": "cf7831f0-c88b-4a34-d133-7eeb7bf709cd"
      },
      "source": [
        "10%4\n",
        "-9%5"
      ],
      "execution_count": null,
      "outputs": [
        {
          "output_type": "execute_result",
          "data": {
            "text/plain": [
              "1"
            ]
          },
          "metadata": {},
          "execution_count": 9
        }
      ]
    },
    {
      "cell_type": "markdown",
      "metadata": {
        "id": "ilvP-62oz6Zu"
      },
      "source": [
        "Остаток вычисляетс япо формуле -9 - (-10) = 1\n"
      ]
    },
    {
      "cell_type": "code",
      "metadata": {
        "colab": {
          "base_uri": "https://localhost:8080/"
        },
        "id": "iQt9mWPg0Ej8",
        "outputId": "bd1e41b0-3083-4eb6-c4d4-25eb16c25cb9"
      },
      "source": [
        "9%-5\n"
      ],
      "execution_count": null,
      "outputs": [
        {
          "output_type": "execute_result",
          "data": {
            "text/plain": [
              "-1"
            ]
          },
          "metadata": {},
          "execution_count": 10
        }
      ]
    },
    {
      "cell_type": "markdown",
      "metadata": {
        "id": "vWPsvOnl0M2P"
      },
      "source": [
        "9 минус кратоное пяти (10)\n",
        "9-10 - -1\n"
      ]
    },
    {
      "cell_type": "code",
      "metadata": {
        "colab": {
          "base_uri": "https://localhost:8080/"
        },
        "id": "bImgA1YV0gXK",
        "outputId": "db31d737-5f05-4bc1-b780-a53934840706"
      },
      "source": [
        "#Возведение в степень\n",
        "36 ** 0.5\n",
        "#Выполняется справа налево\n",
        "2 ** 2 ** 2\n"
      ],
      "execution_count": null,
      "outputs": [
        {
          "output_type": "execute_result",
          "data": {
            "text/plain": [
              "16"
            ]
          },
          "metadata": {},
          "execution_count": 20
        }
      ]
    },
    {
      "cell_type": "code",
      "metadata": {
        "colab": {
          "base_uri": "https://localhost:8080/"
        },
        "id": "eaHwDtq202FD",
        "outputId": "4d57fd3d-0da6-415a-ecf6-9d4b1b670b4f"
      },
      "source": [
        "27 ** 1/3\n",
        "# Приоритет степени!!!"
      ],
      "execution_count": null,
      "outputs": [
        {
          "output_type": "execute_result",
          "data": {
            "text/plain": [
              "9.0"
            ]
          },
          "metadata": {},
          "execution_count": 14
        }
      ]
    },
    {
      "cell_type": "markdown",
      "metadata": {
        "id": "uyAidnA11M7p"
      },
      "source": [
        "Дополнения к ариф операторам"
      ]
    },
    {
      "cell_type": "code",
      "metadata": {
        "colab": {
          "base_uri": "https://localhost:8080/"
        },
        "id": "8T6cOaC41RFB",
        "outputId": "a081b184-d9fa-4034-9cbb-c75e0ebdc307"
      },
      "source": [
        "i = 5\n",
        "j = 3\n",
        "i = i + 1\n",
        "i += 1\n",
        "i *= 3\n",
        "print (i)"
      ],
      "execution_count": null,
      "outputs": [
        {
          "output_type": "stream",
          "name": "stdout",
          "text": [
            "21\n"
          ]
        }
      ]
    },
    {
      "cell_type": "code",
      "metadata": {
        "id": "kL9OO07X4Sd7"
      },
      "source": [
        ""
      ],
      "execution_count": null,
      "outputs": []
    },
    {
      "cell_type": "markdown",
      "metadata": {
        "id": "6OzYnBlou5Ih"
      },
      "source": [
        "#Занятие 5\n",
        "\n",
        "---\n",
        "\n",
        "\n",
        "Математические функции и работа с модулями\n",
        "\n",
        "\n",
        "---\n",
        "\n"
      ]
    },
    {
      "cell_type": "code",
      "metadata": {
        "colab": {
          "base_uri": "https://localhost:8080/"
        },
        "id": "Zb4YbM9nvDjH",
        "outputId": "ecd488ef-b5fc-4614-cb0b-e18c6daf28d3"
      },
      "source": [
        "abs(5)"
      ],
      "execution_count": null,
      "outputs": [
        {
          "output_type": "execute_result",
          "data": {
            "text/plain": [
              "5"
            ]
          },
          "metadata": {},
          "execution_count": 38
        }
      ]
    },
    {
      "cell_type": "code",
      "metadata": {
        "id": "zcYU_ptdvOX_"
      },
      "source": [
        "min(1,2,3,-5,-7,10)\n",
        "b = min(1,2,3,-5,-7,10)"
      ],
      "execution_count": null,
      "outputs": []
    },
    {
      "cell_type": "code",
      "metadata": {
        "colab": {
          "base_uri": "https://localhost:8080/"
        },
        "id": "A_ZruI9PvXWw",
        "outputId": "1b3e5c25-5182-4df2-d357-407884694023"
      },
      "source": [
        "max (1,4,5,12,-5)"
      ],
      "execution_count": null,
      "outputs": [
        {
          "output_type": "execute_result",
          "data": {
            "text/plain": [
              "12"
            ]
          },
          "metadata": {},
          "execution_count": 40
        }
      ]
    },
    {
      "cell_type": "code",
      "metadata": {
        "colab": {
          "base_uri": "https://localhost:8080/",
          "height": 183
        },
        "id": "sIBxymtzvcfd",
        "outputId": "62ff172a-4e0e-405d-da6b-56a5b6c17e9b"
      },
      "source": [
        "min()\n",
        "#Нельзя запускать без аргумента"
      ],
      "execution_count": null,
      "outputs": [
        {
          "output_type": "error",
          "ename": "TypeError",
          "evalue": "ignored",
          "traceback": [
            "\u001b[0;31m---------------------------------------------------------------------------\u001b[0m",
            "\u001b[0;31mTypeError\u001b[0m                                 Traceback (most recent call last)",
            "\u001b[0;32m<ipython-input-36-7221b1611e9b>\u001b[0m in \u001b[0;36m<module>\u001b[0;34m()\u001b[0m\n\u001b[0;32m----> 1\u001b[0;31m \u001b[0mmin\u001b[0m\u001b[0;34m(\u001b[0m\u001b[0;34m)\u001b[0m\u001b[0;34m\u001b[0m\u001b[0;34m\u001b[0m\u001b[0m\n\u001b[0m\u001b[1;32m      2\u001b[0m \u001b[0;31m#Нельзя запускать без аргумента\u001b[0m\u001b[0;34m\u001b[0m\u001b[0;34m\u001b[0m\u001b[0;34m\u001b[0m\u001b[0m\n",
            "\u001b[0;31mTypeError\u001b[0m: min expected 1 arguments, got 0"
          ]
        }
      ]
    },
    {
      "cell_type": "code",
      "metadata": {
        "colab": {
          "base_uri": "https://localhost:8080/"
        },
        "id": "GE8Pi_NivgV1",
        "outputId": "d1cab26a-2f6b-4e19-a58d-8bd11a2507d4"
      },
      "source": [
        "#Возведение в степень через фунцию\n",
        "pow(3,5)"
      ],
      "execution_count": null,
      "outputs": [
        {
          "output_type": "execute_result",
          "data": {
            "text/plain": [
              "243"
            ]
          },
          "metadata": {},
          "execution_count": 41
        }
      ]
    },
    {
      "cell_type": "code",
      "metadata": {
        "colab": {
          "base_uri": "https://localhost:8080/"
        },
        "id": "VaW_XmKIvp4i",
        "outputId": "4a721de6-2502-4aec-8856-e35ce68f002d"
      },
      "source": [
        "#Возведение в степпень\n",
        "pow(144, 0.5)\n"
      ],
      "execution_count": null,
      "outputs": [
        {
          "output_type": "execute_result",
          "data": {
            "text/plain": [
              "12.0"
            ]
          },
          "metadata": {},
          "execution_count": 43
        }
      ]
    },
    {
      "cell_type": "code",
      "source": [
        ""
      ],
      "metadata": {
        "id": "6f-GnGrlnDgL"
      },
      "execution_count": null,
      "outputs": []
    },
    {
      "cell_type": "code",
      "metadata": {
        "id": "rCkYGib1vv26"
      },
      "source": [
        "#Округление\n",
        "round(1.5)\n",
        "round(10.5)\n",
        "round(10.500001)\n",
        "round(12.4444444, 3)\n",
        "round(1234143214, -5)"
      ],
      "execution_count": null,
      "outputs": []
    },
    {
      "cell_type": "code",
      "metadata": {
        "id": "v6qeqpWbwjRy"
      },
      "source": [
        "# abs() min() max() pow() round()\n",
        "max(1,2, abs(min(10,4,-4,5)))\n"
      ],
      "execution_count": null,
      "outputs": []
    },
    {
      "cell_type": "code",
      "metadata": {
        "id": "BM5UleK-wzPp"
      },
      "source": [
        "#Модуль math\n",
        "import math\n",
        "math.ceil(5.2) #Округление в большую сторону"
      ],
      "execution_count": null,
      "outputs": []
    },
    {
      "cell_type": "code",
      "metadata": {
        "id": "SC-xvo5IxJ0r"
      },
      "source": [
        "math.floor(-3.3) #Округление до наименьшего целого"
      ],
      "execution_count": null,
      "outputs": []
    },
    {
      "cell_type": "code",
      "metadata": {
        "id": "7wlB7Rk5xVal"
      },
      "source": [
        "math.factorial(12)"
      ],
      "execution_count": null,
      "outputs": []
    },
    {
      "cell_type": "code",
      "metadata": {
        "id": "J2qn5hA8xaOR"
      },
      "source": [
        "math.trunc(5.654)\n",
        "#Отбрасывает дробную часть\n",
        "#аналог\n",
        "int(5.634)"
      ],
      "execution_count": null,
      "outputs": []
    },
    {
      "cell_type": "code",
      "metadata": {
        "id": "TMQZg1_R10UN"
      },
      "source": [
        "#Логарифмы\n",
        "math.log2(4)\n",
        "math.log10(100)\n",
        "math.log(2.7)"
      ],
      "execution_count": null,
      "outputs": []
    },
    {
      "cell_type": "code",
      "metadata": {
        "id": "iQwxWHCG2M7Y"
      },
      "source": [
        "math.sqrt(169)"
      ],
      "execution_count": null,
      "outputs": []
    },
    {
      "cell_type": "code",
      "metadata": {
        "id": "mCAm7kZ-2RP7"
      },
      "source": [
        "math.sin(0)\n",
        "math.cos(0)"
      ],
      "execution_count": null,
      "outputs": []
    },
    {
      "cell_type": "code",
      "metadata": {
        "id": "jloxLpL02ZmF"
      },
      "source": [
        "math.pi"
      ],
      "execution_count": null,
      "outputs": []
    },
    {
      "cell_type": "code",
      "metadata": {
        "id": "dWNSEw5e2dkg"
      },
      "source": [
        "math.e"
      ],
      "execution_count": null,
      "outputs": []
    },
    {
      "cell_type": "markdown",
      "metadata": {
        "id": "Sst_fHFp2lMd"
      },
      "source": [
        "\n",
        "\n",
        "\n",
        "# Занятие 6\n",
        "---\n",
        "Функции print() и input()\n",
        "---"
      ]
    },
    {
      "cell_type": "code",
      "metadata": {
        "colab": {
          "base_uri": "https://localhost:8080/"
        },
        "id": "tKEtyl6M21Pc",
        "outputId": "3ce2c269-ff72-4d58-c571-62a7fb728bd8"
      },
      "source": [
        "a = 12.34343\n",
        "print(a * 8 * 0.5)"
      ],
      "execution_count": null,
      "outputs": [
        {
          "output_type": "stream",
          "name": "stdout",
          "text": [
            "49.37372\n"
          ]
        }
      ]
    },
    {
      "cell_type": "code",
      "metadata": {
        "colab": {
          "base_uri": "https://localhost:8080/"
        },
        "id": "RtQ3Fx4C2_sN",
        "outputId": "b840439d-e3c2-4d45-a1bc-e1efe9db22ee"
      },
      "source": [
        "print('hello')"
      ],
      "execution_count": null,
      "outputs": [
        {
          "output_type": "stream",
          "name": "stdout",
          "text": [
            "hello\n"
          ]
        }
      ]
    },
    {
      "cell_type": "code",
      "metadata": {
        "colab": {
          "base_uri": "https://localhost:8080/"
        },
        "id": "8kcoX25d3Dhe",
        "outputId": "29417f06-ad33-4955-e923-996cef179828"
      },
      "source": [
        "#Именованные параметры sep и end\n",
        "a = 4\n",
        "b = 23\n",
        "c = 1\n",
        "print(a,b,c)\n",
        "print(a,b,c, sep = \"'\")"
      ],
      "execution_count": null,
      "outputs": [
        {
          "output_type": "stream",
          "name": "stdout",
          "text": [
            "4 23 1\n",
            "4'23'1\n"
          ]
        }
      ]
    },
    {
      "cell_type": "code",
      "metadata": {
        "colab": {
          "base_uri": "https://localhost:8080/"
        },
        "id": "4JHep85j3jfB",
        "outputId": "e95ae1f5-e6db-44a7-94bc-6eb9e6242666"
      },
      "source": [
        "print('hello')\n",
        "print('world')\n",
        "\n",
        "print('hello', end = '___')\n",
        "print('world')\n",
        "#По умолчанию end = \\n"
      ],
      "execution_count": null,
      "outputs": [
        {
          "output_type": "stream",
          "name": "stdout",
          "text": [
            "hello\n",
            "world\n",
            "hello___world\n"
          ]
        }
      ]
    },
    {
      "cell_type": "code",
      "metadata": {
        "colab": {
          "base_uri": "https://localhost:8080/"
        },
        "id": "ObGmUcTij-D0",
        "outputId": "cf851ed4-929a-44e8-9167-1982062e9a3c"
      },
      "source": [
        "x = 5.98598\n",
        "y = 5.98948\n",
        "print(\"Координаты точки: x = \", x, \"; y = \", y, sep = \"\")"
      ],
      "execution_count": null,
      "outputs": [
        {
          "output_type": "stream",
          "name": "stdout",
          "text": [
            "Координаты точки: x = 5.98598; y = 5.98948\n"
          ]
        }
      ]
    },
    {
      "cell_type": "code",
      "metadata": {
        "colab": {
          "base_uri": "https://localhost:8080/"
        },
        "id": "3NQi5mBwklVp",
        "outputId": "a02f82f0-b50f-4eb1-b2c7-ac2482333eb1"
      },
      "source": [
        "#То же самое через F-строку\n",
        "\n",
        "print(f\"Координаты точки: x = {x}; y = {y}\")"
      ],
      "execution_count": null,
      "outputs": [
        {
          "output_type": "stream",
          "name": "stdout",
          "text": [
            "Координаты точки: x = 5.98598; y = 5.98948\n"
          ]
        }
      ]
    },
    {
      "cell_type": "code",
      "metadata": {
        "colab": {
          "base_uri": "https://localhost:8080/"
        },
        "id": "ivWtFnILlWmj",
        "outputId": "69f3994c-2cbd-4a5f-b899-f4cce1b18150"
      },
      "source": [
        "# INPUT\n",
        "\n",
        "a = input()\n",
        "print(a, type(a))\n",
        "\n",
        "#INPUT выводит все как строки"
      ],
      "execution_count": null,
      "outputs": [
        {
          "output_type": "stream",
          "name": "stdout",
          "text": [
            "1231231231\n",
            "1231231231 <class 'str'>\n"
          ]
        }
      ]
    },
    {
      "cell_type": "code",
      "metadata": {
        "colab": {
          "base_uri": "https://localhost:8080/"
        },
        "id": "jOD_68lolwLS",
        "outputId": "a10ab165-790a-4f9d-e6d7-4607f2db9697"
      },
      "source": [
        "a = int(input())\n",
        "b = abs(a)\n",
        "print(b)"
      ],
      "execution_count": null,
      "outputs": [
        {
          "output_type": "stream",
          "name": "stdout",
          "text": [
            "-123\n",
            "123\n"
          ]
        }
      ]
    },
    {
      "cell_type": "code",
      "metadata": {
        "colab": {
          "base_uri": "https://localhost:8080/"
        },
        "id": "iWyTs-D-mRtY",
        "outputId": "0fbc57c4-35bf-4f14-8524-a3b48e4a9d14"
      },
      "source": [
        "a = float(input())\n",
        "b = abs(a)\n",
        "print(b)"
      ],
      "execution_count": null,
      "outputs": [
        {
          "output_type": "stream",
          "name": "stdout",
          "text": [
            "-2.5\n",
            "2.5\n"
          ]
        }
      ]
    },
    {
      "cell_type": "code",
      "metadata": {
        "colab": {
          "base_uri": "https://localhost:8080/"
        },
        "id": "yj7ExXBMmbi0",
        "outputId": "3a04b60b-5e06-404c-ecfd-6d5a28ad4d0b"
      },
      "source": [
        "# Вычисление преиметра прямоугольника\n",
        "\n",
        "a = float(input(\"Длина прямоугольника  =  \"))\n",
        "b = float(input(\"Ширина прямоугольника  =  \"))\n",
        "print(\"Perimeter: \", 2* (a+b))"
      ],
      "execution_count": null,
      "outputs": [
        {
          "output_type": "stream",
          "name": "stdout",
          "text": [
            "Длина прямоугольника  =  876\n",
            "Ширина прямоугольника  =  87\n",
            "Perimeter:  1926.0\n"
          ]
        }
      ]
    },
    {
      "cell_type": "code",
      "metadata": {
        "colab": {
          "base_uri": "https://localhost:8080/"
        },
        "id": "Yi44tqss5NEu",
        "outputId": "15783137-eeae-4415-de4e-9dd81fe1a8e2"
      },
      "source": [
        "# Конструкция с map!!!!!!!\n",
        "\n",
        "a, b = map (float, input(\"Введите две стороны прямоугольника: \").split())\n",
        "print (\"Периметр = \", 2 * (a+b))"
      ],
      "execution_count": null,
      "outputs": [
        {
          "output_type": "stream",
          "name": "stdout",
          "text": [
            "Введите две стороны прямоугольника: 23 23\n",
            "Периметр =  92.0\n"
          ]
        }
      ]
    },
    {
      "cell_type": "code",
      "metadata": {
        "colab": {
          "base_uri": "https://localhost:8080/"
        },
        "id": "BZe5M1Om7Egf",
        "outputId": "10ecdf5b-0c9f-4cf0-86e2-010d7ba82322"
      },
      "source": [
        " #Конструкция с map!!!!!!!\n",
        " #Периметр треугольника\n",
        "\n",
        "a, b, c = map (float, input(\"Введите стороны треугольника: \").split())\n",
        "print (\"Периметр = \",  a+b+c)"
      ],
      "execution_count": null,
      "outputs": [
        {
          "output_type": "stream",
          "name": "stdout",
          "text": [
            "Введите стороны треугольника: 4.5 7.6 0\n",
            "Периметр =  12.1\n"
          ]
        }
      ]
    },
    {
      "cell_type": "markdown",
      "metadata": {
        "id": "Fb_IxexBXckA"
      },
      "source": [
        "#Занятие 7\n",
        "---\n",
        "Логический тип bool. Операторы сравнения и операторы and, or, not\n",
        "---"
      ]
    },
    {
      "cell_type": "code",
      "metadata": {
        "colab": {
          "base_uri": "https://localhost:8080/"
        },
        "id": "PD_96MpZXzIp",
        "outputId": "72973d59-1f88-4411-f965-ddd97377bba9"
      },
      "source": [
        "#True - истина\n",
        "#False - ложь\n",
        "4 > 7"
      ],
      "execution_count": null,
      "outputs": [
        {
          "output_type": "execute_result",
          "data": {
            "text/plain": [
              "False"
            ]
          },
          "metadata": {},
          "execution_count": 2
        }
      ]
    },
    {
      "cell_type": "code",
      "metadata": {
        "colab": {
          "base_uri": "https://localhost:8080/"
        },
        "id": "Qf9xDqmtYSwr",
        "outputId": "28f1bee5-3885-4644-9f2f-c66eac8d510e"
      },
      "source": [
        "a = 5\n",
        "b = 7.8\n",
        "a <= b\n",
        "rs = a <= b\n",
        "print(rs)\n",
        "type (rs)"
      ],
      "execution_count": null,
      "outputs": [
        {
          "output_type": "stream",
          "name": "stdout",
          "text": [
            "True\n"
          ]
        },
        {
          "output_type": "execute_result",
          "data": {
            "text/plain": [
              "bool"
            ]
          },
          "metadata": {},
          "execution_count": 8
        }
      ]
    },
    {
      "cell_type": "markdown",
      "source": [
        "# Занятие 8\n",
        "---\n",
        "Введение в строки\n",
        "---\n"
      ],
      "metadata": {
        "id": "QOH5x5JyQr4v"
      }
    },
    {
      "cell_type": "code",
      "metadata": {
        "colab": {
          "base_uri": "https://localhost:8080/"
        },
        "id": "cajmEt51Y-u1",
        "outputId": "1c07c557-a1d0-42bd-f299-f71a770e17b5"
      },
      "source": [
        "5==7-2"
      ],
      "execution_count": null,
      "outputs": [
        {
          "output_type": "execute_result",
          "data": {
            "text/plain": [
              "True"
            ]
          },
          "metadata": {},
          "execution_count": 18
        }
      ]
    },
    {
      "cell_type": "code",
      "metadata": {
        "id": "SrgnLY0GY33X",
        "colab": {
          "base_uri": "https://localhost:8080/",
          "height": 35
        },
        "outputId": "6b02389f-b5fb-45e4-fda2-fe7338fcca79"
      },
      "source": [
        "'''\n",
        "#Операторы сравнения\n",
        "< \n",
        ">\n",
        "<=\n",
        ">=\n",
        "==\n",
        "!=\n",
        "'''"
      ],
      "execution_count": null,
      "outputs": [
        {
          "output_type": "execute_result",
          "data": {
            "application/vnd.google.colaboratory.intrinsic+json": {
              "type": "string"
            },
            "text/plain": [
              "'\\n#Операторы сравнения\\n< \\n>\\n<=\\n>=\\n==\\n!=\\n'"
            ]
          },
          "metadata": {},
          "execution_count": 20
        }
      ]
    },
    {
      "cell_type": "code",
      "source": [
        "s1 = \"панда\"\n",
        "s2 = 'Pands'\n",
        "\n",
        "print(s1)\n",
        "print(s2)\n",
        "\n",
        "#Запомнить символ \\n\n",
        "\n",
        "s1 = \"Я люблю \"\n",
        "s2 = \"язык Python\"\n",
        "s1 + s2 + \" \" + str(5+2)\n",
        "\"воу \" * 3 + \"палехч\"\n",
        "len(\"палехч\")\n",
        "asd = \"Proverka\"\n",
        "print(len(asd))\n",
        "print(\"Pro\" in asd)\n",
        "print(asd == \"Proverka\")\n",
        "print(asd != \"Proverka\")\n",
        "\n",
        "print('asd' > 'sda')\n",
        "\n",
        "print(ord(\"&\")) #Вывод кода символа\n",
        "\n"
      ],
      "metadata": {
        "colab": {
          "base_uri": "https://localhost:8080/"
        },
        "outputId": "7325c4e0-975f-481d-a478-d7cf8d259be9",
        "id": "3b1ZL4wGBrWg"
      },
      "execution_count": null,
      "outputs": [
        {
          "output_type": "stream",
          "name": "stdout",
          "text": [
            "панда\n",
            "Pands\n",
            "8\n",
            "True\n",
            "True\n",
            "False\n",
            "False\n",
            "38\n"
          ]
        }
      ]
    },
    {
      "cell_type": "markdown",
      "source": [
        "#16 Вложенные списки\n",
        "\n"
      ],
      "metadata": {
        "id": "kg2a6KH3FyLG"
      }
    },
    {
      "cell_type": "code",
      "source": [
        "line = [1, 7, 6, 11, 3]\n",
        "img = [[1, 7, 6, 11, 3],[1, 7, 6, 11, 3],[1, 7, 6, 11, 3],[1, 7, 6, 11, 3],[1, 7, 6, 11, 3]]\n",
        "img"
      ],
      "metadata": {
        "id": "ExC04jq6F63b",
        "colab": {
          "base_uri": "https://localhost:8080/"
        },
        "outputId": "d52ccbe8-fe20-46f1-a49e-d9bb1a39439e"
      },
      "execution_count": null,
      "outputs": [
        {
          "output_type": "execute_result",
          "data": {
            "text/plain": [
              "[[1, 7, 6, 11, 3],\n",
              " [1, 7, 6, 11, 3],\n",
              " [1, 7, 6, 11, 3],\n",
              " [1, 7, 6, 11, 3],\n",
              " [1, 7, 6, 11, 3]]"
            ]
          },
          "metadata": {},
          "execution_count": 24
        }
      ]
    },
    {
      "cell_type": "code",
      "source": [
        "img = [line[:], line[:],line[:],line[:],line[:]]\n",
        "img\n",
        "# Ссылки на вложенные списки"
      ],
      "metadata": {
        "id": "_xDcBPnWJGRS",
        "outputId": "49aacb00-b24e-4518-a10d-4b3cfac7e43d",
        "colab": {
          "base_uri": "https://localhost:8080/"
        }
      },
      "execution_count": null,
      "outputs": [
        {
          "output_type": "execute_result",
          "data": {
            "text/plain": [
              "[[1, 7, 6, 11, 3],\n",
              " [1, 7, 6, 11, 3],\n",
              " [1, 7, 6, 11, 3],\n",
              " [1, 7, 6, 11, 3],\n",
              " [1, 7, 6, 11, 3]]"
            ]
          },
          "metadata": {},
          "execution_count": 25
        }
      ]
    },
    {
      "cell_type": "code",
      "source": [
        "img[0][1]\n",
        "img[1] = [0,0,0,0,0]\n",
        "img[1] = [0] * 5\n",
        "img[1][:] = [1]*5\n",
        "img"
      ],
      "metadata": {
        "id": "1g0UwvwmJVqC",
        "outputId": "77fdc315-f8fa-4081-db5a-b4dbd07c6298",
        "colab": {
          "base_uri": "https://localhost:8080/"
        }
      },
      "execution_count": null,
      "outputs": [
        {
          "output_type": "execute_result",
          "data": {
            "text/plain": [
              "[[1, 7, 6, 11, 3],\n",
              " [1, 1, 1, 1, 1],\n",
              " [1, 7, 6, 11, 3],\n",
              " [1, 7, 6, 11, 3],\n",
              " [1, 7, 6, 11, 3]]"
            ]
          },
          "metadata": {},
          "execution_count": 26
        }
      ]
    },
    {
      "cell_type": "code",
      "source": [
        "img[1][3]"
      ],
      "metadata": {
        "id": "EnFQCSvVL09L",
        "outputId": "7e2bb3a7-b2a0-42a4-d424-df256274491d",
        "colab": {
          "base_uri": "https://localhost:8080/"
        }
      },
      "execution_count": null,
      "outputs": [
        {
          "output_type": "execute_result",
          "data": {
            "text/plain": [
              "1"
            ]
          },
          "metadata": {},
          "execution_count": 27
        }
      ]
    },
    {
      "cell_type": "markdown",
      "source": [
        "# 17 Условный оператор"
      ],
      "metadata": {
        "id": "ZGIEM-ogMGlI"
      }
    },
    {
      "cell_type": "code",
      "source": [
        "#@title\n",
        "# if - условный оператор ветвления\n",
        "x = -4\n",
        "if x < 0:\n",
        "  x = -x\n",
        "\n",
        "print(x)"
      ],
      "metadata": {
        "id": "AkZjy189MMaE",
        "outputId": "24fd8b7f-0030-4807-9cf5-59c01c3f722f",
        "colab": {
          "base_uri": "https://localhost:8080/"
        }
      },
      "execution_count": null,
      "outputs": [
        {
          "output_type": "stream",
          "name": "stdout",
          "text": [
            "4\n"
          ]
        }
      ]
    },
    {
      "cell_type": "code",
      "source": [
        "a = float(input(\"a = :\"))\n",
        "b = float(input(\"b = :\"))\n",
        "if a<b:\n",
        "  a,b = b,a\n",
        "print(a,b)"
      ],
      "metadata": {
        "colab": {
          "base_uri": "https://localhost:8080/"
        },
        "id": "ZrGfYwpDOe7z",
        "outputId": "46796797-1303-462b-e3f4-d0bd68aafb36"
      },
      "execution_count": null,
      "outputs": [
        {
          "output_type": "stream",
          "name": "stdout",
          "text": [
            "a = :12\n",
            "b = :13\n",
            "13.0 12.0\n"
          ]
        }
      ]
    },
    {
      "cell_type": "code",
      "source": [
        "x = int(input())\n",
        "if x>=-4 and x <= 10:\n",
        "  print (\" x в диапазоне [-4;10]\")"
      ],
      "metadata": {
        "colab": {
          "base_uri": "https://localhost:8080/"
        },
        "id": "biI9Slo_O5ZY",
        "outputId": "f0637490-bea3-4e00-d533-bdb16177d6c4"
      },
      "execution_count": null,
      "outputs": [
        {
          "output_type": "stream",
          "name": "stdout",
          "text": [
            "6\n",
            " x в диапазоне [-4;10]\n"
          ]
        }
      ]
    },
    {
      "cell_type": "code",
      "source": [
        "x = int(input())\n",
        "if x:\n",
        "    print (\" x True\")\n"
      ],
      "metadata": {
        "colab": {
          "base_uri": "https://localhost:8080/"
        },
        "id": "Lo7aD00PPSRj",
        "outputId": "50598a10-5fe2-49ee-fc5e-9ca4881a5552"
      },
      "execution_count": null,
      "outputs": [
        {
          "name": "stdout",
          "output_type": "stream",
          "text": [
            "0\n"
          ]
        }
      ]
    },
    {
      "cell_type": "code",
      "source": [
        "marks = [3,3,4,5,4]\n",
        "if 2 in marks:\n",
        "  print (\"Студент будет отчислен\")\n",
        "else:\n",
        "  print(\"Студент успешно сдал сессию\")"
      ],
      "metadata": {
        "colab": {
          "base_uri": "https://localhost:8080/"
        },
        "id": "VAhI-W2fPjma",
        "outputId": "ad699b69-ead0-4f59-8a62-8474917d672a"
      },
      "execution_count": null,
      "outputs": [
        {
          "output_type": "stream",
          "name": "stdout",
          "text": [
            "Студент успешно сдал сессию\n"
          ]
        }
      ]
    },
    {
      "cell_type": "code",
      "source": [
        "x = int(input(\"Введите целое число\"))\n",
        "if x % 2 == 0:\n",
        "  print(\"x - четное\")\n",
        "else:\n",
        "  print(\"x - не четное\")\n"
      ],
      "metadata": {
        "colab": {
          "base_uri": "https://localhost:8080/"
        },
        "id": "uWgvHqKkQE7P",
        "outputId": "9baae5b3-aafa-41a3-ec30-efea0a36eb8c"
      },
      "execution_count": null,
      "outputs": [
        {
          "output_type": "stream",
          "name": "stdout",
          "text": [
            "Введите целое число23\n",
            "x - не четное\n"
          ]
        }
      ]
    },
    {
      "cell_type": "code",
      "source": [
        "x = int(input(\"Введите целое число\"))\n",
        "if x <0:\n",
        "  print(\"x - отрицательное число\")\n",
        "else:\n",
        "  print(\"x - не отрицательное число\")"
      ],
      "metadata": {
        "colab": {
          "base_uri": "https://localhost:8080/"
        },
        "id": "rVURsNr6QmMi",
        "outputId": "f22df25d-30e1-4cb5-d233-7460f310937d"
      },
      "execution_count": null,
      "outputs": [
        {
          "output_type": "stream",
          "name": "stdout",
          "text": [
            "Введите целое число12\n",
            "x - не отрицательное число\n"
          ]
        }
      ]
    },
    {
      "cell_type": "markdown",
      "source": [
        "#18 Вложенные условия и множественный выбор\n"
      ],
      "metadata": {
        "id": "WJR1xcGMQ-Su"
      }
    },
    {
      "cell_type": "code",
      "source": [
        "x = int(input())\n",
        "if x % 2 == 0:\n",
        "  if 0 <= x <= 9:\n",
        "    print(\"x - цифра\")\n",
        "  else:\n",
        "    print(\" ч - число\")\n",
        "else:\n",
        "  print(\"Х - нечетное число\")"
      ],
      "metadata": {
        "colab": {
          "base_uri": "https://localhost:8080/"
        },
        "id": "MOAoxUUlSUl0",
        "outputId": "1dcdbb22-6ec2-40fd-e3c1-3dca3ef6bf91"
      },
      "execution_count": null,
      "outputs": [
        {
          "output_type": "stream",
          "name": "stdout",
          "text": [
            "11\n",
            "Х - нечетное число\n"
          ]
        }
      ]
    },
    {
      "cell_type": "code",
      "source": [
        "# сравнение трех чисел\n",
        "a = int(input(\"а = :\"))\n",
        "b = int(input(\"b = :\"))\n",
        "c = int(input(\"c = :\"))\n",
        "if a > b:\n",
        "  if a > c: \n",
        "    print(\"a - max\")\n",
        "  else:\n",
        "    print(\"c - max\")\n",
        "else:\n",
        "  if b > c:\n",
        "    print (\"b - max\")\n",
        "  else:\n",
        "    print(\"c - max\")\n"
      ],
      "metadata": {
        "id": "9dJDDKU2Ubwv",
        "outputId": "b0e257b0-c9f0-41a5-e47d-f0d76490276d",
        "colab": {
          "base_uri": "https://localhost:8080/"
        }
      },
      "execution_count": null,
      "outputs": [
        {
          "output_type": "stream",
          "name": "stdout",
          "text": [
            "а = :12\n",
            "b = :444\n",
            "c = :1212121\n",
            "c - max\n"
          ]
        }
      ]
    },
    {
      "cell_type": "code",
      "source": [
        "# ELIF\n",
        "item = int(input(\"Выберите пункт :\"))\n",
        "if item == 1:\n",
        "  print(\"1\")\n",
        "elif item == 2:\n",
        "  print(\"2\")\n",
        "elif item == 3:\n",
        "  print(\"3\")\n",
        "elif item == 4:\n",
        "  print(\"4\")\n",
        "else: print(\"Ничего\")\n"
      ],
      "metadata": {
        "id": "kSpzu8vfVy0o",
        "outputId": "9b2961e5-e178-4c88-9e3a-6db4be937aef",
        "colab": {
          "base_uri": "https://localhost:8080/"
        }
      },
      "execution_count": null,
      "outputs": [
        {
          "output_type": "stream",
          "name": "stdout",
          "text": [
            "Выберите пункт :3\n",
            "3\n"
          ]
        }
      ]
    },
    {
      "cell_type": "markdown",
      "source": [
        "# 19 Тернарный условный оператор\n"
      ],
      "metadata": {
        "id": "QcSjSjl4D5-T"
      }
    },
    {
      "cell_type": "code",
      "source": [
        "a = 12\n",
        "b = 7\n",
        "if a > b:\n",
        "  res = a\n",
        "else:\n",
        "  res = b\n",
        "print(res)\n"
      ],
      "metadata": {
        "colab": {
          "base_uri": "https://localhost:8080/"
        },
        "id": "ajs50sLPHUPc",
        "outputId": "a2ad011c-87dd-46f0-e585-4e9c0e5c2541"
      },
      "execution_count": null,
      "outputs": [
        {
          "output_type": "stream",
          "name": "stdout",
          "text": [
            "12\n"
          ]
        }
      ]
    },
    {
      "cell_type": "code",
      "source": [
        "res = a if a > b else b\n",
        "print(res)\n",
        "# Тернарный оператор присваивает значения, нет внутренних блоков"
      ],
      "metadata": {
        "colab": {
          "base_uri": "https://localhost:8080/"
        },
        "id": "H9N9tSuDHyOg",
        "outputId": "c6bf31ba-7d36-451f-feab-bf14ff01f4c0"
      },
      "execution_count": null,
      "outputs": [
        {
          "output_type": "stream",
          "name": "stdout",
          "text": [
            "12\n"
          ]
        }
      ]
    },
    {
      "cell_type": "code",
      "source": [
        "res = a +3  if a > b else b * 8\n",
        "print(res)"
      ],
      "metadata": {
        "colab": {
          "base_uri": "https://localhost:8080/"
        },
        "id": "NN_PKta-IVPI",
        "outputId": "930c6a0b-d43a-4825-df90-18743c25e9eb"
      },
      "execution_count": null,
      "outputs": [
        {
          "output_type": "stream",
          "name": "stdout",
          "text": [
            "15\n"
          ]
        }
      ]
    },
    {
      "cell_type": "code",
      "source": [
        "res = print(a)  if a > b else b * 8\n",
        "print(res)"
      ],
      "metadata": {
        "colab": {
          "base_uri": "https://localhost:8080/"
        },
        "id": "vaVXmSG8Ikr8",
        "outputId": "a3880e6c-1f6c-4da0-b6ae-dff303646835"
      },
      "execution_count": null,
      "outputs": [
        {
          "output_type": "stream",
          "name": "stdout",
          "text": [
            "12\n",
            "None\n"
          ]
        }
      ]
    },
    {
      "cell_type": "code",
      "source": [
        "s = \"Большие буквы\"\n",
        "t = \"vfktymrbt ,erds\"\n",
        "\n",
        "res  = s.upper() if s == \"Большие буквы\" else t\n",
        "print(res)"
      ],
      "metadata": {
        "colab": {
          "base_uri": "https://localhost:8080/"
        },
        "id": "kyeWRtRZI3d2",
        "outputId": "3141e323-9839-475f-d670-d9dd9f2189c7"
      },
      "execution_count": null,
      "outputs": [
        {
          "output_type": "stream",
          "name": "stdout",
          "text": [
            "БОЛЬШИЕ БУКВЫ\n"
          ]
        }
      ]
    },
    {
      "cell_type": "code",
      "source": [
        "a = 7\n",
        "b = 12\n",
        "[1, 2,a if a < b else b , 4,5]"
      ],
      "metadata": {
        "colab": {
          "base_uri": "https://localhost:8080/"
        },
        "id": "70SK_UTmKAhr",
        "outputId": "6d81d103-57c7-4cba-c007-6ff897c27496"
      },
      "execution_count": null,
      "outputs": [
        {
          "output_type": "execute_result",
          "data": {
            "text/plain": [
              "[1, 2, 7, 4, 5]"
            ]
          },
          "metadata": {},
          "execution_count": 15
        }
      ]
    },
    {
      "cell_type": "code",
      "source": [
        "a = int(input(\"Введите целое число a: \"))\n",
        "print(\"a - \" + (\"чётное \" if a % 2 == 0 else \"нечётное \") + \"число.\")"
      ],
      "metadata": {
        "colab": {
          "base_uri": "https://localhost:8080/"
        },
        "id": "lb0cCZgtI4sw",
        "outputId": "49d1880a-f9e7-46d1-e9a8-3975d2d91143"
      },
      "execution_count": null,
      "outputs": [
        {
          "output_type": "stream",
          "name": "stdout",
          "text": [
            "Введите целое число a: 121\n",
            "a - нечётное число.\n"
          ]
        }
      ]
    },
    {
      "cell_type": "code",
      "source": [
        "a = -17\n",
        "b = 23\n",
        "max (1, 2, 3, a if a > 0 else b, 5, 3)"
      ],
      "metadata": {
        "colab": {
          "base_uri": "https://localhost:8080/"
        },
        "id": "fBZqPKGAMXc2",
        "outputId": "af436aae-293c-49bd-a2e5-c71d0b7a69bd"
      },
      "execution_count": null,
      "outputs": [
        {
          "output_type": "execute_result",
          "data": {
            "text/plain": [
              "23"
            ]
          },
          "metadata": {},
          "execution_count": 23
        }
      ]
    },
    {
      "cell_type": "code",
      "source": [
        "# Поиск наибольшего числа через тернарных операторов\n",
        "a = 4 \n",
        "b = 7 \n",
        "c = -7\n",
        "\n",
        "d = (a if a > c else c) if a > b else (b if b > c else c)\n",
        "d\n"
      ],
      "metadata": {
        "colab": {
          "base_uri": "https://localhost:8080/"
        },
        "id": "MFWq3X7KM_Xq",
        "outputId": "6ed9c508-2b00-4c6a-fbeb-e14528a790b0"
      },
      "execution_count": null,
      "outputs": [
        {
          "data": {
            "text/plain": [
              "7"
            ]
          },
          "execution_count": null,
          "metadata": {},
          "output_type": "execute_result"
        }
      ]
    },
    {
      "cell_type": "markdown",
      "source": [
        "#20 While оператор цикла\n"
      ],
      "metadata": {
        "id": "Wr9_OnWeTALA"
      }
    },
    {
      "cell_type": "code",
      "source": [
        "# сумма 1, 2, 3, 4, ....., n\n",
        "s = 0\n",
        "i = 1\n",
        "N = 1000\n",
        "while i <= N:\n",
        "  s += i\n",
        "  i += 1\n",
        "print(s)\n"
      ],
      "metadata": {
        "colab": {
          "base_uri": "https://localhost:8080/"
        },
        "id": "Rooc-CtATF4X",
        "outputId": "c9d6cfe6-12bd-464f-fdeb-e9ffc9ffa14f"
      },
      "execution_count": null,
      "outputs": [
        {
          "output_type": "stream",
          "name": "stdout",
          "text": [
            "500500\n"
          ]
        }
      ]
    },
    {
      "cell_type": "code",
      "source": [
        "# сумма 1, 2, 3, 4, ....., n\n",
        "s = 0\n",
        "i = 1\n",
        "N = 1000\n",
        "while i <= N and i <= 50:\n",
        "  s += i\n",
        "  i += 1\n",
        "print(s) "
      ],
      "metadata": {
        "colab": {
          "base_uri": "https://localhost:8080/"
        },
        "id": "GQJVOYm-UJyJ",
        "outputId": "9bcd245e-cdeb-4047-95eb-d797b63f65ba"
      },
      "execution_count": null,
      "outputs": [
        {
          "output_type": "stream",
          "name": "stdout",
          "text": [
            "1275\n"
          ]
        }
      ]
    },
    {
      "cell_type": "code",
      "source": [
        "s = 0\n",
        "i = 1\n",
        "N = 1000\n",
        "while i <= N and i <= 50:\n",
        "  s += i\n",
        "  i += 2\n",
        "print(s) "
      ],
      "metadata": {
        "colab": {
          "base_uri": "https://localhost:8080/"
        },
        "id": "Y0rDesVKUcpd",
        "outputId": "3d73798e-28c8-45e9-c50d-b576fc5108fd"
      },
      "execution_count": null,
      "outputs": [
        {
          "output_type": "stream",
          "name": "stdout",
          "text": [
            "625\n"
          ]
        }
      ]
    },
    {
      "cell_type": "code",
      "source": [
        "i = 1\n",
        "while i < 10:\n",
        "  print(i)\n",
        "  i += 1"
      ],
      "metadata": {
        "colab": {
          "base_uri": "https://localhost:8080/"
        },
        "id": "x-CcfnknU3-k",
        "outputId": "5cf757e8-7e41-4e5d-b517-6321b85d7206"
      },
      "execution_count": null,
      "outputs": [
        {
          "output_type": "stream",
          "name": "stdout",
          "text": [
            "1\n",
            "2\n",
            "3\n",
            "4\n",
            "5\n",
            "6\n",
            "7\n",
            "8\n",
            "9\n"
          ]
        }
      ]
    },
    {
      "cell_type": "code",
      "source": [
        "N = 5\n",
        "i = -1\n",
        "while i >= -N:\n",
        "  print(i)\n",
        "  i -= 1"
      ],
      "metadata": {
        "colab": {
          "base_uri": "https://localhost:8080/"
        },
        "id": "5PLX4-urVW1x",
        "outputId": "ef597c36-7881-46f4-d0b5-938323f649c3"
      },
      "execution_count": null,
      "outputs": [
        {
          "output_type": "stream",
          "name": "stdout",
          "text": [
            "-1\n",
            "-2\n",
            "-3\n",
            "-4\n",
            "-5\n"
          ]
        }
      ]
    },
    {
      "cell_type": "code",
      "source": [
        "pass_true = \"password\"\n",
        "ps = \"\"\n",
        "while ps != pass_true:\n",
        "  ps = input(\"Введите пароль: \")\n",
        "print (\"Вход в систему выполнен успешно.\")"
      ],
      "metadata": {
        "colab": {
          "base_uri": "https://localhost:8080/"
        },
        "id": "II0tXCCmVjTv",
        "outputId": "b14f0abe-b199-400b-845a-7c997c23bdc7"
      },
      "execution_count": null,
      "outputs": [
        {
          "output_type": "stream",
          "name": "stdout",
          "text": [
            "Введите пароль: 12\n",
            "Введите пароль: Лшкшдд\n",
            "Введите пароль: password\n",
            "Вход в систему выполнен успешно.\n"
          ]
        }
      ]
    },
    {
      "cell_type": "code",
      "source": [
        "#Проверка ввода пароля со счетчиком попыток\n",
        "pass_true = \"password\"\n",
        "ps = \"\"\n",
        "m = 3\n",
        "while ps != pass_true and m > 0:\n",
        "  ps = input(\"Введите пароль: \")\n",
        "  m -= 1\n",
        "  if ps != pass_true and m > 0:\n",
        "    print(f\"Осталось {m} попытки(а). \")\n",
        "if ps == pass_true:\n",
        "  print(\"Вход в систему выполнен успешно.\")\n",
        "else:\n",
        "  print(\"Превышено количество попыток входа.\")\n",
        "  \n",
        "\n"
      ],
      "metadata": {
        "colab": {
          "base_uri": "https://localhost:8080/"
        },
        "id": "5RwvGts8WhEA",
        "outputId": "0b4586d7-b59f-41a6-ad42-47634b31ad5d"
      },
      "execution_count": null,
      "outputs": [
        {
          "output_type": "stream",
          "name": "stdout",
          "text": [
            "Введите пароль: 123\n",
            "Осталось 2 попытки(а). \n",
            "Введите пароль: к\n",
            "Осталось 1 попытки(а). \n",
            "Введите пароль: password\n",
            "Вход в систему выполнен успешно.\n"
          ]
        }
      ]
    },
    {
      "cell_type": "code",
      "source": [
        "N = 20\n",
        "i = 1\n",
        "while i <= N:\n",
        "  if i % 3 == 0:\n",
        "    print(i)\n",
        "\n",
        "  i += 1"
      ],
      "metadata": {
        "colab": {
          "base_uri": "https://localhost:8080/"
        },
        "id": "9zYFaalebtNN",
        "outputId": "93eb973a-b29e-40ed-efe5-5340b4b7628e"
      },
      "execution_count": null,
      "outputs": [
        {
          "output_type": "stream",
          "name": "stdout",
          "text": [
            "3\n",
            "6\n",
            "9\n",
            "12\n",
            "15\n",
            "18\n"
          ]
        }
      ]
    },
    {
      "cell_type": "markdown",
      "source": [
        "#21 Break и Continue для WHILE"
      ],
      "metadata": {
        "id": "CNxIw1ZVcLA-"
      }
    },
    {
      "cell_type": "code",
      "source": [
        "print(\"Запуск цикла\")\n",
        "\n",
        "i = 0\n",
        "while True:\n",
        "  i += 1\n",
        "  break\n",
        "print (\"Завершение цикла\")"
      ],
      "metadata": {
        "colab": {
          "base_uri": "https://localhost:8080/"
        },
        "id": "76GGJnancdYh",
        "outputId": "eafc55b1-5f41-4c93-ccf6-cf737d208a9b"
      },
      "execution_count": null,
      "outputs": [
        {
          "output_type": "stream",
          "name": "stdout",
          "text": [
            "Запуск цикла\n",
            "Завершение цикла\n"
          ]
        }
      ]
    },
    {
      "cell_type": "code",
      "source": [
        "print(\"Запуск цикла\") #Прерывание цикла при четном значении\n",
        "d = [3, 5, 7, 8, 11]\n",
        "flFind = False\n",
        "i = 0\n",
        "while i < len(d):\n",
        "  flFind = d[i] % 2 == 0\n",
        "  if flFind == True: #Можно записать  if flFind:\n",
        "    break\n",
        "\n",
        "  i += 1\n",
        "\n",
        "print (flFind)"
      ],
      "metadata": {
        "colab": {
          "base_uri": "https://localhost:8080/"
        },
        "id": "XYLdGKoTc9Pv",
        "outputId": "a55530f9-9324-41ef-d0a6-3ab03a0a8bc9"
      },
      "execution_count": null,
      "outputs": [
        {
          "output_type": "stream",
          "name": "stdout",
          "text": [
            "Запуск цикла\n",
            "True\n"
          ]
        }
      ]
    },
    {
      "cell_type": "code",
      "source": [
        "s = 0\n",
        "d = 1\n",
        "\n",
        "while d != 0:\n",
        "  d = int(input(\"Введите целое число: \"))\n",
        "  if d % 2 == 0:\n",
        "    continue\n",
        "  s += d\n",
        "  print(f\"Сумма нечётных равна = {s}\")"
      ],
      "metadata": {
        "colab": {
          "base_uri": "https://localhost:8080/"
        },
        "id": "5uNaNFLAey48",
        "outputId": "6716b2e9-8cd5-4b1b-812c-31746d90df36"
      },
      "execution_count": null,
      "outputs": [
        {
          "name": "stdout",
          "output_type": "stream",
          "text": [
            "Введите целое число: 3\n",
            "Сумма нечётных равна = 3\n",
            "Введите целое число: 2\n",
            "Введите целое число: 2\n",
            "Введите целое число: 7\n",
            "Сумма нечётных равна = 10\n",
            "Введите целое число: 12\n",
            "Введите целое число: 11\n",
            "Сумма нечётных равна = 21\n",
            "Введите целое число: 13\n",
            "Сумма нечётных равна = 34\n",
            "Введите целое число: 32\n",
            "Введите целое число: 2\n",
            "Введите целое число: 0\n"
          ]
        }
      ]
    },
    {
      "cell_type": "code",
      "source": [
        "#Нештатное срабатывание\n",
        "s = 0\n",
        "i = -10\n",
        "while i < 100:\n",
        "  if i == 0:\n",
        "    break\n",
        "  s += 1/i\n",
        "  i += 1\n",
        "else:\n",
        "  print (\"Сумма вычичлена корректно\")\n",
        "\n",
        "print(s)"
      ],
      "metadata": {
        "colab": {
          "base_uri": "https://localhost:8080/"
        },
        "id": "YRlOoCZInF7Y",
        "outputId": "f71c24c5-0c13-4274-dfb1-a8e4a9a47741"
      },
      "execution_count": null,
      "outputs": [
        {
          "output_type": "stream",
          "name": "stdout",
          "text": [
            "Сумма вычичлена корректно\n",
            "-2.9289682539682538\n"
          ]
        }
      ]
    },
    {
      "cell_type": "markdown",
      "source": [
        "#22 Оператор цикла FOR. Функция Range"
      ],
      "metadata": {
        "id": "50hOmXI9n4wO"
      }
    },
    {
      "cell_type": "code",
      "source": [
        "d = [1,2,3,4,5]\n",
        "for x in d:\n",
        "  print(x)"
      ],
      "metadata": {
        "colab": {
          "base_uri": "https://localhost:8080/"
        },
        "id": "Px_xyXEuoFXH",
        "outputId": "6b067916-8e4f-44d7-dc66-146810ed488f"
      },
      "execution_count": null,
      "outputs": [
        {
          "output_type": "stream",
          "name": "stdout",
          "text": [
            "1\n",
            "2\n",
            "3\n",
            "4\n",
            "5\n"
          ]
        }
      ]
    },
    {
      "cell_type": "code",
      "source": [
        "for x in \"piter\":\n",
        "  print(x)"
      ],
      "metadata": {
        "colab": {
          "base_uri": "https://localhost:8080/"
        },
        "id": "oWa9lGR8ocj0",
        "outputId": "92bb17db-cdc8-495e-b4df-ef53703d6ffe"
      },
      "execution_count": null,
      "outputs": [
        {
          "output_type": "stream",
          "name": "stdout",
          "text": [
            "p\n",
            "i\n",
            "t\n",
            "e\n",
            "r\n"
          ]
        }
      ]
    },
    {
      "cell_type": "code",
      "source": [
        "p = 1\n",
        "d = [1,2,3,4,5]\n",
        "for x in d:\n",
        "  p *= x\n",
        "\n",
        "print(p)"
      ],
      "metadata": {
        "colab": {
          "base_uri": "https://localhost:8080/"
        },
        "id": "8v8xSm2OpL--",
        "outputId": "962e7405-6f28-4353-c649-ab348f0c6b3b"
      },
      "execution_count": null,
      "outputs": [
        {
          "output_type": "stream",
          "name": "stdout",
          "text": [
            "120\n"
          ]
        }
      ]
    },
    {
      "cell_type": "code",
      "source": [
        "d = [1,2,3,4,5]\n",
        "for i in range(len(d)):\n",
        "  d[i] *= 2 \n",
        "print(d)"
      ],
      "metadata": {
        "colab": {
          "base_uri": "https://localhost:8080/"
        },
        "id": "Q43HfdqqprpN",
        "outputId": "efabe933-a3e7-42a1-e092-761c576f107b"
      },
      "execution_count": null,
      "outputs": [
        {
          "output_type": "stream",
          "name": "stdout",
          "text": [
            "[2, 4, 6, 8, 10]\n"
          ]
        }
      ]
    },
    {
      "cell_type": "code",
      "source": [
        "s = 0\n",
        "for i in range(2, 1001):\n",
        "  s += 1/i\n",
        "print(s)"
      ],
      "metadata": {
        "colab": {
          "base_uri": "https://localhost:8080/"
        },
        "id": "U6p2ythnrYKk",
        "outputId": "780967b0-b5b1-4340-8666-66819eafd576"
      },
      "execution_count": null,
      "outputs": [
        {
          "output_type": "stream",
          "name": "stdout",
          "text": [
            "6.485470860550342\n"
          ]
        }
      ]
    },
    {
      "cell_type": "markdown",
      "source": [
        "#23 Пример работы for. Функция enumerate()"
      ],
      "metadata": {
        "id": "bbZQV4M0sYzH"
      }
    },
    {
      "cell_type": "code",
      "source": [
        "# Факториал\n",
        "n = int(input(\"Введите натуральное число до 100: \"))\n",
        "if n < 1 or n > 100:\n",
        "  print(\"Не верно введено число \")\n",
        "else:\n",
        "  p = 1\n",
        "  for i in range(1, n+1):\n",
        "    p *= i\n",
        "print(f\"Факториал n = {p}\")"
      ],
      "metadata": {
        "colab": {
          "base_uri": "https://localhost:8080/"
        },
        "id": "cs_qr9ujsJWF",
        "outputId": "b43f7e5b-bf9c-49a0-98e4-50b13b0fc995"
      },
      "execution_count": null,
      "outputs": [
        {
          "output_type": "stream",
          "name": "stdout",
          "text": [
            "Введите натуральное число до 100: 99\n",
            "Факториал n = 933262154439441526816992388562667004907159682643816214685929638952175999932299156089414639761565182862536979208272237582511852109168640000000000000000000000\n"
          ]
        }
      ]
    },
    {
      "cell_type": "code",
      "source": [
        "for i in range(1, 6):\n",
        "  print('*'*i)"
      ],
      "metadata": {
        "colab": {
          "base_uri": "https://localhost:8080/"
        },
        "id": "ivIBe5sesV4I",
        "outputId": "46f0f3ed-a26b-4c50-ad22-3f4aa7edbe75"
      },
      "execution_count": null,
      "outputs": [
        {
          "output_type": "stream",
          "name": "stdout",
          "text": [
            "*\n",
            "**\n",
            "***\n",
            "****\n",
            "*****\n"
          ]
        }
      ]
    },
    {
      "cell_type": "code",
      "source": [
        "words = [\"Я\", \"скоро\",\"закончу\",\"курс\", \"по\", \"Пайтону\"]\n",
        "frase = \"\"\n",
        "for w in words:\n",
        "  frase += \" \" + w\n",
        "print(frase.lstrip()) #удалили пробел в начале"
      ],
      "metadata": {
        "colab": {
          "base_uri": "https://localhost:8080/"
        },
        "id": "1jakb4m2uvr4",
        "outputId": "30795749-8a05-4f01-ff81-150fdb87bc72"
      },
      "execution_count": null,
      "outputs": [
        {
          "output_type": "stream",
          "name": "stdout",
          "text": [
            "Я скоро закончу курс по Пайтону\n"
          ]
        }
      ]
    },
    {
      "cell_type": "code",
      "source": [
        "words = [\"Я\", \"скоро\",\"закончу\",\"курс\", \"по\", \"Пайтону\"]\n",
        "frase = \"\"\n",
        "print(\"-=-\".join(words))"
      ],
      "metadata": {
        "colab": {
          "base_uri": "https://localhost:8080/"
        },
        "id": "TjQ7KaguwLWc",
        "outputId": "445fad10-b753-4faa-8e7f-408d64e8abce"
      },
      "execution_count": null,
      "outputs": [
        {
          "output_type": "stream",
          "name": "stdout",
          "text": [
            "Я-=-скоро-=-закончу-=-курс-=-по-=-Пайтону\n"
          ]
        }
      ]
    },
    {
      "cell_type": "code",
      "source": [
        "digs = [-1, 12, 123, -23, 345, 22, 9]\n",
        "for i in range(len(digs)):\n",
        "  if 10 <= abs(digs[i]) <= 99:\n",
        "    digs[i] = 333\n",
        "\n",
        "print(digs)"
      ],
      "metadata": {
        "colab": {
          "base_uri": "https://localhost:8080/"
        },
        "id": "zHmWgZfPxLpL",
        "outputId": "bbd82214-405b-4768-fe72-f76b302d5b7b"
      },
      "execution_count": null,
      "outputs": [
        {
          "output_type": "stream",
          "name": "stdout",
          "text": [
            "[-1, 333, 123, 333, 345, 333, 9]\n"
          ]
        }
      ]
    },
    {
      "cell_type": "code",
      "source": [
        "digs = [-1, 12, 123, -23, 345, 22, 9]\n",
        "for i, d in enumerate(digs):\n",
        "  if 10 <= abs(digs[i]) <= 99:\n",
        "    digs[i] = 333\n",
        "\n",
        "print(digs)"
      ],
      "metadata": {
        "colab": {
          "base_uri": "https://localhost:8080/"
        },
        "id": "eEcLzxZcx46h",
        "outputId": "17990599-81b4-4944-f8ba-f04f56cb48e0"
      },
      "execution_count": null,
      "outputs": [
        {
          "output_type": "stream",
          "name": "stdout",
          "text": [
            "[-1, 333, 123, 333, 345, 333, 9]\n"
          ]
        }
      ]
    },
    {
      "cell_type": "code",
      "source": [
        ""
      ],
      "metadata": {
        "id": "QfQHLN7zyYX0"
      },
      "execution_count": null,
      "outputs": []
    },
    {
      "cell_type": "markdown",
      "source": [
        "#24 Итератор. Итерируемые объекты"
      ],
      "metadata": {
        "id": "Qgv6hYcszy1A"
      }
    },
    {
      "cell_type": "code",
      "source": [
        "d = [5, 7, 4, 32, 45, 12]\n",
        "it = iter(d)\n",
        "next(it)\n",
        "next(it)"
      ],
      "metadata": {
        "colab": {
          "base_uri": "https://localhost:8080/"
        },
        "id": "vnfbfSZKz6bY",
        "outputId": "4f36fe03-3331-4086-c587-364283510dbd"
      },
      "execution_count": null,
      "outputs": [
        {
          "output_type": "execute_result",
          "data": {
            "text/plain": [
              "7"
            ]
          },
          "metadata": {},
          "execution_count": 79
        }
      ]
    },
    {
      "cell_type": "code",
      "source": [
        "s = \"python\"\n",
        "it = iter(s)\n",
        "next(it)"
      ],
      "metadata": {
        "colab": {
          "base_uri": "https://localhost:8080/",
          "height": 35
        },
        "id": "RBY4TbUM5Hhj",
        "outputId": "0825e871-b44d-4167-8209-0ce80ab3f0f3"
      },
      "execution_count": null,
      "outputs": [
        {
          "output_type": "execute_result",
          "data": {
            "text/plain": [
              "'p'"
            ],
            "application/vnd.google.colaboratory.intrinsic+json": {
              "type": "string"
            }
          },
          "metadata": {},
          "execution_count": 81
        }
      ]
    },
    {
      "cell_type": "code",
      "source": [
        "r = range(10)\n",
        "it = iter(r)\n",
        "next(it)\n",
        "next(it)\n",
        "next(it)\n",
        "next(it)\n",
        "next(it)\n"
      ],
      "metadata": {
        "colab": {
          "base_uri": "https://localhost:8080/"
        },
        "id": "GrMy6BaH5Xlr",
        "outputId": "502e68b1-e083-438e-b8f9-0587e116f883"
      },
      "execution_count": null,
      "outputs": [
        {
          "output_type": "execute_result",
          "data": {
            "text/plain": [
              "4"
            ]
          },
          "metadata": {},
          "execution_count": 83
        }
      ]
    },
    {
      "cell_type": "code",
      "source": [
        "iter(3)"
      ],
      "metadata": {
        "colab": {
          "base_uri": "https://localhost:8080/",
          "height": 165
        },
        "id": "h2G5pnga5417",
        "outputId": "0336ecce-665d-4fae-8854-01a248778e48"
      },
      "execution_count": null,
      "outputs": [
        {
          "output_type": "error",
          "ename": "TypeError",
          "evalue": "ignored",
          "traceback": [
            "\u001b[0;31m---------------------------------------------------------------------------\u001b[0m",
            "\u001b[0;31mTypeError\u001b[0m                                 Traceback (most recent call last)",
            "\u001b[0;32m<ipython-input-84-5a19add55573>\u001b[0m in \u001b[0;36m<module>\u001b[0;34m()\u001b[0m\n\u001b[0;32m----> 1\u001b[0;31m \u001b[0miter\u001b[0m\u001b[0;34m(\u001b[0m\u001b[0;36m3\u001b[0m\u001b[0;34m)\u001b[0m\u001b[0;34m\u001b[0m\u001b[0;34m\u001b[0m\u001b[0m\n\u001b[0m",
            "\u001b[0;31mTypeError\u001b[0m: 'int' object is not iterable"
          ]
        }
      ]
    },
    {
      "cell_type": "code",
      "source": [
        "iter([5])"
      ],
      "metadata": {
        "colab": {
          "base_uri": "https://localhost:8080/"
        },
        "id": "jAmOI32h5-V7",
        "outputId": "dc14aaab-b065-46c4-eb9d-2bd1523cec71"
      },
      "execution_count": null,
      "outputs": [
        {
          "output_type": "execute_result",
          "data": {
            "text/plain": [
              "<list_iterator at 0x7efe841fff50>"
            ]
          },
          "metadata": {},
          "execution_count": 86
        }
      ]
    },
    {
      "cell_type": "markdown",
      "source": [
        "#25 Вложенные циклы"
      ],
      "metadata": {
        "id": "7HPBJJU16LNg"
      }
    },
    {
      "cell_type": "code",
      "source": [
        "for i in range(1,4):\n",
        "  for j in range(1,6):\n",
        "    print(f\"i = {i}, j = {j}\", end=' ')\n",
        "  print()"
      ],
      "metadata": {
        "colab": {
          "base_uri": "https://localhost:8080/"
        },
        "id": "z-bcSn9Y6P3y",
        "outputId": "30214099-4e17-4187-be19-6ecd11a025c9"
      },
      "execution_count": null,
      "outputs": [
        {
          "output_type": "stream",
          "name": "stdout",
          "text": [
            "i = 1, j = 1 i = 1, j = 2 i = 1, j = 3 i = 1, j = 4 i = 1, j = 5 \n",
            "i = 2, j = 1 i = 2, j = 2 i = 2, j = 3 i = 2, j = 4 i = 2, j = 5 \n",
            "i = 3, j = 1 i = 3, j = 2 i = 3, j = 3 i = 3, j = 4 i = 3, j = 5 \n"
          ]
        }
      ]
    },
    {
      "cell_type": "code",
      "source": [
        "a = [[1,2,3,4],[5,6,7,8],[1,3,5,7]]\n",
        "\n",
        "for row in a:\n",
        "  for x in row:\n",
        "    print(x, type(x), end=\" \")\n",
        "  print \n"
      ],
      "metadata": {
        "colab": {
          "base_uri": "https://localhost:8080/"
        },
        "id": "TNSQ8aYV7WCX",
        "outputId": "a6f0b3ab-b90a-4692-ce4e-8d350238d811"
      },
      "execution_count": null,
      "outputs": [
        {
          "output_type": "stream",
          "name": "stdout",
          "text": [
            "1 <class 'int'> 2 <class 'int'> 3 <class 'int'> 4 <class 'int'> 5 <class 'int'> 6 <class 'int'> 7 <class 'int'> 8 <class 'int'> 1 <class 'int'> 3 <class 'int'> 5 <class 'int'> 7 <class 'int'> "
          ]
        }
      ]
    },
    {
      "cell_type": "code",
      "source": [
        "a = [[1,2,3,4],[5,6,7,8],[1,3,5,7]]\n",
        "b = [[1,1,1,1],[2,2,2,2],[3,3,3,3]]\n",
        "c = []\n",
        "\n",
        "for i, row in enumerate(a):\n",
        "  r = []\n",
        "  for j, x in enumerate(row):\n",
        "    r.append(x + b[i][j])\n",
        "  c.append(r)\n",
        "print(c)\n"
      ],
      "metadata": {
        "colab": {
          "base_uri": "https://localhost:8080/"
        },
        "id": "q5N4ul0W7648",
        "outputId": "6bfa0bed-86e7-4bcc-9eef-4facd357fdea"
      },
      "execution_count": null,
      "outputs": [
        {
          "output_type": "stream",
          "name": "stdout",
          "text": [
            "[[2, 3, 4, 5], [7, 8, 9, 10], [4, 6, 8, 10]]\n"
          ]
        }
      ]
    },
    {
      "cell_type": "code",
      "source": [
        "M, N = list(map(int, input('Введите M и N: ').split()))\n",
        "\n",
        "zeros = []\n",
        "for i in range(M):\n",
        "  zeros.append([0] * N)\n",
        "\n",
        "print(zeros)\n",
        "\n",
        "for i in range(M):\n",
        "  for j in range(N):\n",
        "    zeros [i][j] = 1\n",
        "print(zeros)"
      ],
      "metadata": {
        "colab": {
          "base_uri": "https://localhost:8080/"
        },
        "id": "GJLyYPOJ9lqB",
        "outputId": "6a0a9f13-ed9b-4669-d957-05b84c3f9f11"
      },
      "execution_count": null,
      "outputs": [
        {
          "output_type": "stream",
          "name": "stdout",
          "text": [
            "Введите M и N: 2 3 \n",
            "[[0, 0, 0], [0, 0, 0]]\n",
            "[[1, 1, 1], [1, 1, 1]]\n"
          ]
        }
      ]
    },
    {
      "cell_type": "code",
      "source": [
        "# Транспонирование\n",
        "A = [[1,2,3,4],[5,6,7,8],[1,3,5,7],[11,23,35,47]]\n",
        "for i in range(len(A)):\n",
        "  for j in range (i+1, len(A)):\n",
        "    A[i][j], A[j][i] = A[j][i], A[i][j]\n",
        "\n",
        "for r in A:\n",
        "  for x in r:\n",
        "    print(x, end=\"\\t\")\n",
        "  print()\n"
      ],
      "metadata": {
        "id": "58gTCDJS_l_x",
        "outputId": "424a0ea3-b2ac-4d5a-ab23-6b9af345fcf9",
        "colab": {
          "base_uri": "https://localhost:8080/"
        }
      },
      "execution_count": null,
      "outputs": [
        {
          "output_type": "stream",
          "name": "stdout",
          "text": [
            "1\t5\t1\t11\t\n",
            "2\t6\t3\t23\t\n",
            "3\t7\t5\t35\t\n",
            "4\t8\t7\t47\t\n"
          ]
        }
      ]
    },
    {
      "cell_type": "markdown",
      "source": [
        "#27 Генератор списков"
      ],
      "metadata": {
        "id": "Q_G5H-M6DbE7"
      }
    },
    {
      "cell_type": "code",
      "source": [
        "N = 6\n",
        "a = [0] * N\n",
        "for i in range(N):\n",
        "  a[i] = i ** 2\n",
        "print(a)"
      ],
      "metadata": {
        "colab": {
          "base_uri": "https://localhost:8080/"
        },
        "id": "bQL-3YdpDe5y",
        "outputId": "268f1519-1e12-4dba-a8fb-4086b8200a49"
      },
      "execution_count": null,
      "outputs": [
        {
          "output_type": "stream",
          "name": "stdout",
          "text": [
            "[0, 1, 4, 9, 16, 25]\n"
          ]
        }
      ]
    },
    {
      "cell_type": "code",
      "source": [
        "a = [x**2 for x in range(N)]\n",
        "print(a)"
      ],
      "metadata": {
        "colab": {
          "base_uri": "https://localhost:8080/"
        },
        "id": "0cUQ5PThEAGr",
        "outputId": "a4646ce9-4f64-4552-a064-fa33773880af"
      },
      "execution_count": null,
      "outputs": [
        {
          "output_type": "stream",
          "name": "stdout",
          "text": [
            "[0, 1, 4, 9, 16, 25]\n"
          ]
        }
      ]
    },
    {
      "cell_type": "code",
      "source": [
        "a = [1 for x in range(5)]\n",
        "print(a)"
      ],
      "metadata": {
        "colab": {
          "base_uri": "https://localhost:8080/"
        },
        "id": "OOSbn-rlETEC",
        "outputId": "02f05c7f-0b49-404e-a12d-f4974c6c8fb3"
      },
      "execution_count": null,
      "outputs": [
        {
          "output_type": "stream",
          "name": "stdout",
          "text": [
            "[1, 1, 1, 1, 1]\n"
          ]
        }
      ]
    },
    {
      "cell_type": "code",
      "source": [
        "a = [x % 4 for x in range(24)]\n",
        "print(a)"
      ],
      "metadata": {
        "colab": {
          "base_uri": "https://localhost:8080/"
        },
        "id": "ks-l3vmsEsHG",
        "outputId": "ba71758a-1da3-49f0-9576-463b9cdd2c2a"
      },
      "execution_count": null,
      "outputs": [
        {
          "output_type": "stream",
          "name": "stdout",
          "text": [
            "[0, 1, 2, 3, 0, 1, 2, 3, 0, 1, 2, 3, 0, 1, 2, 3, 0, 1, 2, 3, 0, 1, 2, 3]\n"
          ]
        }
      ]
    },
    {
      "cell_type": "code",
      "source": [
        "a = [0.15 * x + 1 for x in range(10)]\n",
        "print(a)"
      ],
      "metadata": {
        "colab": {
          "base_uri": "https://localhost:8080/"
        },
        "id": "nXCIO-AbE9DK",
        "outputId": "1426bd0f-b2e5-4f12-85f0-e2b6f8b9e74a"
      },
      "execution_count": null,
      "outputs": [
        {
          "output_type": "stream",
          "name": "stdout",
          "text": [
            "[1.0, 1.15, 1.3, 1.45, 1.6, 1.75, 1.9, 2.05, 2.2, 2.3499999999999996]\n"
          ]
        }
      ]
    },
    {
      "cell_type": "code",
      "source": [
        "d_inp = input(\"Введите целое число через пробел: \")\n",
        "\n",
        "a = [int(d) for d in d_inp.split()]\n",
        "print(a)"
      ],
      "metadata": {
        "colab": {
          "base_uri": "https://localhost:8080/"
        },
        "id": "-lmADCMUFPiK",
        "outputId": "6dbce8fa-4c5d-4dde-be72-ba92e66f232a"
      },
      "execution_count": null,
      "outputs": [
        {
          "output_type": "stream",
          "name": "stdout",
          "text": [
            "Введите целое число через пробел: 1 3 4 5\n",
            "[1, 3, 4, 5]\n"
          ]
        }
      ]
    },
    {
      "cell_type": "code",
      "source": [
        "a = [d for d in \"python\"]\n",
        "a"
      ],
      "metadata": {
        "colab": {
          "base_uri": "https://localhost:8080/"
        },
        "id": "q86UBUIoGLLE",
        "outputId": "d9125af2-7b40-4305-f58e-e96529d635ee"
      },
      "execution_count": null,
      "outputs": [
        {
          "output_type": "execute_result",
          "data": {
            "text/plain": [
              "['p', 'y', 't', 'h', 'o', 'n']"
            ]
          },
          "metadata": {},
          "execution_count": 28
        }
      ]
    },
    {
      "cell_type": "code",
      "source": [
        "a = [ord(d) for d in \"python\"]\n",
        "a"
      ],
      "metadata": {
        "colab": {
          "base_uri": "https://localhost:8080/"
        },
        "id": "YehNYXVaGUED",
        "outputId": "c478a657-f853-4163-d82a-d9d7bc9ead89"
      },
      "execution_count": null,
      "outputs": [
        {
          "output_type": "execute_result",
          "data": {
            "text/plain": [
              "[112, 121, 116, 104, 111, 110]"
            ]
          },
          "metadata": {},
          "execution_count": 29
        }
      ]
    },
    {
      "cell_type": "code",
      "source": [
        "a = [x for x in range(-5, 5) if x < 0]\n",
        "a"
      ],
      "metadata": {
        "colab": {
          "base_uri": "https://localhost:8080/"
        },
        "id": "vcjKjM4LGYVH",
        "outputId": "8f50241a-29b1-47b0-c143-2ed4d8023b52"
      },
      "execution_count": null,
      "outputs": [
        {
          "output_type": "execute_result",
          "data": {
            "text/plain": [
              "[-5, -4, -3, -2, -1]"
            ]
          },
          "metadata": {},
          "execution_count": 30
        }
      ]
    },
    {
      "cell_type": "code",
      "source": [
        "d = [4,3,7,12,34,54,-56,77,90,100]\n",
        "a = [\"четное\" if x % 2 ==0 else \"нечетное\" \n",
        "    for x in d\n",
        "     if x > 0]\n",
        "a"
      ],
      "metadata": {
        "colab": {
          "base_uri": "https://localhost:8080/"
        },
        "id": "J_V1EOt9HGHC",
        "outputId": "dc43c9af-8f8f-4fd0-f44e-77b8c08b3070"
      },
      "execution_count": null,
      "outputs": [
        {
          "output_type": "execute_result",
          "data": {
            "text/plain": [
              "['четное',\n",
              " 'нечетное',\n",
              " 'нечетное',\n",
              " 'четное',\n",
              " 'четное',\n",
              " 'четное',\n",
              " 'нечетное',\n",
              " 'четное',\n",
              " 'четное']"
            ]
          },
          "metadata": {},
          "execution_count": 1
        }
      ]
    },
    {
      "cell_type": "markdown",
      "source": [
        "#28 Вложенные генераторы списков"
      ],
      "metadata": {
        "id": "xt7_QrpU8Jsi"
      }
    },
    {
      "cell_type": "code",
      "source": [
        "a = [(i, j) for i in range(4) if i%3 == 0 for j in range(5)]\n",
        "print(a)"
      ],
      "metadata": {
        "colab": {
          "base_uri": "https://localhost:8080/"
        },
        "id": "N4Smgzd_8WKH",
        "outputId": "bf023fd9-9b77-4623-c039-d6543fcd43e1"
      },
      "execution_count": null,
      "outputs": [
        {
          "output_type": "stream",
          "name": "stdout",
          "text": [
            "[(0, 0), (0, 1), (0, 2), (0, 3), (0, 4), (3, 0), (3, 1), (3, 2), (3, 3), (3, 4)]\n"
          ]
        }
      ]
    },
    {
      "cell_type": "code",
      "source": [
        "#Таблица умножения\n",
        "a = [f'{i}*{j} = {i*j}' for i in range(9) for j in range(9)]\n",
        "print(a)"
      ],
      "metadata": {
        "colab": {
          "base_uri": "https://localhost:8080/"
        },
        "id": "PHRrbI9M-BvI",
        "outputId": "b0a569da-d666-41fb-9006-0aa9338b9374"
      },
      "execution_count": null,
      "outputs": [
        {
          "output_type": "stream",
          "name": "stdout",
          "text": [
            "['0*0 = 0', '0*1 = 0', '0*2 = 0', '0*3 = 0', '0*4 = 0', '0*5 = 0', '0*6 = 0', '0*7 = 0', '0*8 = 0', '1*0 = 0', '1*1 = 1', '1*2 = 2', '1*3 = 3', '1*4 = 4', '1*5 = 5', '1*6 = 6', '1*7 = 7', '1*8 = 8', '2*0 = 0', '2*1 = 2', '2*2 = 4', '2*3 = 6', '2*4 = 8', '2*5 = 10', '2*6 = 12', '2*7 = 14', '2*8 = 16', '3*0 = 0', '3*1 = 3', '3*2 = 6', '3*3 = 9', '3*4 = 12', '3*5 = 15', '3*6 = 18', '3*7 = 21', '3*8 = 24', '4*0 = 0', '4*1 = 4', '4*2 = 8', '4*3 = 12', '4*4 = 16', '4*5 = 20', '4*6 = 24', '4*7 = 28', '4*8 = 32', '5*0 = 0', '5*1 = 5', '5*2 = 10', '5*3 = 15', '5*4 = 20', '5*5 = 25', '5*6 = 30', '5*7 = 35', '5*8 = 40', '6*0 = 0', '6*1 = 6', '6*2 = 12', '6*3 = 18', '6*4 = 24', '6*5 = 30', '6*6 = 36', '6*7 = 42', '6*8 = 48', '7*0 = 0', '7*1 = 7', '7*2 = 14', '7*3 = 21', '7*4 = 28', '7*5 = 35', '7*6 = 42', '7*7 = 49', '7*8 = 56', '8*0 = 0', '8*1 = 8', '8*2 = 16', '8*3 = 24', '8*4 = 32', '8*5 = 40', '8*6 = 48', '8*7 = 56', '8*8 = 64']\n"
          ]
        }
      ]
    },
    {
      "cell_type": "code",
      "source": [
        "matrix = [[1,2,3,4],[11,12,13,14],[21,22,23,24]]\n",
        "a = [x for row in matrix for x in row]\n",
        "\n",
        "print(a)"
      ],
      "metadata": {
        "colab": {
          "base_uri": "https://localhost:8080/"
        },
        "id": "fPKObxp9A-OM",
        "outputId": "e4cb1c4b-149c-423b-b5dd-97de9fae1f53"
      },
      "execution_count": null,
      "outputs": [
        {
          "output_type": "stream",
          "name": "stdout",
          "text": [
            "[1, 2, 3, 4, 11, 12, 13, 14, 21, 22, 23, 24]\n"
          ]
        }
      ]
    },
    {
      "cell_type": "markdown",
      "source": [
        "[<оператор>for<счетчик>in<итерируемый объект]"
      ],
      "metadata": {
        "id": "T1K9Z44MCmG_"
      }
    },
    {
      "cell_type": "code",
      "source": [
        "M, N = 3,4\n",
        "matrix = [[a for a in range(M)] for b in range(N)]\n",
        "\n",
        "print(matrix)"
      ],
      "metadata": {
        "colab": {
          "base_uri": "https://localhost:8080/"
        },
        "id": "WK2-0IUFC3GF",
        "outputId": "5c3ca19e-39d0-42c0-9ddb-e73da2bb84be"
      },
      "execution_count": null,
      "outputs": [
        {
          "output_type": "stream",
          "name": "stdout",
          "text": [
            "[[0, 1, 2], [0, 1, 2], [0, 1, 2], [0, 1, 2]]\n"
          ]
        }
      ]
    },
    {
      "cell_type": "code",
      "source": [
        "A = [[1,2,3],[4,5,6],[7,8,9]]\n",
        "A = [[x**2 for x in row] for row in A]\n",
        "print(A)\n"
      ],
      "metadata": {
        "colab": {
          "base_uri": "https://localhost:8080/"
        },
        "id": "iYOa-1HPVPyg",
        "outputId": "64175b12-284f-489d-ce9e-6ba58c92ae84"
      },
      "execution_count": null,
      "outputs": [
        {
          "output_type": "stream",
          "name": "stdout",
          "text": [
            "[[1, 4, 9], [16, 25, 36], [49, 64, 81]]\n"
          ]
        }
      ]
    },
    {
      "cell_type": "code",
      "source": [
        "A = [[1,2,3],[4,5,6],[7,8,9]]\n",
        "A = [[x**2 for x in row] for row in A]\n",
        "a = [x**2 for row in A for x in row]\n",
        "print(A)\n",
        "print(a)\n"
      ],
      "metadata": {
        "colab": {
          "base_uri": "https://localhost:8080/"
        },
        "id": "YHDPwIKmFDVE",
        "outputId": "d234a094-4c3f-4fcb-d958-dfbfedc4f317"
      },
      "execution_count": null,
      "outputs": [
        {
          "output_type": "stream",
          "name": "stdout",
          "text": [
            "[[1, 4, 9], [16, 25, 36], [49, 64, 81]]\n",
            "[1, 16, 81, 256, 625, 1296, 2401, 4096, 6561]\n"
          ]
        }
      ]
    },
    {
      "cell_type": "code",
      "source": [
        "#Транспонирование\n",
        "A = [[1,2,3],[4,5,6],[7,8,9]]\n",
        "A = [[row[i] for row in A ] for i in range(len(A[0]))]\n",
        "print(A)"
      ],
      "metadata": {
        "colab": {
          "base_uri": "https://localhost:8080/"
        },
        "id": "n5XxTQzAFuLw",
        "outputId": "f8979012-4694-4dc7-a488-c4fe74a3aaae"
      },
      "execution_count": null,
      "outputs": [
        {
          "output_type": "stream",
          "name": "stdout",
          "text": [
            "[[1, 16, 49], [4, 25, 64], [9, 36, 81]]\n"
          ]
        }
      ]
    },
    {
      "cell_type": "code",
      "source": [
        "g = [u ** 2 for u in [x+1 for x in range(5)]]\n",
        "print(g)"
      ],
      "metadata": {
        "colab": {
          "base_uri": "https://localhost:8080/"
        },
        "id": "QJ2I_gxwGgPK",
        "outputId": "81839c8c-8f03-4b83-949f-332b40017025"
      },
      "execution_count": null,
      "outputs": [
        {
          "output_type": "stream",
          "name": "stdout",
          "text": [
            "[1, 4, 9, 16, 25]\n"
          ]
        }
      ]
    },
    {
      "cell_type": "markdown",
      "source": [
        "#29 Введение в словари"
      ],
      "metadata": {
        "id": "vhXKGGDwpsNS"
      }
    },
    {
      "cell_type": "code",
      "source": [
        "d = {\"house\":\"дом\", \"car\":\"машина\", \"tree\":\"дерево\"}\n",
        "d[\"car\"]"
      ],
      "metadata": {
        "colab": {
          "base_uri": "https://localhost:8080/",
          "height": 35
        },
        "id": "CoSZc5o1pwZ0",
        "outputId": "810c9fa9-02ee-459f-df90-0b27c280c8eb"
      },
      "execution_count": 2,
      "outputs": [
        {
          "output_type": "execute_result",
          "data": {
            "text/plain": [
              "'машина'"
            ],
            "application/vnd.google.colaboratory.intrinsic+json": {
              "type": "string"
            }
          },
          "metadata": {},
          "execution_count": 2
        }
      ]
    },
    {
      "cell_type": "code",
      "source": [
        "dict(one=1, two=2, three=3, four=4)"
      ],
      "metadata": {
        "colab": {
          "base_uri": "https://localhost:8080/"
        },
        "id": "cfoBP1zHqF8f",
        "outputId": "6d3638e6-d9d9-479f-9307-530bf947f77f"
      },
      "execution_count": 3,
      "outputs": [
        {
          "output_type": "execute_result",
          "data": {
            "text/plain": [
              "{'four': 4, 'one': 1, 'three': 3, 'two': 2}"
            ]
          },
          "metadata": {},
          "execution_count": 3
        }
      ]
    },
    {
      "cell_type": "code",
      "source": [
        "lst = [[2, \"неуд\"],[3, \"уд\"],[4, \"хор\"],[5, \"отл\"]]\n",
        "dict(lst)"
      ],
      "metadata": {
        "colab": {
          "base_uri": "https://localhost:8080/"
        },
        "id": "CVhcgJEUqmod",
        "outputId": "018ab0cf-269a-4dc6-85e2-a16f218906f3"
      },
      "execution_count": 6,
      "outputs": [
        {
          "output_type": "execute_result",
          "data": {
            "text/plain": [
              "{2: 'неуд', 3: 'уд', 4: 'хор', 5: 'отл'}"
            ]
          },
          "metadata": {},
          "execution_count": 6
        }
      ]
    },
    {
      "cell_type": "code",
      "source": [
        "dict()"
      ],
      "metadata": {
        "colab": {
          "base_uri": "https://localhost:8080/"
        },
        "id": "7NMFZTzNrAL8",
        "outputId": "d455eef0-c511-4c94-ad54-71a11f792df8"
      },
      "execution_count": 8,
      "outputs": [
        {
          "output_type": "execute_result",
          "data": {
            "text/plain": [
              "{}"
            ]
          },
          "metadata": {},
          "execution_count": 8
        }
      ]
    },
    {
      "cell_type": "code",
      "source": [
        "{}"
      ],
      "metadata": {
        "colab": {
          "base_uri": "https://localhost:8080/"
        },
        "id": "7yIyjnqBrDxs",
        "outputId": "0828de53-2dc7-4c0c-9025-7fc2e6122d18"
      },
      "execution_count": 9,
      "outputs": [
        {
          "output_type": "execute_result",
          "data": {
            "text/plain": [
              "{}"
            ]
          },
          "metadata": {},
          "execution_count": 9
        }
      ]
    },
    {
      "cell_type": "code",
      "source": [
        "d = {}\n",
        "d[True] = \"истина\"\n",
        "d\n",
        "#только не изменяемые типы данных для ключей"
      ],
      "metadata": {
        "colab": {
          "base_uri": "https://localhost:8080/"
        },
        "id": "eRIY2BosrKJw",
        "outputId": "b9d40255-58ed-4a3e-8e89-71e2601a09f7"
      },
      "execution_count": 11,
      "outputs": [
        {
          "output_type": "execute_result",
          "data": {
            "text/plain": [
              "{True: 'истина'}"
            ]
          },
          "metadata": {},
          "execution_count": 11
        }
      ]
    },
    {
      "cell_type": "code",
      "source": [
        "d = {True:1,False: \"ложь\", list: [1,2,3,4]}\n",
        "len(d)"
      ],
      "metadata": {
        "colab": {
          "base_uri": "https://localhost:8080/"
        },
        "id": "Iu-J4F_drfuX",
        "outputId": "ce09c227-7ebf-4225-8c0e-7593d7701977"
      },
      "execution_count": 12,
      "outputs": [
        {
          "output_type": "execute_result",
          "data": {
            "text/plain": [
              "3"
            ]
          },
          "metadata": {},
          "execution_count": 12
        }
      ]
    },
    {
      "cell_type": "code",
      "source": [
        "d = {True:1,False: \"ложь\", list: [1,2,3,4]}\n",
        "del d[list]\n",
        "d"
      ],
      "metadata": {
        "colab": {
          "base_uri": "https://localhost:8080/"
        },
        "id": "igE6C-_4rZfX",
        "outputId": "c994bdcf-ec2c-4b50-b8db-b83c6ed1087c"
      },
      "execution_count": 14,
      "outputs": [
        {
          "output_type": "execute_result",
          "data": {
            "text/plain": [
              "{False: 'ложь', True: 1}"
            ]
          },
          "metadata": {},
          "execution_count": 14
        }
      ]
    },
    {
      "cell_type": "code",
      "source": [
        "True in d"
      ],
      "metadata": {
        "colab": {
          "base_uri": "https://localhost:8080/"
        },
        "id": "2VL1P_U5r71S",
        "outputId": "e3df1be9-fb46-403d-f12a-c758760a6314"
      },
      "execution_count": 15,
      "outputs": [
        {
          "output_type": "execute_result",
          "data": {
            "text/plain": [
              "True"
            ]
          },
          "metadata": {},
          "execution_count": 15
        }
      ]
    },
    {
      "cell_type": "code",
      "source": [
        "False not in d"
      ],
      "metadata": {
        "colab": {
          "base_uri": "https://localhost:8080/"
        },
        "id": "ZbCyRKv1sC8N",
        "outputId": "301a4cd7-4ef0-4e5d-e165-a5c73a40f435"
      },
      "execution_count": 16,
      "outputs": [
        {
          "output_type": "execute_result",
          "data": {
            "text/plain": [
              "False"
            ]
          },
          "metadata": {},
          "execution_count": 16
        }
      ]
    },
    {
      "cell_type": "markdown",
      "source": [
        "#30 Методы словаря"
      ],
      "metadata": {
        "id": "3wh_kLuksSNk"
      }
    },
    {
      "cell_type": "code",
      "source": [
        "dict.fromkeys"
      ],
      "metadata": {
        "id": "U1bOuykUsW-4"
      },
      "execution_count": null,
      "outputs": []
    },
    {
      "cell_type": "code",
      "source": [
        "lst = [\"+7\",\"+6\",\"+5\",\"+4\"]\n",
        "a = dict.fromkeys(lst)\n",
        "a"
      ],
      "metadata": {
        "colab": {
          "base_uri": "https://localhost:8080/"
        },
        "id": "L9T0YUBVsci0",
        "outputId": "70073ea9-f8db-4349-a02c-eab7b961b4e8"
      },
      "execution_count": 17,
      "outputs": [
        {
          "output_type": "execute_result",
          "data": {
            "text/plain": [
              "{'+4': None, '+5': None, '+6': None, '+7': None}"
            ]
          },
          "metadata": {},
          "execution_count": 17
        }
      ]
    },
    {
      "cell_type": "code",
      "source": [
        "lst = [\"+7\",\"+6\",\"+5\",\"+4\"]\n",
        "a = dict.fromkeys(lst, \"код страны\")\n",
        "a"
      ],
      "metadata": {
        "colab": {
          "base_uri": "https://localhost:8080/"
        },
        "id": "sfWHN6BYsv8O",
        "outputId": "f714d888-7568-4aa5-fd88-38e03021f0c7"
      },
      "execution_count": 18,
      "outputs": [
        {
          "output_type": "execute_result",
          "data": {
            "text/plain": [
              "{'+4': 'код страны',\n",
              " '+5': 'код страны',\n",
              " '+6': 'код страны',\n",
              " '+7': 'код страны'}"
            ]
          },
          "metadata": {},
          "execution_count": 18
        }
      ]
    },
    {
      "cell_type": "code",
      "source": [
        "a.clear()\n",
        "a"
      ],
      "metadata": {
        "colab": {
          "base_uri": "https://localhost:8080/"
        },
        "id": "p6OoA7eFs3f_",
        "outputId": "c75c1228-025a-4465-825b-cf210b099ce2"
      },
      "execution_count": 20,
      "outputs": [
        {
          "output_type": "execute_result",
          "data": {
            "text/plain": [
              "{}"
            ]
          },
          "metadata": {},
          "execution_count": 20
        }
      ]
    },
    {
      "cell_type": "code",
      "source": [
        "d = {True:1,False: \"ложь\", list: [1,2,3,4], 5:\"5\"}\n",
        "d"
      ],
      "metadata": {
        "colab": {
          "base_uri": "https://localhost:8080/"
        },
        "id": "Shu8RZVus9JG",
        "outputId": "389737f0-531b-4103-c55b-e570393c58d4"
      },
      "execution_count": 26,
      "outputs": [
        {
          "output_type": "execute_result",
          "data": {
            "text/plain": [
              "{5: '5', list: [1, 2, 3, 4], False: 'ложь', True: 1}"
            ]
          },
          "metadata": {},
          "execution_count": 26
        }
      ]
    },
    {
      "cell_type": "code",
      "source": [
        "d2 = d.copy()\n",
        "d2"
      ],
      "metadata": {
        "colab": {
          "base_uri": "https://localhost:8080/"
        },
        "id": "9MhphHIutnBT",
        "outputId": "dbf5d2b7-d573-4e38-dba6-21745b8f4ad9"
      },
      "execution_count": 28,
      "outputs": [
        {
          "output_type": "execute_result",
          "data": {
            "text/plain": [
              "{5: 5, list: [1, 2, 3, 4], False: 'ложь', True: 1}"
            ]
          },
          "metadata": {},
          "execution_count": 28
        }
      ]
    },
    {
      "cell_type": "code",
      "source": [
        "d2 = dict(d)\n",
        "id(d2)\n",
        "id(d)"
      ],
      "metadata": {
        "colab": {
          "base_uri": "https://localhost:8080/"
        },
        "id": "xfQHAEkattHb",
        "outputId": "525382a2-1035-4704-e79a-3b9a1121bee3"
      },
      "execution_count": 31,
      "outputs": [
        {
          "output_type": "execute_result",
          "data": {
            "text/plain": [
              "140190233919808"
            ]
          },
          "metadata": {},
          "execution_count": 31
        }
      ]
    },
    {
      "cell_type": "code",
      "source": [
        "dct = {True:1,False: \"ложь\", list: [1,2,3,4]}\n",
        "dct[list]"
      ],
      "metadata": {
        "colab": {
          "base_uri": "https://localhost:8080/"
        },
        "id": "5eUAe6MUt1hN",
        "outputId": "c672c285-5cab-4594-dba7-e0ac396624e4"
      },
      "execution_count": 36,
      "outputs": [
        {
          "output_type": "execute_result",
          "data": {
            "text/plain": [
              "[1, 2, 3, 4]"
            ]
          },
          "metadata": {},
          "execution_count": 36
        }
      ]
    },
    {
      "cell_type": "code",
      "source": [
        "dct.get(list)"
      ],
      "metadata": {
        "colab": {
          "base_uri": "https://localhost:8080/"
        },
        "id": "6lMFBVGSua2e",
        "outputId": "b9cad980-ffc2-420b-f030-d740efee7f09"
      },
      "execution_count": 37,
      "outputs": [
        {
          "output_type": "execute_result",
          "data": {
            "text/plain": [
              "[1, 2, 3, 4]"
            ]
          },
          "metadata": {},
          "execution_count": 37
        }
      ]
    },
    {
      "cell_type": "code",
      "source": [
        "dct.get('qwerty', False) #если ключ не сущ то возвращ False"
      ],
      "metadata": {
        "colab": {
          "base_uri": "https://localhost:8080/"
        },
        "id": "TEQs3anAusIb",
        "outputId": "0f862a0d-ea7a-4be9-d6f4-7364dde28c2d"
      },
      "execution_count": 39,
      "outputs": [
        {
          "output_type": "execute_result",
          "data": {
            "text/plain": [
              "False"
            ]
          },
          "metadata": {},
          "execution_count": 39
        }
      ]
    },
    {
      "cell_type": "code",
      "source": [
        "dct.setdefault(list)"
      ],
      "metadata": {
        "colab": {
          "base_uri": "https://localhost:8080/"
        },
        "id": "VkiMwy6AvBsb",
        "outputId": "0ced225a-f4cc-4171-9a73-f404a4f77d5c"
      },
      "execution_count": 40,
      "outputs": [
        {
          "output_type": "execute_result",
          "data": {
            "text/plain": [
              "[1, 2, 3, 4]"
            ]
          },
          "metadata": {},
          "execution_count": 40
        }
      ]
    },
    {
      "cell_type": "code",
      "source": [
        "dct.setdefault('qwerty') #если ключа нет, то добавляет его\n",
        "dct"
      ],
      "metadata": {
        "colab": {
          "base_uri": "https://localhost:8080/"
        },
        "id": "TuFRZBlkvWU1",
        "outputId": "d534f837-09f2-44cd-9440-d0ced064569a"
      },
      "execution_count": 57,
      "outputs": [
        {
          "output_type": "execute_result",
          "data": {
            "text/plain": [
              "{list: [1, 2, 3, 4], False: 'ложь', True: 1, 'qwerty': None}"
            ]
          },
          "metadata": {},
          "execution_count": 57
        }
      ]
    },
    {
      "cell_type": "code",
      "source": [
        "del dct['qwerty']\n",
        "dct"
      ],
      "metadata": {
        "colab": {
          "base_uri": "https://localhost:8080/"
        },
        "id": "ftZgbk0TvqQG",
        "outputId": "8072fbf7-60da-433a-ad12-1e0cd6637d32"
      },
      "execution_count": 58,
      "outputs": [
        {
          "output_type": "execute_result",
          "data": {
            "text/plain": [
              "{list: [1, 2, 3, 4], False: 'ложь', True: 1}"
            ]
          },
          "metadata": {},
          "execution_count": 58
        }
      ]
    },
    {
      "cell_type": "code",
      "source": [
        "dct.setdefault(3, \"three\") #если ключ не сущ то добавляет ключ + значение\n",
        "dct"
      ],
      "metadata": {
        "colab": {
          "base_uri": "https://localhost:8080/"
        },
        "id": "gyX-32u-weA5",
        "outputId": "5b36a24f-7b8c-493d-d344-32d674b9755b"
      },
      "execution_count": 60,
      "outputs": [
        {
          "output_type": "execute_result",
          "data": {
            "text/plain": [
              "{3: 'three', list: [1, 2, 3, 4], False: 'ложь', True: 1}"
            ]
          },
          "metadata": {},
          "execution_count": 60
        }
      ]
    },
    {
      "cell_type": "code",
      "source": [
        "dct.pop(3) #удаляет по ключу и возвр значение"
      ],
      "metadata": {
        "colab": {
          "base_uri": "https://localhost:8080/",
          "height": 35
        },
        "id": "Vd9Rzpv4wuMx",
        "outputId": "724f3b3d-d029-43af-ecc7-d49832b7bba8"
      },
      "execution_count": 62,
      "outputs": [
        {
          "output_type": "execute_result",
          "data": {
            "text/plain": [
              "'three'"
            ],
            "application/vnd.google.colaboratory.intrinsic+json": {
              "type": "string"
            }
          },
          "metadata": {},
          "execution_count": 62
        }
      ]
    },
    {
      "cell_type": "code",
      "source": [
        "dct.pop('abc') #ошибка если не сущ"
      ],
      "metadata": {
        "colab": {
          "base_uri": "https://localhost:8080/",
          "height": 165
        },
        "id": "DXkfPQ9rxDgG",
        "outputId": "9857ddf7-bc9f-429c-b5de-76a2d935f8ac"
      },
      "execution_count": 66,
      "outputs": [
        {
          "output_type": "error",
          "ename": "KeyError",
          "evalue": "ignored",
          "traceback": [
            "\u001b[0;31m---------------------------------------------------------------------------\u001b[0m",
            "\u001b[0;31mKeyError\u001b[0m                                  Traceback (most recent call last)",
            "\u001b[0;32m<ipython-input-66-ed194dd89418>\u001b[0m in \u001b[0;36m<module>\u001b[0;34m()\u001b[0m\n\u001b[0;32m----> 1\u001b[0;31m \u001b[0mdct\u001b[0m\u001b[0;34m.\u001b[0m\u001b[0mpop\u001b[0m\u001b[0;34m(\u001b[0m\u001b[0;34m'abc'\u001b[0m\u001b[0;34m)\u001b[0m \u001b[0;31m#ошибка если не сущ\u001b[0m\u001b[0;34m\u001b[0m\u001b[0;34m\u001b[0m\u001b[0m\n\u001b[0m",
            "\u001b[0;31mKeyError\u001b[0m: 'abc'"
          ]
        }
      ]
    },
    {
      "cell_type": "code",
      "source": [
        "dct.pop('abc', False) #вместо ошибки возвращ значение"
      ],
      "metadata": {
        "colab": {
          "base_uri": "https://localhost:8080/"
        },
        "id": "vMDShZCCxOLG",
        "outputId": "487c4ceb-4159-4bde-e53a-fa8c35b55182"
      },
      "execution_count": 65,
      "outputs": [
        {
          "output_type": "execute_result",
          "data": {
            "text/plain": [
              "False"
            ]
          },
          "metadata": {},
          "execution_count": 65
        }
      ]
    },
    {
      "cell_type": "code",
      "source": [
        "dct.popitem() #удаляет с конца"
      ],
      "metadata": {
        "id": "vO9NMgfhxmhF"
      },
      "execution_count": null,
      "outputs": []
    },
    {
      "cell_type": "code",
      "source": [
        "#вывод списка ключей\n",
        "dct = {True:1,False: \"ложь\", list: [1,2,3,4], 5:5}\n",
        "dct.keys()"
      ],
      "metadata": {
        "colab": {
          "base_uri": "https://localhost:8080/"
        },
        "id": "ivOE5uUpx01I",
        "outputId": "5525fe1a-d1ea-4187-da20-7fba14187647"
      },
      "execution_count": 69,
      "outputs": [
        {
          "output_type": "execute_result",
          "data": {
            "text/plain": [
              "dict_keys([True, False, <class 'list'>, 5])"
            ]
          },
          "metadata": {},
          "execution_count": 69
        }
      ]
    },
    {
      "cell_type": "code",
      "source": [
        "for x in dct: #цикл пробегает по ключам\n",
        "  print (x)"
      ],
      "metadata": {
        "colab": {
          "base_uri": "https://localhost:8080/"
        },
        "id": "QDc-LgVSyYKx",
        "outputId": "4656ec56-7500-42f9-ad59-4d1e3500b165"
      },
      "execution_count": 71,
      "outputs": [
        {
          "output_type": "stream",
          "name": "stdout",
          "text": [
            "True\n",
            "False\n",
            "<class 'list'>\n",
            "5\n"
          ]
        }
      ]
    },
    {
      "cell_type": "code",
      "source": [
        "dct = {True:1,False: \"ложь\", list: [1,2,3,4], 5:5}\n",
        "for x in dct.values(): #цикл пробегает по Значениям\n",
        "  print (x)"
      ],
      "metadata": {
        "colab": {
          "base_uri": "https://localhost:8080/"
        },
        "id": "Z0W2jud_yr3v",
        "outputId": "8e6f2b2d-2ab6-408a-89be-61b21b39d04d"
      },
      "execution_count": 74,
      "outputs": [
        {
          "output_type": "stream",
          "name": "stdout",
          "text": [
            "1\n",
            "ложь\n",
            "[1, 2, 3, 4]\n",
            "5\n"
          ]
        }
      ]
    },
    {
      "cell_type": "code",
      "source": [
        "dct = {True:1,False: \"ложь\", list: [1,2,3,4], 5:5}\n",
        "for x in dct.items(): #цикл пробегает по кортежам ключ+значение\n",
        "  print (x)"
      ],
      "metadata": {
        "colab": {
          "base_uri": "https://localhost:8080/"
        },
        "id": "CflXFMpRzKeE",
        "outputId": "7197afb9-3519-4bfc-d80d-38ff67f2aaf9"
      },
      "execution_count": 75,
      "outputs": [
        {
          "output_type": "stream",
          "name": "stdout",
          "text": [
            "(True, 1)\n",
            "(False, 'ложь')\n",
            "(<class 'list'>, [1, 2, 3, 4])\n",
            "(5, 5)\n"
          ]
        }
      ]
    },
    {
      "cell_type": "code",
      "source": [
        "for key, value in dct.items():\n",
        "  print (key, value)"
      ],
      "metadata": {
        "colab": {
          "base_uri": "https://localhost:8080/"
        },
        "id": "NjOTVkJfzkW-",
        "outputId": "f3c3ca0c-7e89-4e4d-8834-a9518d45ed02"
      },
      "execution_count": 77,
      "outputs": [
        {
          "output_type": "stream",
          "name": "stdout",
          "text": [
            "True 1\n",
            "False ложь\n",
            "<class 'list'> [1, 2, 3, 4]\n",
            "5 5\n"
          ]
        }
      ]
    },
    {
      "cell_type": "code",
      "source": [
        "d = dict(one=1, two=2, three=3, four=4)\n",
        "d\n",
        "\n"
      ],
      "metadata": {
        "colab": {
          "base_uri": "https://localhost:8080/"
        },
        "id": "mwppvMsAz-pd",
        "outputId": "ac53d2f0-91ea-435e-ac29-1664f9cadd31"
      },
      "execution_count": 86,
      "outputs": [
        {
          "output_type": "execute_result",
          "data": {
            "text/plain": [
              "{'four': 4, 'one': 1, 'three': 3, 'two': 2}"
            ]
          },
          "metadata": {},
          "execution_count": 86
        }
      ]
    },
    {
      "cell_type": "code",
      "source": [
        "d2 = {2: \"неуд\",3: \"уд\",\"four\": \"хор\",5: \"отл\"}\n",
        "d2"
      ],
      "metadata": {
        "colab": {
          "base_uri": "https://localhost:8080/"
        },
        "id": "J_3X_Dm51LQP",
        "outputId": "c2db7ff6-68d2-43cf-f953-bd2877b23a97"
      },
      "execution_count": 87,
      "outputs": [
        {
          "output_type": "execute_result",
          "data": {
            "text/plain": [
              "{2: 'неуд', 3: 'уд', 5: 'отл', 'four': 'хор'}"
            ]
          },
          "metadata": {},
          "execution_count": 87
        }
      ]
    },
    {
      "cell_type": "code",
      "source": [
        "d.update(d2)\n",
        "d"
      ],
      "metadata": {
        "colab": {
          "base_uri": "https://localhost:8080/"
        },
        "id": "GQEJqzU21jRQ",
        "outputId": "b6f74143-80ca-4ad7-9f97-2e4e8cc58b39"
      },
      "execution_count": 90,
      "outputs": [
        {
          "output_type": "execute_result",
          "data": {
            "text/plain": [
              "{2: 'неуд', 3: 'уд', 5: 'отл', 'four': 'хор', 'one': 1, 'three': 3, 'two': 2}"
            ]
          },
          "metadata": {},
          "execution_count": 90
        }
      ]
    },
    {
      "cell_type": "code",
      "source": [
        "d = dict(one=1, two=2, three=3, four=4)\n",
        "d2 = {2: \"неуд\",3: \"уд\",\"four\": \"хор\",5: \"отл\"}\n",
        "d3 = {**d, **d2}\n",
        "d3"
      ],
      "metadata": {
        "colab": {
          "base_uri": "https://localhost:8080/"
        },
        "id": "R3RI4gid14yr",
        "outputId": "7e342369-e827-4a3d-f6cf-190b71ee09aa"
      },
      "execution_count": 91,
      "outputs": [
        {
          "output_type": "execute_result",
          "data": {
            "text/plain": [
              "{2: 'неуд', 3: 'уд', 5: 'отл', 'four': 'хор', 'one': 1, 'three': 3, 'two': 2}"
            ]
          },
          "metadata": {},
          "execution_count": 91
        }
      ]
    },
    {
      "cell_type": "code",
      "source": [
        "d3 = d | d2\n",
        "d3"
      ],
      "metadata": {
        "colab": {
          "base_uri": "https://localhost:8080/",
          "height": 183
        },
        "id": "cK08crkc2hI-",
        "outputId": "6688b9b2-2fbc-44fc-ada8-9cae6e2db883"
      },
      "execution_count": 92,
      "outputs": [
        {
          "output_type": "error",
          "ename": "TypeError",
          "evalue": "ignored",
          "traceback": [
            "\u001b[0;31m---------------------------------------------------------------------------\u001b[0m",
            "\u001b[0;31mTypeError\u001b[0m                                 Traceback (most recent call last)",
            "\u001b[0;32m<ipython-input-92-62491bffb96e>\u001b[0m in \u001b[0;36m<module>\u001b[0;34m()\u001b[0m\n\u001b[0;32m----> 1\u001b[0;31m \u001b[0md3\u001b[0m \u001b[0;34m=\u001b[0m \u001b[0md\u001b[0m \u001b[0;34m|\u001b[0m \u001b[0md2\u001b[0m\u001b[0;34m\u001b[0m\u001b[0;34m\u001b[0m\u001b[0m\n\u001b[0m\u001b[1;32m      2\u001b[0m \u001b[0md3\u001b[0m\u001b[0;34m\u001b[0m\u001b[0;34m\u001b[0m\u001b[0m\n",
            "\u001b[0;31mTypeError\u001b[0m: unsupported operand type(s) for |: 'dict' and 'dict'"
          ]
        }
      ]
    },
    {
      "cell_type": "markdown",
      "source": [
        "#31 Кортежи Tuple"
      ],
      "metadata": {
        "id": "Y2YySKtX5QiT"
      }
    },
    {
      "cell_type": "code",
      "source": [
        "#Элементы кортежей изменять нельзя\n",
        "a = 1,2\n",
        "a\n"
      ],
      "metadata": {
        "colab": {
          "base_uri": "https://localhost:8080/"
        },
        "id": "N0U176zF5gmQ",
        "outputId": "195d0008-e3be-43bf-b222-b32954589001"
      },
      "execution_count": 93,
      "outputs": [
        {
          "output_type": "execute_result",
          "data": {
            "text/plain": [
              "(1, 2)"
            ]
          },
          "metadata": {},
          "execution_count": 93
        }
      ]
    },
    {
      "cell_type": "code",
      "source": [
        "a = (1,2,3)\n",
        "a"
      ],
      "metadata": {
        "colab": {
          "base_uri": "https://localhost:8080/"
        },
        "id": "uFAItfDT50WG",
        "outputId": "979ef0d1-561d-4810-c7d6-3b4ce2ad594e"
      },
      "execution_count": 95,
      "outputs": [
        {
          "output_type": "execute_result",
          "data": {
            "text/plain": [
              "(1, 2, 3)"
            ]
          },
          "metadata": {},
          "execution_count": 95
        }
      ]
    },
    {
      "cell_type": "code",
      "source": [
        "b = (1,)\n",
        "b"
      ],
      "metadata": {
        "colab": {
          "base_uri": "https://localhost:8080/"
        },
        "id": "Nx2NCQk_565Q",
        "outputId": "511d912e-c5f4-42ad-cd1f-1930f325f0eb"
      },
      "execution_count": 96,
      "outputs": [
        {
          "output_type": "execute_result",
          "data": {
            "text/plain": [
              "(1,)"
            ]
          },
          "metadata": {},
          "execution_count": 96
        }
      ]
    },
    {
      "cell_type": "code",
      "source": [
        "x, y = (1, 2)\n",
        "x"
      ],
      "metadata": {
        "colab": {
          "base_uri": "https://localhost:8080/"
        },
        "id": "ecNz5DbW6MPw",
        "outputId": "588a5357-5952-4a96-ce44-6f8cbc0fb2b7"
      },
      "execution_count": 98,
      "outputs": [
        {
          "output_type": "execute_result",
          "data": {
            "text/plain": [
              "1"
            ]
          },
          "metadata": {},
          "execution_count": 98
        }
      ]
    },
    {
      "cell_type": "code",
      "source": [
        "x, y, z = 1, 2, 3"
      ],
      "metadata": {
        "id": "6aip_7Z-6VXu"
      },
      "execution_count": 99,
      "outputs": []
    },
    {
      "cell_type": "code",
      "source": [
        "x, y = [\"Hello\", \"Python\"]\n",
        "y"
      ],
      "metadata": {
        "colab": {
          "base_uri": "https://localhost:8080/",
          "height": 35
        },
        "id": "QIn4PMqK6bgm",
        "outputId": "07548a2e-879f-4683-ffb9-aee01ef3973c"
      },
      "execution_count": 100,
      "outputs": [
        {
          "output_type": "execute_result",
          "data": {
            "text/plain": [
              "'Python'"
            ],
            "application/vnd.google.colaboratory.intrinsic+json": {
              "type": "string"
            }
          },
          "metadata": {},
          "execution_count": 100
        }
      ]
    },
    {
      "cell_type": "code",
      "source": [
        "a = (1,2,3)\n",
        "len(a)"
      ],
      "metadata": {
        "colab": {
          "base_uri": "https://localhost:8080/"
        },
        "id": "aRgCB-Qa6lHC",
        "outputId": "00c851cd-dd64-4e9e-9ef3-976c4452e03e"
      },
      "execution_count": 101,
      "outputs": [
        {
          "output_type": "execute_result",
          "data": {
            "text/plain": [
              "3"
            ]
          },
          "metadata": {},
          "execution_count": 101
        }
      ]
    },
    {
      "cell_type": "code",
      "source": [
        "a[1]"
      ],
      "metadata": {
        "colab": {
          "base_uri": "https://localhost:8080/"
        },
        "id": "yIZEZb6d6p9F",
        "outputId": "e1685a67-576f-4d5d-8ed5-c52635dae5cd"
      },
      "execution_count": 102,
      "outputs": [
        {
          "output_type": "execute_result",
          "data": {
            "text/plain": [
              "2"
            ]
          },
          "metadata": {},
          "execution_count": 102
        }
      ]
    },
    {
      "cell_type": "code",
      "source": [
        "a[0:2]"
      ],
      "metadata": {
        "colab": {
          "base_uri": "https://localhost:8080/"
        },
        "id": "EJoxmrHr6z8k",
        "outputId": "fd2e9597-61da-4fc3-f424-e7ff24560995"
      },
      "execution_count": 103,
      "outputs": [
        {
          "output_type": "execute_result",
          "data": {
            "text/plain": [
              "(1, 2)"
            ]
          },
          "metadata": {},
          "execution_count": 103
        }
      ]
    },
    {
      "cell_type": "code",
      "source": [
        "a[:]"
      ],
      "metadata": {
        "colab": {
          "base_uri": "https://localhost:8080/"
        },
        "id": "ARhZXhyp64Pk",
        "outputId": "6564838d-3152-4b0c-d734-f6e55978fa93"
      },
      "execution_count": 104,
      "outputs": [
        {
          "output_type": "execute_result",
          "data": {
            "text/plain": [
              "(1, 2, 3)"
            ]
          },
          "metadata": {},
          "execution_count": 104
        }
      ]
    },
    {
      "cell_type": "code",
      "source": [
        "a[1] = 10"
      ],
      "metadata": {
        "colab": {
          "base_uri": "https://localhost:8080/",
          "height": 165
        },
        "id": "L31YYjmF7Mao",
        "outputId": "32c6e72d-c835-4914-b8fc-635293b6ce3f"
      },
      "execution_count": 106,
      "outputs": [
        {
          "output_type": "error",
          "ename": "TypeError",
          "evalue": "ignored",
          "traceback": [
            "\u001b[0;31m---------------------------------------------------------------------------\u001b[0m",
            "\u001b[0;31mTypeError\u001b[0m                                 Traceback (most recent call last)",
            "\u001b[0;32m<ipython-input-106-51d2cf888a38>\u001b[0m in \u001b[0;36m<module>\u001b[0;34m()\u001b[0m\n\u001b[0;32m----> 1\u001b[0;31m \u001b[0ma\u001b[0m\u001b[0;34m[\u001b[0m\u001b[0;36m1\u001b[0m\u001b[0;34m]\u001b[0m \u001b[0;34m=\u001b[0m \u001b[0;36m10\u001b[0m\u001b[0;34m\u001b[0m\u001b[0;34m\u001b[0m\u001b[0m\n\u001b[0m",
            "\u001b[0;31mTypeError\u001b[0m: 'tuple' object does not support item assignment"
          ]
        }
      ]
    },
    {
      "cell_type": "code",
      "source": [
        "d = {}\n",
        "d[a] = \"кортеж\"\n",
        "d"
      ],
      "metadata": {
        "colab": {
          "base_uri": "https://localhost:8080/"
        },
        "id": "Dim-4aNR7U3h",
        "outputId": "4c7df67c-ab75-4cb5-95cf-91be06d37b44"
      },
      "execution_count": 107,
      "outputs": [
        {
          "output_type": "execute_result",
          "data": {
            "text/plain": [
              "{(1, 2, 3): 'кортеж'}"
            ]
          },
          "metadata": {},
          "execution_count": 107
        }
      ]
    },
    {
      "cell_type": "code",
      "source": [
        "lst = [1,2,3]\n",
        "crt = (1,2,3) #кортежу нужно меньше памяти\n",
        "print(lst.__sizeof__())\n",
        "print(crt.__sizeof__())"
      ],
      "metadata": {
        "colab": {
          "base_uri": "https://localhost:8080/"
        },
        "id": "mvE-bS7m7tT-",
        "outputId": "bb85de72-1da5-42c0-f203-a3a522f34e79"
      },
      "execution_count": 109,
      "outputs": [
        {
          "output_type": "stream",
          "name": "stdout",
          "text": [
            "64\n",
            "48\n"
          ]
        }
      ]
    },
    {
      "cell_type": "code",
      "source": [
        "aa = ()"
      ],
      "metadata": {
        "id": "c18rtrAP8VD8"
      },
      "execution_count": 114,
      "outputs": []
    },
    {
      "cell_type": "code",
      "source": [
        "b = tuple()\n",
        "b"
      ],
      "metadata": {
        "colab": {
          "base_uri": "https://localhost:8080/"
        },
        "id": "vfKdZ7228YXj",
        "outputId": "b70ec386-d502-410b-ede5-42a97102dea2"
      },
      "execution_count": 110,
      "outputs": [
        {
          "output_type": "execute_result",
          "data": {
            "text/plain": [
              "()"
            ]
          },
          "metadata": {},
          "execution_count": 110
        }
      ]
    },
    {
      "cell_type": "code",
      "source": [
        "aa = aa + (1,)\n",
        "aa"
      ],
      "metadata": {
        "colab": {
          "base_uri": "https://localhost:8080/"
        },
        "id": "AuZI02rQ8fY0",
        "outputId": "30ff3d86-cc47-4cee-817b-aafe0eb68cf3"
      },
      "execution_count": 115,
      "outputs": [
        {
          "output_type": "execute_result",
          "data": {
            "text/plain": [
              "(1,)"
            ]
          },
          "metadata": {},
          "execution_count": 115
        }
      ]
    },
    {
      "cell_type": "code",
      "source": [
        "aa += (('qwe', 'ewq'),)\n",
        "aa"
      ],
      "metadata": {
        "colab": {
          "base_uri": "https://localhost:8080/"
        },
        "id": "LiRHQNSt881z",
        "outputId": "48583e5b-32f1-43a1-de18-1667d4326116"
      },
      "execution_count": 116,
      "outputs": [
        {
          "output_type": "execute_result",
          "data": {
            "text/plain": [
              "(1, ('qwe', 'ewq'))"
            ]
          },
          "metadata": {},
          "execution_count": 116
        }
      ]
    },
    {
      "cell_type": "code",
      "source": [
        "b = (0,) * 5\n",
        "b"
      ],
      "metadata": {
        "colab": {
          "base_uri": "https://localhost:8080/"
        },
        "id": "0AiuzqZB9LRI",
        "outputId": "39fa4c74-3fe3-4e0b-f7a9-2c0985d97c04"
      },
      "execution_count": 117,
      "outputs": [
        {
          "output_type": "execute_result",
          "data": {
            "text/plain": [
              "(0, 0, 0, 0, 0)"
            ]
          },
          "metadata": {},
          "execution_count": 117
        }
      ]
    },
    {
      "cell_type": "code",
      "source": [
        "a = tuple([1,2,3])\n",
        "a"
      ],
      "metadata": {
        "colab": {
          "base_uri": "https://localhost:8080/"
        },
        "id": "pFpqwq_Y9RAb",
        "outputId": "2bde1872-fba3-4d55-fd0b-5b2ed7697de1"
      },
      "execution_count": 118,
      "outputs": [
        {
          "output_type": "execute_result",
          "data": {
            "text/plain": [
              "(1, 2, 3)"
            ]
          },
          "metadata": {},
          "execution_count": 118
        }
      ]
    },
    {
      "cell_type": "code",
      "source": [
        "a = tuple('hello')\n",
        "a"
      ],
      "metadata": {
        "colab": {
          "base_uri": "https://localhost:8080/"
        },
        "id": "4Mr0h5oL9cBb",
        "outputId": "c0c1554a-36f5-4bb1-ba72-c549062e6af9"
      },
      "execution_count": 119,
      "outputs": [
        {
          "output_type": "execute_result",
          "data": {
            "text/plain": [
              "('h', 'e', 'l', 'l', 'o')"
            ]
          },
          "metadata": {},
          "execution_count": 119
        }
      ]
    },
    {
      "cell_type": "code",
      "source": [
        "t = list(a)\n",
        "t"
      ],
      "metadata": {
        "colab": {
          "base_uri": "https://localhost:8080/"
        },
        "id": "yFZ1wcbY9kc3",
        "outputId": "966b4389-c2d0-465f-9997-47cdd80b3cea"
      },
      "execution_count": 120,
      "outputs": [
        {
          "output_type": "execute_result",
          "data": {
            "text/plain": [
              "['h', 'e', 'l', 'l', 'o']"
            ]
          },
          "metadata": {},
          "execution_count": 120
        }
      ]
    },
    {
      "cell_type": "code",
      "source": [
        "a = (True, [1,2,3], 'Hello', 5, {\"house\":\"дом\"})\n",
        "a"
      ],
      "metadata": {
        "colab": {
          "base_uri": "https://localhost:8080/"
        },
        "id": "zXcPQx6r9qfn",
        "outputId": "d5f9215d-0ddf-481d-e754-50931fda203d"
      },
      "execution_count": 124,
      "outputs": [
        {
          "output_type": "execute_result",
          "data": {
            "text/plain": [
              "(True, [1, 2, 3], 'Hello', 5, {'house': 'дом'})"
            ]
          },
          "metadata": {},
          "execution_count": 124
        }
      ]
    },
    {
      "cell_type": "code",
      "source": [
        "a[1].append(55)\n",
        "a"
      ],
      "metadata": {
        "colab": {
          "base_uri": "https://localhost:8080/"
        },
        "id": "l_8QLmJz99L-",
        "outputId": "810d1afc-9f4a-4240-8651-66dcb5d427e4"
      },
      "execution_count": 125,
      "outputs": [
        {
          "output_type": "execute_result",
          "data": {
            "text/plain": [
              "(True, [1, 2, 3, 55], 'Hello', 5, {'house': 'дом'})"
            ]
          },
          "metadata": {},
          "execution_count": 125
        }
      ]
    },
    {
      "cell_type": "code",
      "source": [
        "tpl = (1,2,1,1,1,2,2,3,3,2)\n",
        "tpl.count(1)"
      ],
      "metadata": {
        "colab": {
          "base_uri": "https://localhost:8080/"
        },
        "id": "fUeX8mDo-d7J",
        "outputId": "7c38537a-a447-4bf0-cc29-8c6479898c5d"
      },
      "execution_count": 126,
      "outputs": [
        {
          "output_type": "execute_result",
          "data": {
            "text/plain": [
              "4"
            ]
          },
          "metadata": {},
          "execution_count": 126
        }
      ]
    },
    {
      "cell_type": "code",
      "source": [
        "tpl = (1,2,1,1,1,2,2,3,3,2)\n",
        "tpl.count(5)"
      ],
      "metadata": {
        "colab": {
          "base_uri": "https://localhost:8080/"
        },
        "id": "JV2VEy3c-uNf",
        "outputId": "29648c9a-a222-407f-8f9a-9dc445aca8ff"
      },
      "execution_count": 127,
      "outputs": [
        {
          "output_type": "execute_result",
          "data": {
            "text/plain": [
              "0"
            ]
          },
          "metadata": {},
          "execution_count": 127
        }
      ]
    },
    {
      "cell_type": "code",
      "source": [
        "tpl = (1,2,1,1,1,2,2,3,3,2)\n",
        "tpl.index(2,3) #значение и диапазон"
      ],
      "metadata": {
        "colab": {
          "base_uri": "https://localhost:8080/"
        },
        "id": "jPWORqy--y-h",
        "outputId": "0fe0fc4f-9562-495e-d29f-ce437c1c7ae3"
      },
      "execution_count": 129,
      "outputs": [
        {
          "output_type": "execute_result",
          "data": {
            "text/plain": [
              "5"
            ]
          },
          "metadata": {},
          "execution_count": 129
        }
      ]
    },
    {
      "cell_type": "code",
      "source": [
        "3 in tpl"
      ],
      "metadata": {
        "colab": {
          "base_uri": "https://localhost:8080/"
        },
        "id": "1sY_VQgP_KmA",
        "outputId": "f3c6095c-90dd-47a9-f909-566d902994f2"
      },
      "execution_count": 130,
      "outputs": [
        {
          "output_type": "execute_result",
          "data": {
            "text/plain": [
              "True"
            ]
          },
          "metadata": {},
          "execution_count": 130
        }
      ]
    },
    {
      "cell_type": "markdown",
      "source": [
        "#32 Множества SET и их методы"
      ],
      "metadata": {
        "id": "rY9hB_PK_fcn"
      }
    },
    {
      "cell_type": "code",
      "source": [
        "a = {1,2,3,\"hello\"}\n",
        "type(a)"
      ],
      "metadata": {
        "colab": {
          "base_uri": "https://localhost:8080/"
        },
        "id": "4JXNraFT_oQ2",
        "outputId": "f6a14e38-ec2c-4e2c-ea69-65235ed44ae1"
      },
      "execution_count": 132,
      "outputs": [
        {
          "output_type": "execute_result",
          "data": {
            "text/plain": [
              "set"
            ]
          },
          "metadata": {},
          "execution_count": 132
        }
      ]
    },
    {
      "cell_type": "code",
      "source": [
        "a = {1,2,3, \"Hello\",1,2,3, \"Hello\"}\n",
        "a #только уникальные объекты"
      ],
      "metadata": {
        "colab": {
          "base_uri": "https://localhost:8080/"
        },
        "id": "HSaHW1R_AE-c",
        "outputId": "80cacf67-2818-47d7-d652-ab9524b35610"
      },
      "execution_count": 133,
      "outputs": [
        {
          "output_type": "execute_result",
          "data": {
            "text/plain": [
              "{1, 2, 3, 'Hello'}"
            ]
          },
          "metadata": {},
          "execution_count": 133
        }
      ]
    },
    {
      "cell_type": "code",
      "source": [
        "a = {1,4.5, \"str\",(1,2,3)} #только не изменяемые объекты"
      ],
      "metadata": {
        "id": "dDI-ervnASkH"
      },
      "execution_count": 134,
      "outputs": []
    },
    {
      "cell_type": "code",
      "source": [
        " a = {1,4.5, \"str\",[1,2,3] #только не изменяемые объекты"
      ],
      "metadata": {
        "colab": {
          "base_uri": "https://localhost:8080/",
          "height": 130
        },
        "id": "b4rnaf3pAcyo",
        "outputId": "32b69d41-a0bb-4e68-973c-44befaadaf3f"
      },
      "execution_count": 135,
      "outputs": [
        {
          "output_type": "error",
          "ename": "SyntaxError",
          "evalue": "ignored",
          "traceback": [
            "\u001b[0;36m  File \u001b[0;32m\"<ipython-input-135-9b2e60638806>\"\u001b[0;36m, line \u001b[0;32m1\u001b[0m\n\u001b[0;31m    a = {1,4.5, \"str\",[1,2,3] #только не изменяемые объекты\u001b[0m\n\u001b[0m                                                           ^\u001b[0m\n\u001b[0;31mSyntaxError\u001b[0m\u001b[0;31m:\u001b[0m unexpected EOF while parsing\n"
          ]
        }
      ]
    },
    {
      "cell_type": "code",
      "source": [
        "st = set()\n",
        "st"
      ],
      "metadata": {
        "colab": {
          "base_uri": "https://localhost:8080/"
        },
        "id": "UBO9Ilb9AlHg",
        "outputId": "216eb0a3-721c-4220-efb1-5bb429646695"
      },
      "execution_count": 137,
      "outputs": [
        {
          "output_type": "execute_result",
          "data": {
            "text/plain": [
              "set()"
            ]
          },
          "metadata": {},
          "execution_count": 137
        }
      ]
    },
    {
      "cell_type": "code",
      "source": [
        "set([1,2,34,2,3,3,2,2,1,])"
      ],
      "metadata": {
        "colab": {
          "base_uri": "https://localhost:8080/"
        },
        "id": "T3zef07-AvPo",
        "outputId": "75bfa327-a1aa-4585-ac79-e05a9dd753ce"
      },
      "execution_count": 138,
      "outputs": [
        {
          "output_type": "execute_result",
          "data": {
            "text/plain": [
              "{1, 2, 3, 34}"
            ]
          },
          "metadata": {},
          "execution_count": 138
        }
      ]
    },
    {
      "cell_type": "code",
      "source": [
        "set('abrakadakra')"
      ],
      "metadata": {
        "colab": {
          "base_uri": "https://localhost:8080/"
        },
        "id": "5cevpa8RA1fW",
        "outputId": "52056b1d-6342-434b-85b1-991834a5964e"
      },
      "execution_count": 139,
      "outputs": [
        {
          "output_type": "execute_result",
          "data": {
            "text/plain": [
              "{'a', 'b', 'd', 'k', 'r'}"
            ]
          },
          "metadata": {},
          "execution_count": 139
        }
      ]
    },
    {
      "cell_type": "code",
      "source": [
        "set(range(10))"
      ],
      "metadata": {
        "colab": {
          "base_uri": "https://localhost:8080/"
        },
        "id": "o0O_RrQ5A7-I",
        "outputId": "d1144912-d511-4467-a9a4-5ef7c1b8172c"
      },
      "execution_count": 140,
      "outputs": [
        {
          "output_type": "execute_result",
          "data": {
            "text/plain": [
              "{0, 1, 2, 3, 4, 5, 6, 7, 8, 9}"
            ]
          },
          "metadata": {},
          "execution_count": 140
        }
      ]
    },
    {
      "cell_type": "code",
      "source": [
        "numbers = [11,12,11,13,14,14,14,12,23]\n",
        "q = set(numbers)"
      ],
      "metadata": {
        "id": "hrbwfeTRBD_U"
      },
      "execution_count": 143,
      "outputs": []
    },
    {
      "cell_type": "code",
      "source": [
        "for n in q:\n",
        "  print(n)"
      ],
      "metadata": {
        "colab": {
          "base_uri": "https://localhost:8080/"
        },
        "id": "kHCpIJ8DBVXb",
        "outputId": "b24abe59-ba2e-4ceb-a837-9dd62f63e1ba"
      },
      "execution_count": 144,
      "outputs": [
        {
          "output_type": "stream",
          "name": "stdout",
          "text": [
            "11\n",
            "12\n",
            "13\n",
            "14\n",
            "23\n"
          ]
        }
      ]
    },
    {
      "cell_type": "code",
      "source": [
        "len(q)"
      ],
      "metadata": {
        "colab": {
          "base_uri": "https://localhost:8080/"
        },
        "id": "p_97YSWJBmm2",
        "outputId": "8991e3c0-a668-4bf7-d9ee-4c3741aadc4b"
      },
      "execution_count": 145,
      "outputs": [
        {
          "output_type": "execute_result",
          "data": {
            "text/plain": [
              "5"
            ]
          },
          "metadata": {},
          "execution_count": 145
        }
      ]
    },
    {
      "cell_type": "code",
      "source": [
        "11 in q"
      ],
      "metadata": {
        "colab": {
          "base_uri": "https://localhost:8080/"
        },
        "id": "FLa_bgTpBwXQ",
        "outputId": "7e90cc92-7455-4fbd-dc2a-88dfc40ff366"
      },
      "execution_count": 146,
      "outputs": [
        {
          "output_type": "execute_result",
          "data": {
            "text/plain": [
              "True"
            ]
          },
          "metadata": {},
          "execution_count": 146
        }
      ]
    },
    {
      "cell_type": "code",
      "source": [
        "b = set()\n",
        "b.add(7)\n",
        "b\n",
        "b.add(3)\n",
        "b"
      ],
      "metadata": {
        "colab": {
          "base_uri": "https://localhost:8080/"
        },
        "id": "uiJ99zxqB1Ta",
        "outputId": "b1b436ea-88e1-4375-91a2-a938d9843b7a"
      },
      "execution_count": 153,
      "outputs": [
        {
          "output_type": "execute_result",
          "data": {
            "text/plain": [
              "{3, 7}"
            ]
          },
          "metadata": {},
          "execution_count": 153
        }
      ]
    },
    {
      "cell_type": "code",
      "source": [
        "b.update([1,2],(3,2))\n",
        "b"
      ],
      "metadata": {
        "colab": {
          "base_uri": "https://localhost:8080/"
        },
        "id": "Gzxwc4mrCGSm",
        "outputId": "e15eafc4-3e47-401d-e41b-b7e3f28db0fd"
      },
      "execution_count": 155,
      "outputs": [
        {
          "output_type": "execute_result",
          "data": {
            "text/plain": [
              "{1, 2, 3, 7}"
            ]
          },
          "metadata": {},
          "execution_count": 155
        }
      ]
    },
    {
      "cell_type": "code",
      "source": [
        "b.discard(7)\n",
        "b"
      ],
      "metadata": {
        "colab": {
          "base_uri": "https://localhost:8080/"
        },
        "id": "pjSfxLWaCYli",
        "outputId": "292c8a3b-1cbc-4286-98cd-63f339e45ae8"
      },
      "execution_count": 160,
      "outputs": [
        {
          "output_type": "execute_result",
          "data": {
            "text/plain": [
              "{3}"
            ]
          },
          "metadata": {},
          "execution_count": 160
        }
      ]
    },
    {
      "cell_type": "code",
      "source": [
        "b.remove(7)"
      ],
      "metadata": {
        "colab": {
          "base_uri": "https://localhost:8080/",
          "height": 165
        },
        "id": "azwsOCymCpWu",
        "outputId": "1cdda503-b18e-49cc-826f-29be3f551e5a"
      },
      "execution_count": 161,
      "outputs": [
        {
          "output_type": "error",
          "ename": "KeyError",
          "evalue": "ignored",
          "traceback": [
            "\u001b[0;31m---------------------------------------------------------------------------\u001b[0m",
            "\u001b[0;31mKeyError\u001b[0m                                  Traceback (most recent call last)",
            "\u001b[0;32m<ipython-input-161-1c36707ec151>\u001b[0m in \u001b[0;36m<module>\u001b[0;34m()\u001b[0m\n\u001b[0;32m----> 1\u001b[0;31m \u001b[0mb\u001b[0m\u001b[0;34m.\u001b[0m\u001b[0mremove\u001b[0m\u001b[0;34m(\u001b[0m\u001b[0;36m7\u001b[0m\u001b[0;34m)\u001b[0m\u001b[0;34m\u001b[0m\u001b[0;34m\u001b[0m\u001b[0m\n\u001b[0m",
            "\u001b[0;31mKeyError\u001b[0m: 7"
          ]
        }
      ]
    },
    {
      "cell_type": "code",
      "source": [
        "b.pop()\n",
        "b"
      ],
      "metadata": {
        "colab": {
          "base_uri": "https://localhost:8080/"
        },
        "id": "cGnVzRG8Cvlv",
        "outputId": "cbaff52f-a89b-4aa9-cec8-bdd4a71051fb"
      },
      "execution_count": 162,
      "outputs": [
        {
          "output_type": "execute_result",
          "data": {
            "text/plain": [
              "set()"
            ]
          },
          "metadata": {},
          "execution_count": 162
        }
      ]
    },
    {
      "cell_type": "code",
      "source": [
        "a = {1,2,3,4,5}\n",
        "a.clear()\n",
        "a"
      ],
      "metadata": {
        "colab": {
          "base_uri": "https://localhost:8080/"
        },
        "id": "O7mgQKeCC-pI",
        "outputId": "1e449fee-4567-415e-bab5-faa2f2d04787"
      },
      "execution_count": 164,
      "outputs": [
        {
          "output_type": "execute_result",
          "data": {
            "text/plain": [
              "set()"
            ]
          },
          "metadata": {},
          "execution_count": 164
        }
      ]
    },
    {
      "cell_type": "code",
      "source": [
        "d = set([1.2,2,3,4,5,5,4,3,2,1])\n",
        "d"
      ],
      "metadata": {
        "colab": {
          "base_uri": "https://localhost:8080/"
        },
        "id": "V4JML9yIDLV9",
        "outputId": "0c3c96a4-0446-40ae-9c87-02b7028da710"
      },
      "execution_count": 165,
      "outputs": [
        {
          "output_type": "execute_result",
          "data": {
            "text/plain": [
              "{1, 1.2, 2, 3, 4, 5}"
            ]
          },
          "metadata": {},
          "execution_count": 165
        }
      ]
    },
    {
      "cell_type": "markdown",
      "source": [
        "#33 Операции над множествами"
      ],
      "metadata": {
        "id": "0tQuWbRtGwpI"
      }
    },
    {
      "cell_type": "code",
      "source": [
        "setA = {1,2,3,4}\n",
        "setB = {3,4,5,6,7}\n",
        "\n",
        "res = setA & setB #Пересечение множеств\n",
        "res"
      ],
      "metadata": {
        "colab": {
          "base_uri": "https://localhost:8080/"
        },
        "id": "JwL1_R99G4fu",
        "outputId": "b65c2095-783d-4d30-8f3c-d620495590f7"
      },
      "execution_count": 166,
      "outputs": [
        {
          "output_type": "execute_result",
          "data": {
            "text/plain": [
              "{3, 4}"
            ]
          },
          "metadata": {},
          "execution_count": 166
        }
      ]
    },
    {
      "cell_type": "code",
      "source": [
        "setA.intersection(setB)"
      ],
      "metadata": {
        "colab": {
          "base_uri": "https://localhost:8080/"
        },
        "id": "nE_bLJGUHP1p",
        "outputId": "81428173-2e32-4a4a-85f9-e88bcb41fcd0"
      },
      "execution_count": 167,
      "outputs": [
        {
          "output_type": "execute_result",
          "data": {
            "text/plain": [
              "{3, 4}"
            ]
          },
          "metadata": {},
          "execution_count": 167
        }
      ]
    },
    {
      "cell_type": "code",
      "source": [
        "setA.intersection_update(setB)"
      ],
      "metadata": {
        "id": "-vHg_y16HbQR"
      },
      "execution_count": 168,
      "outputs": []
    },
    {
      "cell_type": "code",
      "source": [
        "setA = {1,2,3,4}\n",
        "setB = {3,4,5,6,7}\n",
        "\n",
        "setA | setB #Объединение множеств"
      ],
      "metadata": {
        "colab": {
          "base_uri": "https://localhost:8080/"
        },
        "id": "nH_cBhUqHkQB",
        "outputId": "85f9c61e-e4c1-46b1-d496-6485f98b81ad"
      },
      "execution_count": 169,
      "outputs": [
        {
          "output_type": "execute_result",
          "data": {
            "text/plain": [
              "{1, 2, 3, 4, 5, 6, 7}"
            ]
          },
          "metadata": {},
          "execution_count": 169
        }
      ]
    },
    {
      "cell_type": "code",
      "source": [
        "setA |= setB\n",
        "setA"
      ],
      "metadata": {
        "colab": {
          "base_uri": "https://localhost:8080/"
        },
        "id": "rYrmZrVNHshs",
        "outputId": "32241cff-cb25-4fd7-e47e-0773fcf5f1a5"
      },
      "execution_count": 171,
      "outputs": [
        {
          "output_type": "execute_result",
          "data": {
            "text/plain": [
              "{1, 2, 3, 4, 5, 6, 7}"
            ]
          },
          "metadata": {},
          "execution_count": 171
        }
      ]
    },
    {
      "cell_type": "code",
      "source": [
        "setA = {1,2,3,4}\n",
        "setB = {3,4,5,6,7}\n",
        "setA.union(setB)"
      ],
      "metadata": {
        "colab": {
          "base_uri": "https://localhost:8080/"
        },
        "id": "7MqMPGvAH2aE",
        "outputId": "a3cce830-3589-4be8-f9c0-0c3290d98dce"
      },
      "execution_count": 172,
      "outputs": [
        {
          "output_type": "execute_result",
          "data": {
            "text/plain": [
              "{1, 2, 3, 4, 5, 6, 7}"
            ]
          },
          "metadata": {},
          "execution_count": 172
        }
      ]
    },
    {
      "cell_type": "code",
      "source": [
        "setA = {1,2,3,4}\n",
        "setB = {3,4,5,6,7}\n",
        "setA - setB"
      ],
      "metadata": {
        "colab": {
          "base_uri": "https://localhost:8080/"
        },
        "id": "OrJ5TaqTH8_0",
        "outputId": "34befe5e-79dd-47d8-b521-6f9fda948838"
      },
      "execution_count": 173,
      "outputs": [
        {
          "output_type": "execute_result",
          "data": {
            "text/plain": [
              "{1, 2}"
            ]
          },
          "metadata": {},
          "execution_count": 173
        }
      ]
    },
    {
      "cell_type": "code",
      "source": [
        "setB -= setA"
      ],
      "metadata": {
        "id": "Q7bMwgtCIP_j"
      },
      "execution_count": 174,
      "outputs": []
    },
    {
      "cell_type": "code",
      "source": [
        "setA = {1,2,3,4}\n",
        "setB = {3,4,5,6,7}\n",
        "# Симметричная разность\n",
        "\n",
        "setA ^ setB"
      ],
      "metadata": {
        "colab": {
          "base_uri": "https://localhost:8080/"
        },
        "id": "inwgV8bVIUJ2",
        "outputId": "c9763af1-2831-411b-9d43-7421ba7409e1"
      },
      "execution_count": 175,
      "outputs": [
        {
          "output_type": "execute_result",
          "data": {
            "text/plain": [
              "{1, 2, 5, 6, 7}"
            ]
          },
          "metadata": {},
          "execution_count": 175
        }
      ]
    },
    {
      "cell_type": "code",
      "source": [
        "setA = {2,5,3,5,2}\n",
        "setB = {5,3,2,5,2}\n",
        "setA == setB"
      ],
      "metadata": {
        "colab": {
          "base_uri": "https://localhost:8080/"
        },
        "id": "IfiA3rmwIivh",
        "outputId": "7e81c781-9b3e-49b8-c859-1e604d7855a8"
      },
      "execution_count": 176,
      "outputs": [
        {
          "output_type": "execute_result",
          "data": {
            "text/plain": [
              "True"
            ]
          },
          "metadata": {},
          "execution_count": 176
        }
      ]
    },
    {
      "cell_type": "code",
      "source": [
        "setA = {7,3,4,3,2}\n",
        "setB = {7,3,4}\n",
        "setA > setB"
      ],
      "metadata": {
        "colab": {
          "base_uri": "https://localhost:8080/"
        },
        "id": "W43xvVAOIvBt",
        "outputId": "d51f6f0e-7c5b-41b4-a934-b239097b74b9"
      },
      "execution_count": 179,
      "outputs": [
        {
          "output_type": "execute_result",
          "data": {
            "text/plain": [
              "True"
            ]
          },
          "metadata": {},
          "execution_count": 179
        }
      ]
    },
    {
      "cell_type": "code",
      "source": [
        "setA = {1,2,3,4,5}\n",
        "setB = {6,7,8}\n",
        "setA > setB"
      ],
      "metadata": {
        "colab": {
          "base_uri": "https://localhost:8080/"
        },
        "id": "KM6V-o7YI7uo",
        "outputId": "3db3e3e9-d685-4921-f8b5-75387915b26a"
      },
      "execution_count": 180,
      "outputs": [
        {
          "output_type": "execute_result",
          "data": {
            "text/plain": [
              "False"
            ]
          },
          "metadata": {},
          "execution_count": 180
        }
      ]
    },
    {
      "cell_type": "markdown",
      "source": [
        "#34 Генераторы множеств и словарей"
      ],
      "metadata": {
        "id": "Uyt4tjSkJL_S"
      }
    },
    {
      "cell_type": "code",
      "source": [
        "a = [x **2 for x in range(2,7)]\n",
        "a"
      ],
      "metadata": {
        "colab": {
          "base_uri": "https://localhost:8080/"
        },
        "id": "-GcDC6vvJRbj",
        "outputId": "8086a97a-6bc8-4622-abbf-e44c781671b0"
      },
      "execution_count": 181,
      "outputs": [
        {
          "output_type": "execute_result",
          "data": {
            "text/plain": [
              "[4, 9, 16, 25, 36]"
            ]
          },
          "metadata": {},
          "execution_count": 181
        }
      ]
    },
    {
      "cell_type": "code",
      "source": [
        "a = {x **2 for x in range(2,7)}\n",
        "a"
      ],
      "metadata": {
        "colab": {
          "base_uri": "https://localhost:8080/"
        },
        "id": "1neokDUjJmTZ",
        "outputId": "6b32d42f-68e8-4884-dcc5-dda054d7ede8"
      },
      "execution_count": 182,
      "outputs": [
        {
          "output_type": "execute_result",
          "data": {
            "text/plain": [
              "{4, 9, 16, 25, 36}"
            ]
          },
          "metadata": {},
          "execution_count": 182
        }
      ]
    },
    {
      "cell_type": "code",
      "source": [
        "a = {x: x **2 for x in range(2,7)}\n",
        "a"
      ],
      "metadata": {
        "colab": {
          "base_uri": "https://localhost:8080/"
        },
        "id": "lt_cYidJJzuu",
        "outputId": "16f5cffc-6037-4de7-a810-4b8365f66a7a"
      },
      "execution_count": 183,
      "outputs": [
        {
          "output_type": "execute_result",
          "data": {
            "text/plain": [
              "{2: 4, 3: 9, 4: 16, 5: 25, 6: 36}"
            ]
          },
          "metadata": {},
          "execution_count": 183
        }
      ]
    },
    {
      "cell_type": "code",
      "source": [
        "dd = [1,2, \"3333434\", -7.12, 5]\n",
        "сс = {int(x) for x in dd} #преобразование списка во множество\n",
        "сс"
      ],
      "metadata": {
        "colab": {
          "base_uri": "https://localhost:8080/"
        },
        "id": "K_qFNrJJJ55o",
        "outputId": "faf9c0ba-2146-4228-c979-a73f3e9d3b6c"
      },
      "execution_count": 193,
      "outputs": [
        {
          "output_type": "execute_result",
          "data": {
            "text/plain": [
              "{-7, 1, 2, 5, 3333434}"
            ]
          },
          "metadata": {},
          "execution_count": 193
        }
      ]
    },
    {
      "cell_type": "code",
      "source": [
        "m = {\"неуд\": 2,\"удовл\": 3,\"хор\": 4,\"отл\": 5}\n",
        "a = {key.upper(): int(value) for key, value in m.items()}\n",
        "a"
      ],
      "metadata": {
        "colab": {
          "base_uri": "https://localhost:8080/"
        },
        "id": "fR2mPsN-K7aS",
        "outputId": "9a3acfda-4921-4767-8eed-3bbae231e057"
      },
      "execution_count": 195,
      "outputs": [
        {
          "output_type": "execute_result",
          "data": {
            "text/plain": [
              "{'НЕУД': 2, 'ОТЛ': 5, 'УДОВЛ': 3, 'ХОР': 4}"
            ]
          },
          "metadata": {},
          "execution_count": 195
        }
      ]
    },
    {
      "cell_type": "code",
      "source": [
        "d = [1,2, \"3333434\", -7.12, 5]\n",
        "a = {int(x) for x in d if int(x) >0}\n",
        "a"
      ],
      "metadata": {
        "colab": {
          "base_uri": "https://localhost:8080/"
        },
        "id": "kbgSlOWBLzNE",
        "outputId": "947637c7-dd06-4661-c36e-22f87610b79a"
      },
      "execution_count": 196,
      "outputs": [
        {
          "output_type": "execute_result",
          "data": {
            "text/plain": [
              "{1, 2, 5, 3333434}"
            ]
          },
          "metadata": {},
          "execution_count": 196
        }
      ]
    },
    {
      "cell_type": "code",
      "source": [
        "m = {\"безнадеж\": 0,\"убого\": 1,\"неуд\": 2,\"удовл\": 3,\"хор\": 4,\"отл\": 5}\n",
        "\n",
        "a = {int(value):key for key, value in m.items() if 2<= int(value) <= 5}\n",
        "a"
      ],
      "metadata": {
        "colab": {
          "base_uri": "https://localhost:8080/"
        },
        "id": "ZQdl5sXnMKXM",
        "outputId": "c5a7ef2d-fea0-4f19-f372-aaa3a4630d18"
      },
      "execution_count": 200,
      "outputs": [
        {
          "output_type": "execute_result",
          "data": {
            "text/plain": [
              "{2: 'неуд', 3: 'удовл', 4: 'хор', 5: 'отл'}"
            ]
          },
          "metadata": {},
          "execution_count": 200
        }
      ]
    },
    {
      "cell_type": "markdown",
      "source": [
        "#35 Функции. Знакомство"
      ],
      "metadata": {
        "id": "8D20OEmT1jxU"
      }
    },
    {
      "cell_type": "code",
      "source": [
        "print #ссылка на функ"
      ],
      "metadata": {
        "colab": {
          "base_uri": "https://localhost:8080/"
        },
        "id": "23_fvSTB1qvR",
        "outputId": "7be36105-cbad-4709-b17f-30cceec6dae7"
      },
      "execution_count": 1,
      "outputs": [
        {
          "output_type": "execute_result",
          "data": {
            "text/plain": [
              "<function print>"
            ]
          },
          "metadata": {},
          "execution_count": 1
        }
      ]
    },
    {
      "cell_type": "code",
      "source": [
        "print() #скобки активируют функ"
      ],
      "metadata": {
        "id": "JZez81MZ1x5W"
      },
      "execution_count": null,
      "outputs": []
    },
    {
      "cell_type": "code",
      "source": [
        "f = print\n",
        "f(\"Hello\")"
      ],
      "metadata": {
        "colab": {
          "base_uri": "https://localhost:8080/"
        },
        "id": "Ku2Fr1sy16hq",
        "outputId": "4582158c-500a-438e-b319-869095944dfd"
      },
      "execution_count": 2,
      "outputs": [
        {
          "output_type": "stream",
          "name": "stdout",
          "text": [
            "Hello\n"
          ]
        }
      ]
    },
    {
      "cell_type": "code",
      "source": [
        "def send_mail():\n",
        "  text = \"Я так и непонял что такое функция\"\n",
        "  print(text)"
      ],
      "metadata": {
        "id": "e9oyWt0z2mD2"
      },
      "execution_count": 3,
      "outputs": []
    },
    {
      "cell_type": "code",
      "source": [
        ""
      ],
      "metadata": {
        "id": "IWfp-9Z74IXn"
      },
      "execution_count": null,
      "outputs": []
    },
    {
      "cell_type": "code",
      "source": [
        "send_mail()"
      ],
      "metadata": {
        "colab": {
          "base_uri": "https://localhost:8080/"
        },
        "id": "JVSZnVyv3LH8",
        "outputId": "bf7dfba2-1854-4644-b49f-89db39f04c01"
      },
      "execution_count": 4,
      "outputs": [
        {
          "output_type": "stream",
          "name": "stdout",
          "text": [
            "Я так и непонял что такое функция\n"
          ]
        }
      ]
    },
    {
      "cell_type": "code",
      "source": [
        "def send_mail(from_name): #Добавили аргумент\n",
        "  text = f\"\"\"Я так и непонял что такое функция\n",
        "  С уважением, {from_name}\"\"\"\n",
        "  print(text)"
      ],
      "metadata": {
        "id": "I6Fcmdoq4Jup"
      },
      "execution_count": 8,
      "outputs": []
    },
    {
      "cell_type": "code",
      "source": [
        "send_mail(\"Kir\")"
      ],
      "metadata": {
        "colab": {
          "base_uri": "https://localhost:8080/"
        },
        "id": "vvH05WgW4iXQ",
        "outputId": "7c439bb6-b3e5-4a76-bede-31dbc0aef195"
      },
      "execution_count": 7,
      "outputs": [
        {
          "output_type": "stream",
          "name": "stdout",
          "text": [
            "Я так и непонял что такое функция\n",
            "  С уважением, Kir\n"
          ]
        }
      ]
    },
    {
      "cell_type": "code",
      "source": [
        "def send_mail(from_name, old): #Добавили аргумент\n",
        "  text = f\"\"\"Я так и непонял что такое функция\n",
        "  С уважением, {from_name}\n",
        "  Мне {old} лет\"\"\"\n",
        "  print(text)"
      ],
      "metadata": {
        "id": "NiYuxFYq5RMA"
      },
      "execution_count": 9,
      "outputs": []
    },
    {
      "cell_type": "code",
      "source": [
        "send_mail(\"Kir\",39)"
      ],
      "metadata": {
        "colab": {
          "base_uri": "https://localhost:8080/"
        },
        "id": "TP354zMF5dEK",
        "outputId": "4b927848-7692-4dec-88f6-05111e8e43ca"
      },
      "execution_count": 11,
      "outputs": [
        {
          "output_type": "stream",
          "name": "stdout",
          "text": [
            "Я так и непонял что такое функция\n",
            "  С уважением, Kir\n",
            "  Мне 39 лет\n"
          ]
        }
      ]
    },
    {
      "cell_type": "markdown",
      "source": [
        "#36 Оператор Return в функциях"
      ],
      "metadata": {
        "id": "X5bu3M2x6mK3"
      }
    },
    {
      "cell_type": "code",
      "source": [
        "def send_mail(from_name, old): #Добавили аргумент\n",
        "  text = f\"\"\"Я так и непонял что такое функция\n",
        "  С уважением, {from_name}\n",
        "  Мне {old} лет\"\"\"\n",
        "  print(text)"
      ],
      "metadata": {
        "id": "H0UgkH2A5k3R"
      },
      "execution_count": null,
      "outputs": []
    },
    {
      "cell_type": "code",
      "source": [
        "def get_sqrt(x):\n",
        "  res = None if x < 0 else x ** 0.5\n",
        "  return res\n",
        "\n",
        "a = get_sqrt(49)\n",
        "print(a)"
      ],
      "metadata": {
        "colab": {
          "base_uri": "https://localhost:8080/"
        },
        "id": "JvFV7sgj6zJG",
        "outputId": "7bf8f665-8e76-40e9-b799-4bb24db0bbe8"
      },
      "execution_count": 15,
      "outputs": [
        {
          "output_type": "stream",
          "name": "stdout",
          "text": [
            "7.0\n"
          ]
        }
      ]
    },
    {
      "cell_type": "code",
      "source": [
        "def get_sqrt(x):\n",
        "  res = None if x < 0 else x ** 0.5\n",
        "  print(x)\n",
        "  return res\n",
        "\n",
        "a = get_sqrt(49)\n",
        "print(a)"
      ],
      "metadata": {
        "colab": {
          "base_uri": "https://localhost:8080/"
        },
        "id": "INq6bmd_8RS_",
        "outputId": "55267329-17ed-47f5-dd25-2e133943179d"
      },
      "execution_count": 16,
      "outputs": [
        {
          "output_type": "stream",
          "name": "stdout",
          "text": [
            "49\n",
            "7.0\n"
          ]
        }
      ]
    },
    {
      "cell_type": "code",
      "source": [
        "def get_sqrt(x):\n",
        "  res = None if x < 0 else x ** 0.5\n",
        "  return (res, x)\n",
        "\n",
        "a, b = get_sqrt(49)\n",
        "print(a, b)"
      ],
      "metadata": {
        "colab": {
          "base_uri": "https://localhost:8080/"
        },
        "id": "WC_wFIE38Way",
        "outputId": "821e91ee-088d-415a-d498-27945b9f4b3c"
      },
      "execution_count": 17,
      "outputs": [
        {
          "output_type": "stream",
          "name": "stdout",
          "text": [
            "7.0 49\n"
          ]
        }
      ]
    },
    {
      "cell_type": "code",
      "source": [
        "def get_max_2(a, b):\n",
        "  return a if a > b else b\n",
        "\n",
        "x, y, z = 5, 7, 10\n",
        "print(get_max_2(x, get_max_2(y, z))) #Огонь!!!"
      ],
      "metadata": {
        "colab": {
          "base_uri": "https://localhost:8080/"
        },
        "id": "oWqvyjfw8kyJ",
        "outputId": "b10ff56f-e86d-4520-b95e-e06fb362bf10"
      },
      "execution_count": 19,
      "outputs": [
        {
          "output_type": "stream",
          "name": "stdout",
          "text": [
            "10\n"
          ]
        }
      ]
    },
    {
      "cell_type": "code",
      "source": [
        "def get_max_3 (a, b, c):\n",
        "  return (get_max_2(a, get_max_2(b, c)))\n",
        "\n",
        "x, y, z = 5, 7, 10\n",
        "print(get_max_3(x, y, z)) #Из одной функции - другую"
      ],
      "metadata": {
        "colab": {
          "base_uri": "https://localhost:8080/"
        },
        "id": "2yUtwxWp9XQZ",
        "outputId": "9c5a3499-b9f5-4a61-a45e-d0cf622a73ef"
      },
      "execution_count": 21,
      "outputs": [
        {
          "output_type": "stream",
          "name": "stdout",
          "text": [
            "10\n"
          ]
        }
      ]
    },
    {
      "cell_type": "code",
      "source": [
        "PERIMETR = True\n",
        "if PERIMETR:\n",
        "  get_rect = 1\n",
        "else:\n",
        "  get_rect = 2\n",
        "\n",
        "print get_rect"
      ],
      "metadata": {
        "id": "f_mMb_h_93m5"
      },
      "execution_count": null,
      "outputs": []
    },
    {
      "cell_type": "code",
      "source": [
        "PERIMETR = False\n",
        "if PERIMETR:\n",
        "  def get_rect(a, b):\n",
        "    return 2 * (a+b)\n",
        "else:\n",
        "  def get_rect(a, b):\n",
        "    return a * b\n",
        "\n",
        "print(get_rect(4, 3.5))\n"
      ],
      "metadata": {
        "colab": {
          "base_uri": "https://localhost:8080/"
        },
        "id": "ppura5-J-NR9",
        "outputId": "be1fa8ba-a0ed-44df-f53c-e7505f641856"
      },
      "execution_count": 23,
      "outputs": [
        {
          "output_type": "stream",
          "name": "stdout",
          "text": [
            "14.0\n"
          ]
        }
      ]
    },
    {
      "cell_type": "code",
      "source": [
        "def get_rect(a, b):\n",
        "    return 2 * (a+b)\n",
        "\n",
        "def get_rect(a, b):\n",
        "    return a * b\n",
        "\n",
        "print(get_rect(4, 3.5))"
      ],
      "metadata": {
        "colab": {
          "base_uri": "https://localhost:8080/"
        },
        "id": "noCKskEc-2Qj",
        "outputId": "5b20c75e-f560-423c-d44a-7e920a5972df"
      },
      "execution_count": 24,
      "outputs": [
        {
          "output_type": "stream",
          "name": "stdout",
          "text": [
            "14.0\n"
          ]
        }
      ]
    },
    {
      "cell_type": "code",
      "source": [
        "def even(x):\n",
        "  return x % 2 == 0\n",
        "\n",
        "for i in range(1,20):\n",
        "  if even(i):\n",
        "    print(i)"
      ],
      "metadata": {
        "colab": {
          "base_uri": "https://localhost:8080/"
        },
        "id": "16i_y6oE_CH6",
        "outputId": "364ca4fb-dac1-4ea5-c9fc-ab87cd98228b"
      },
      "execution_count": 27,
      "outputs": [
        {
          "output_type": "stream",
          "name": "stdout",
          "text": [
            "2\n",
            "4\n",
            "6\n",
            "8\n",
            "10\n",
            "12\n",
            "14\n",
            "16\n",
            "18\n"
          ]
        }
      ]
    },
    {
      "cell_type": "markdown",
      "source": [
        "#37 Алгоритм Евклида"
      ],
      "metadata": {
        "id": "e3eZxXzB_oHs"
      }
    },
    {
      "cell_type": "code",
      "source": [
        "#Наибольший общий делитель\n",
        "a, b = 18, 24\n",
        "def get_nod(a, b):\n",
        "  \"\"\"Вычисляется НОД по алгоритму Евклида\n",
        "  ;param a: первое нат число\n",
        "  ;param b: второе нат число\n",
        "  ;return НОД\n",
        "\"\"\"\n",
        "  while a != b:\n",
        "    if a >b:\n",
        "      a -= b\n",
        "    else:\n",
        "      b -= a\n",
        "  return a\n",
        "\n",
        "\n",
        "res = get_nod(122, 51)\n",
        "print(res)\n",
        "help(get_nod)\n",
        "\n"
      ],
      "metadata": {
        "colab": {
          "base_uri": "https://localhost:8080/"
        },
        "id": "8cnm1KJM_2i-",
        "outputId": "489d4f0d-e19a-406f-f5a8-2354809299e4"
      },
      "execution_count": 39,
      "outputs": [
        {
          "output_type": "stream",
          "name": "stdout",
          "text": [
            "1\n",
            "Help on function get_nod in module __main__:\n",
            "\n",
            "get_nod(a, b)\n",
            "    Вычисляется НОД по алгоритму Евклида\n",
            "    ;param a: первое нат число\n",
            "    ;param b: второе нат число\n",
            "    ;return НОД\n",
            "\n",
            "test 1 -- OK\n"
          ]
        }
      ]
    },
    {
      "cell_type": "code",
      "source": [
        "def test_nod(func):\n",
        "  # ---тест №1\n",
        "  a = 28\n",
        "  b = 35\n",
        "  res = func(a, b)\n",
        "  if res == 7:\n",
        "    print (\"test 1 -- OK\")\n",
        "  else:\n",
        "    print (\"test 1 -- FAIL\")\n",
        "\n",
        "\n",
        "test_nod(get_nod)"
      ],
      "metadata": {
        "colab": {
          "base_uri": "https://localhost:8080/"
        },
        "id": "RRxIZyusCxbQ",
        "outputId": "2f9f4f4c-dd6c-4f83-8193-c9f2320ca477"
      },
      "execution_count": 40,
      "outputs": [
        {
          "output_type": "stream",
          "name": "stdout",
          "text": [
            "test 1 -- OK\n"
          ]
        }
      ]
    },
    {
      "cell_type": "code",
      "source": [
        "import time\n",
        "\n",
        "def test_nod(func):\n",
        "  # ---тест №2\n",
        "  a = 100\n",
        "  b = 1\n",
        "  res = func(a, b)\n",
        "  if res == 1:\n",
        "    print (\"test 2 -- OK\")\n",
        "  else:\n",
        "    print (\"test 2 -- FAIL\")\n",
        "\n",
        "\n",
        "test_nod(get_nod)\n",
        "\n",
        "def test_nod(func):\n",
        "  # ---тест №2\n",
        "  a = 2\n",
        "  b = 100000000\n",
        "  st = time.time()\n",
        "  res = func(a, b)\n",
        "  et = time.time()\n",
        "  dt = et - st\n",
        "  if res == 2 and dt <1:\n",
        "    print (\"test 3 -- OK\")\n",
        "  else:\n",
        "    print (\"test 3 -- FAIL\")\n",
        "\n",
        "\n",
        "test_nod(get_nod)"
      ],
      "metadata": {
        "colab": {
          "base_uri": "https://localhost:8080/"
        },
        "id": "sLpigYesC76H",
        "outputId": "87693269-370c-4d12-ed43-677700dfc891"
      },
      "execution_count": 42,
      "outputs": [
        {
          "output_type": "stream",
          "name": "stdout",
          "text": [
            "test 2 -- OK\n",
            "test 3 -- FAIL\n"
          ]
        }
      ]
    },
    {
      "cell_type": "code",
      "source": [
        "#БЫСТРЫЙ алгоритм ЕВКЛИДА\n",
        "\n",
        "def get_nod_fast(a, b):\n",
        "  if a < b:\n",
        "    a,b = b,a\n",
        "  while b != 0:\n",
        "    a, b = b, a % b\n",
        "  return a\n",
        "\n",
        "def test_nod(func):\n",
        "  # ---тест №1\n",
        "  a = 28\n",
        "  b = 35\n",
        "  res = func(a, b)\n",
        "  if res == 7:\n",
        "    print (\"test 1 -- OK\")\n",
        "  else:\n",
        "    print (\"test 1 -- FAIL\")\n",
        "\n",
        "\n",
        "test_nod(get_nod_fast)\n",
        "\n",
        "\n",
        "def test_nod(func):\n",
        "  # ---тест №2\n",
        "  a = 100\n",
        "  b = 1\n",
        "  res = func(a, b)\n",
        "  if res == 1:\n",
        "    print (\"test 2 -- OK\")\n",
        "  else:\n",
        "    print (\"test 2 -- FAIL\")\n",
        "\n",
        "\n",
        "test_nod(get_nod_fast)\n",
        "\n",
        "def test_nod(func):\n",
        "  # ---тест №2\n",
        "  a = 5\n",
        "  b = 1000000000000\n",
        "  st = time.time()\n",
        "  res = func(a, b)\n",
        "  et = time.time()\n",
        "  dt = et - st\n",
        "  if res == 5 and dt <1:\n",
        "    print (\"test 3 -- OK\")\n",
        "  else:\n",
        "    print (\"test 3 -- FAIL\")\n",
        "\n",
        "\n",
        "test_nod(get_nod_fast)\n",
        "\n",
        "\n"
      ],
      "metadata": {
        "colab": {
          "base_uri": "https://localhost:8080/"
        },
        "id": "g1sSIXLZFDpP",
        "outputId": "2d87563c-1738-4f22-9eca-321fbbd002fd"
      },
      "execution_count": 49,
      "outputs": [
        {
          "output_type": "stream",
          "name": "stdout",
          "text": [
            "test 1 -- OK\n",
            "test 2 -- OK\n",
            "test 3 -- OK\n"
          ]
        }
      ]
    },
    {
      "cell_type": "code",
      "source": [
        "def get_nod_fast(a, b):\n",
        "  if a < b:\n",
        "    a,b = b,a\n",
        "  while b != 0:\n",
        "    a, b = b, a % b\n",
        "    print(a,b)\n",
        "  return a\n",
        "\n",
        "get_nod_fast(7,2000)"
      ],
      "metadata": {
        "id": "BkBYKPg6SjuU",
        "outputId": "c3e236ed-073a-4c65-b7ad-523b0acee9c7",
        "colab": {
          "base_uri": "https://localhost:8080/"
        }
      },
      "execution_count": 54,
      "outputs": [
        {
          "output_type": "stream",
          "name": "stdout",
          "text": [
            "7 5\n",
            "5 2\n",
            "2 1\n",
            "1 0\n"
          ]
        },
        {
          "output_type": "execute_result",
          "data": {
            "text/plain": [
              "1"
            ]
          },
          "metadata": {},
          "execution_count": 54
        }
      ]
    }
  ]
}