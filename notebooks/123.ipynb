{
  "nbformat": 4,
  "nbformat_minor": 0,
  "metadata": {
    "colab": {
      "name": "ipympl",
      "provenance": [],
      "collapsed_sections": [],
      "toc_visible": true,
      "include_colab_link": true
    },
    "kernelspec": {
      "name": "python3",
      "display_name": "Python 3"
    },
    "language_info": {
      "name": "python"
    }
  },
  "cells": [
    {
      "cell_type": "markdown",
      "metadata": {
        "id": "view-in-github",
        "colab_type": "text"
      },
      "source": [
        "<a href=\"https://colab.research.google.com/github/PokrovskiyK/SelfEduPub/blob/main/notebooks/123.ipynb\" target=\"_parent\"><img src=\"https://colab.research.google.com/assets/colab-badge.svg\" alt=\"Open In Colab\"/></a>"
      ]
    },
    {
      "cell_type": "markdown",
      "source": [
        "#16 Вложенный списки\n",
        "\n"
      ],
      "metadata": {
        "id": "kg2a6KH3FyLG"
      }
    },
    {
      "cell_type": "code",
      "source": [
        "line = [1, 7, 6, 11, 3]\n",
        "img = [[1, 7, 6, 11, 3],[1, 7, 6, 11, 3],[1, 7, 6, 11, 3],[1, 7, 6, 11, 3],[1, 7, 6, 11, 3]]\n",
        "img"
      ],
      "metadata": {
        "id": "ExC04jq6F63b",
        "colab": {
          "base_uri": "https://localhost:8080/"
        },
        "outputId": "d52ccbe8-fe20-46f1-a49e-d9bb1a39439e"
      },
      "execution_count": 24,
      "outputs": [
        {
          "output_type": "execute_result",
          "data": {
            "text/plain": [
              "[[1, 7, 6, 11, 3],\n",
              " [1, 7, 6, 11, 3],\n",
              " [1, 7, 6, 11, 3],\n",
              " [1, 7, 6, 11, 3],\n",
              " [1, 7, 6, 11, 3]]"
            ]
          },
          "metadata": {},
          "execution_count": 24
        }
      ]
    },
    {
      "cell_type": "code",
      "source": [
        "img = [line[:], line[:],line[:],line[:],line[:]]\n",
        "img\n",
        "# Ссылки на вложенные списки"
      ],
      "metadata": {
        "id": "_xDcBPnWJGRS",
        "outputId": "49aacb00-b24e-4518-a10d-4b3cfac7e43d",
        "colab": {
          "base_uri": "https://localhost:8080/"
        }
      },
      "execution_count": 25,
      "outputs": [
        {
          "output_type": "execute_result",
          "data": {
            "text/plain": [
              "[[1, 7, 6, 11, 3],\n",
              " [1, 7, 6, 11, 3],\n",
              " [1, 7, 6, 11, 3],\n",
              " [1, 7, 6, 11, 3],\n",
              " [1, 7, 6, 11, 3]]"
            ]
          },
          "metadata": {},
          "execution_count": 25
        }
      ]
    },
    {
      "cell_type": "code",
      "source": [
        "img[0][1]\n",
        "img[1] = [0,0,0,0,0]\n",
        "img[1] = [0] * 5\n",
        "img[1][:] = [1]*5\n",
        "img"
      ],
      "metadata": {
        "id": "1g0UwvwmJVqC",
        "outputId": "77fdc315-f8fa-4081-db5a-b4dbd07c6298",
        "colab": {
          "base_uri": "https://localhost:8080/"
        }
      },
      "execution_count": 26,
      "outputs": [
        {
          "output_type": "execute_result",
          "data": {
            "text/plain": [
              "[[1, 7, 6, 11, 3],\n",
              " [1, 1, 1, 1, 1],\n",
              " [1, 7, 6, 11, 3],\n",
              " [1, 7, 6, 11, 3],\n",
              " [1, 7, 6, 11, 3]]"
            ]
          },
          "metadata": {},
          "execution_count": 26
        }
      ]
    },
    {
      "cell_type": "code",
      "source": [
        "img[1][3]"
      ],
      "metadata": {
        "id": "EnFQCSvVL09L",
        "outputId": "7e2bb3a7-b2a0-42a4-d424-df256274491d",
        "colab": {
          "base_uri": "https://localhost:8080/"
        }
      },
      "execution_count": 27,
      "outputs": [
        {
          "output_type": "execute_result",
          "data": {
            "text/plain": [
              "1"
            ]
          },
          "metadata": {},
          "execution_count": 27
        }
      ]
    },
    {
      "cell_type": "markdown",
      "source": [
        "# 17 Условный оператор"
      ],
      "metadata": {
        "id": "ZGIEM-ogMGlI"
      }
    },
    {
      "cell_type": "code",
      "source": [
        "#@title\n",
        "# if - условный оператор ветвления\n",
        "x = -4\n",
        "if x < 0:\n",
        "  x = -x\n",
        "\n",
        "print(x)"
      ],
      "metadata": {
        "id": "AkZjy189MMaE",
        "outputId": "24fd8b7f-0030-4807-9cf5-59c01c3f722f",
        "colab": {
          "base_uri": "https://localhost:8080/"
        }
      },
      "execution_count": 28,
      "outputs": [
        {
          "output_type": "stream",
          "name": "stdout",
          "text": [
            "4\n"
          ]
        }
      ]
    }
  ]
}