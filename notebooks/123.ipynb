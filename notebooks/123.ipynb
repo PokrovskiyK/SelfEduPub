{
  "nbformat": 4,
  "nbformat_minor": 0,
  "metadata": {
    "colab": {
      "name": "SelfEduTraining",
      "provenance": [],
      "collapsed_sections": [],
      "toc_visible": true,
      "include_colab_link": true
    },
    "kernelspec": {
      "name": "python3",
      "display_name": "Python 3"
    },
    "language_info": {
      "name": "python"
    }
  },
  "cells": [
    {
      "cell_type": "markdown",
      "metadata": {
        "id": "view-in-github",
        "colab_type": "text"
      },
      "source": [
        "<a href=\"https://colab.research.google.com/github/PokrovskiyK/SelfEduPub/blob/main/notebooks/123.ipynb\" target=\"_parent\"><img src=\"https://colab.research.google.com/assets/colab-badge.svg\" alt=\"Open In Colab\"/></a>"
      ]
    },
    {
      "cell_type": "markdown",
      "source": [
        "#16 Вложенные списки\n",
        "\n"
      ],
      "metadata": {
        "id": "kg2a6KH3FyLG"
      }
    },
    {
      "cell_type": "code",
      "source": [
        "line = [1, 7, 6, 11, 3]\n",
        "img = [[1, 7, 6, 11, 3],[1, 7, 6, 11, 3],[1, 7, 6, 11, 3],[1, 7, 6, 11, 3],[1, 7, 6, 11, 3]]\n",
        "img"
      ],
      "metadata": {
        "id": "ExC04jq6F63b",
        "colab": {
          "base_uri": "https://localhost:8080/"
        },
        "outputId": "d52ccbe8-fe20-46f1-a49e-d9bb1a39439e"
      },
      "execution_count": null,
      "outputs": [
        {
          "output_type": "execute_result",
          "data": {
            "text/plain": [
              "[[1, 7, 6, 11, 3],\n",
              " [1, 7, 6, 11, 3],\n",
              " [1, 7, 6, 11, 3],\n",
              " [1, 7, 6, 11, 3],\n",
              " [1, 7, 6, 11, 3]]"
            ]
          },
          "metadata": {},
          "execution_count": 24
        }
      ]
    },
    {
      "cell_type": "code",
      "source": [
        "img = [line[:], line[:],line[:],line[:],line[:]]\n",
        "img\n",
        "# Ссылки на вложенные списки"
      ],
      "metadata": {
        "id": "_xDcBPnWJGRS",
        "outputId": "49aacb00-b24e-4518-a10d-4b3cfac7e43d",
        "colab": {
          "base_uri": "https://localhost:8080/"
        }
      },
      "execution_count": null,
      "outputs": [
        {
          "output_type": "execute_result",
          "data": {
            "text/plain": [
              "[[1, 7, 6, 11, 3],\n",
              " [1, 7, 6, 11, 3],\n",
              " [1, 7, 6, 11, 3],\n",
              " [1, 7, 6, 11, 3],\n",
              " [1, 7, 6, 11, 3]]"
            ]
          },
          "metadata": {},
          "execution_count": 25
        }
      ]
    },
    {
      "cell_type": "code",
      "source": [
        "img[0][1]\n",
        "img[1] = [0,0,0,0,0]\n",
        "img[1] = [0] * 5\n",
        "img[1][:] = [1]*5\n",
        "img"
      ],
      "metadata": {
        "id": "1g0UwvwmJVqC",
        "outputId": "77fdc315-f8fa-4081-db5a-b4dbd07c6298",
        "colab": {
          "base_uri": "https://localhost:8080/"
        }
      },
      "execution_count": null,
      "outputs": [
        {
          "output_type": "execute_result",
          "data": {
            "text/plain": [
              "[[1, 7, 6, 11, 3],\n",
              " [1, 1, 1, 1, 1],\n",
              " [1, 7, 6, 11, 3],\n",
              " [1, 7, 6, 11, 3],\n",
              " [1, 7, 6, 11, 3]]"
            ]
          },
          "metadata": {},
          "execution_count": 26
        }
      ]
    },
    {
      "cell_type": "code",
      "source": [
        "img[1][3]"
      ],
      "metadata": {
        "id": "EnFQCSvVL09L",
        "outputId": "7e2bb3a7-b2a0-42a4-d424-df256274491d",
        "colab": {
          "base_uri": "https://localhost:8080/"
        }
      },
      "execution_count": null,
      "outputs": [
        {
          "output_type": "execute_result",
          "data": {
            "text/plain": [
              "1"
            ]
          },
          "metadata": {},
          "execution_count": 27
        }
      ]
    },
    {
      "cell_type": "markdown",
      "source": [
        "# 17 Условный оператор"
      ],
      "metadata": {
        "id": "ZGIEM-ogMGlI"
      }
    },
    {
      "cell_type": "code",
      "source": [
        "#@title\n",
        "# if - условный оператор ветвления\n",
        "x = -4\n",
        "if x < 0:\n",
        "  x = -x\n",
        "\n",
        "print(x)"
      ],
      "metadata": {
        "id": "AkZjy189MMaE",
        "outputId": "24fd8b7f-0030-4807-9cf5-59c01c3f722f",
        "colab": {
          "base_uri": "https://localhost:8080/"
        }
      },
      "execution_count": null,
      "outputs": [
        {
          "output_type": "stream",
          "name": "stdout",
          "text": [
            "4\n"
          ]
        }
      ]
    },
    {
      "cell_type": "code",
      "source": [
        "a = float(input(\"a = :\"))\n",
        "b = float(input(\"b = :\"))\n",
        "if a<b:\n",
        "  a,b = b,a\n",
        "print(a,b)"
      ],
      "metadata": {
        "colab": {
          "base_uri": "https://localhost:8080/"
        },
        "id": "ZrGfYwpDOe7z",
        "outputId": "46796797-1303-462b-e3f4-d0bd68aafb36"
      },
      "execution_count": null,
      "outputs": [
        {
          "output_type": "stream",
          "name": "stdout",
          "text": [
            "a = :12\n",
            "b = :13\n",
            "13.0 12.0\n"
          ]
        }
      ]
    },
    {
      "cell_type": "code",
      "source": [
        "x = int(input())\n",
        "if x>=-4 and x <= 10:\n",
        "  print (\" x в диапазоне [-4;10]\")"
      ],
      "metadata": {
        "colab": {
          "base_uri": "https://localhost:8080/"
        },
        "id": "biI9Slo_O5ZY",
        "outputId": "f0637490-bea3-4e00-d533-bdb16177d6c4"
      },
      "execution_count": null,
      "outputs": [
        {
          "output_type": "stream",
          "name": "stdout",
          "text": [
            "6\n",
            " x в диапазоне [-4;10]\n"
          ]
        }
      ]
    },
    {
      "cell_type": "code",
      "source": [
        "x = int(input())\n",
        "if x:\n",
        "    print (\" x True\")\n"
      ],
      "metadata": {
        "colab": {
          "base_uri": "https://localhost:8080/"
        },
        "id": "Lo7aD00PPSRj",
        "outputId": "50598a10-5fe2-49ee-fc5e-9ca4881a5552"
      },
      "execution_count": null,
      "outputs": [
        {
          "name": "stdout",
          "output_type": "stream",
          "text": [
            "0\n"
          ]
        }
      ]
    },
    {
      "cell_type": "code",
      "source": [
        "marks = [3,3,4,5,4]\n",
        "if 2 in marks:\n",
        "  print (\"Студент будет отчислен\")\n",
        "else:\n",
        "  print(\"Студент успешно сдал сессию\")"
      ],
      "metadata": {
        "colab": {
          "base_uri": "https://localhost:8080/"
        },
        "id": "VAhI-W2fPjma",
        "outputId": "ad699b69-ead0-4f59-8a62-8474917d672a"
      },
      "execution_count": null,
      "outputs": [
        {
          "output_type": "stream",
          "name": "stdout",
          "text": [
            "Студент успешно сдал сессию\n"
          ]
        }
      ]
    },
    {
      "cell_type": "code",
      "source": [
        "x = int(input(\"Введите целое число\"))\n",
        "if x % 2 == 0:\n",
        "  print(\"x - четное\")\n",
        "else:\n",
        "  print(\"x - не четное\")\n"
      ],
      "metadata": {
        "colab": {
          "base_uri": "https://localhost:8080/"
        },
        "id": "uWgvHqKkQE7P",
        "outputId": "9baae5b3-aafa-41a3-ec30-efea0a36eb8c"
      },
      "execution_count": null,
      "outputs": [
        {
          "output_type": "stream",
          "name": "stdout",
          "text": [
            "Введите целое число23\n",
            "x - не четное\n"
          ]
        }
      ]
    },
    {
      "cell_type": "code",
      "source": [
        "x = int(input(\"Введите целое число\"))\n",
        "if x <0:\n",
        "  print(\"x - отрицательное число\")\n",
        "else:\n",
        "  print(\"x - не отрицательное число\")"
      ],
      "metadata": {
        "colab": {
          "base_uri": "https://localhost:8080/"
        },
        "id": "rVURsNr6QmMi",
        "outputId": "f22df25d-30e1-4cb5-d233-7460f310937d"
      },
      "execution_count": null,
      "outputs": [
        {
          "output_type": "stream",
          "name": "stdout",
          "text": [
            "Введите целое число12\n",
            "x - не отрицательное число\n"
          ]
        }
      ]
    },
    {
      "cell_type": "markdown",
      "source": [
        "# 18. Вложенные условия и множественный выбор\n"
      ],
      "metadata": {
        "id": "WJR1xcGMQ-Su"
      }
    },
    {
      "cell_type": "code",
      "source": [
        "x = int(input())\n",
        "if x % 2 == 0:\n",
        "  if 0 <= x <= 9:\n",
        "    print(\"x - цифра\")\n",
        "  else:\n",
        "    print(\" ч - число\")\n",
        "else:\n",
        "  print(\"Х - нечетное число\")"
      ],
      "metadata": {
        "colab": {
          "base_uri": "https://localhost:8080/"
        },
        "id": "MOAoxUUlSUl0",
        "outputId": "1dcdbb22-6ec2-40fd-e3c1-3dca3ef6bf91"
      },
      "execution_count": null,
      "outputs": [
        {
          "output_type": "stream",
          "name": "stdout",
          "text": [
            "11\n",
            "Х - нечетное число\n"
          ]
        }
      ]
    },
    {
      "cell_type": "code",
      "source": [
        "# сравнение трех чисел\n",
        "a = int(input(\"а = :\"))\n",
        "b = int(input(\"b = :\"))\n",
        "c = int(input(\"c = :\"))\n",
        "if a > b:\n",
        "  if a > c: \n",
        "    print(\"a - max\")\n",
        "  else:\n",
        "    print(\"c - max\")\n",
        "else:\n",
        "  if b > c:\n",
        "    print (\"b - max\")\n",
        "  else:\n",
        "    print(\"c - max\")\n"
      ],
      "metadata": {
        "id": "9dJDDKU2Ubwv",
        "outputId": "b0e257b0-c9f0-41a5-e47d-f0d76490276d",
        "colab": {
          "base_uri": "https://localhost:8080/"
        }
      },
      "execution_count": null,
      "outputs": [
        {
          "output_type": "stream",
          "name": "stdout",
          "text": [
            "а = :12\n",
            "b = :444\n",
            "c = :1212121\n",
            "c - max\n"
          ]
        }
      ]
    },
    {
      "cell_type": "code",
      "source": [
        "# ELIF\n",
        "item = int(input(\"Выберите пункт :\"))\n",
        "if item == 1:\n",
        "  print(\"1\")\n",
        "elif item == 2:\n",
        "  print(\"2\")\n",
        "elif item == 3:\n",
        "  print(\"3\")\n",
        "elif item == 4:\n",
        "  print(\"4\")\n",
        "else: print(\"Ничего\")\n"
      ],
      "metadata": {
        "id": "kSpzu8vfVy0o",
        "outputId": "9b2961e5-e178-4c88-9e3a-6db4be937aef",
        "colab": {
          "base_uri": "https://localhost:8080/"
        }
      },
      "execution_count": 1,
      "outputs": [
        {
          "output_type": "stream",
          "name": "stdout",
          "text": [
            "Выберите пункт :3\n",
            "3\n"
          ]
        }
      ]
    },
    {
      "cell_type": "markdown",
      "source": [
        "# 19 Тернарный условный оператор\n"
      ],
      "metadata": {
        "id": "QcSjSjl4D5-T"
      }
    },
    {
      "cell_type": "code",
      "source": [
        "a = 12\n",
        "b = 7\n",
        "if a > b:\n",
        "  res = a\n",
        "else:\n",
        "  res = b\n",
        "print(res)\n"
      ],
      "metadata": {
        "id": "ajs50sLPHUPc",
        "outputId": "a2ad011c-87dd-46f0-e585-4e9c0e5c2541",
        "colab": {
          "base_uri": "https://localhost:8080/"
        }
      },
      "execution_count": 5,
      "outputs": [
        {
          "output_type": "stream",
          "name": "stdout",
          "text": [
            "12\n"
          ]
        }
      ]
    },
    {
      "cell_type": "code",
      "source": [
        "res = a if a > b else b\n",
        "print(res)\n",
        "# Тернарный оператор присваивает значения, нет внутренних блоков"
      ],
      "metadata": {
        "id": "H9N9tSuDHyOg",
        "outputId": "c6bf31ba-7d36-451f-feab-bf14ff01f4c0",
        "colab": {
          "base_uri": "https://localhost:8080/"
        }
      },
      "execution_count": 6,
      "outputs": [
        {
          "output_type": "stream",
          "name": "stdout",
          "text": [
            "12\n"
          ]
        }
      ]
    },
    {
      "cell_type": "code",
      "source": [
        "res = a +3  if a > b else b * 8\n",
        "print(res)"
      ],
      "metadata": {
        "id": "NN_PKta-IVPI",
        "outputId": "930c6a0b-d43a-4825-df90-18743c25e9eb",
        "colab": {
          "base_uri": "https://localhost:8080/"
        }
      },
      "execution_count": 7,
      "outputs": [
        {
          "output_type": "stream",
          "name": "stdout",
          "text": [
            "15\n"
          ]
        }
      ]
    },
    {
      "cell_type": "code",
      "source": [
        "res = print(a)  if a > b else b * 8\n",
        "print(res)"
      ],
      "metadata": {
        "id": "vaVXmSG8Ikr8",
        "outputId": "a3880e6c-1f6c-4da0-b6ae-dff303646835",
        "colab": {
          "base_uri": "https://localhost:8080/"
        }
      },
      "execution_count": 8,
      "outputs": [
        {
          "output_type": "stream",
          "name": "stdout",
          "text": [
            "12\n",
            "None\n"
          ]
        }
      ]
    },
    {
      "cell_type": "code",
      "source": [
        "s = \"Большие буквы\"\n",
        "t = \"vfktymrbt ,erds\"\n",
        "\n",
        "res  = s.upper() if s == \"Большие буквы\" else t\n",
        "print(res)"
      ],
      "metadata": {
        "id": "kyeWRtRZI3d2",
        "outputId": "3141e323-9839-475f-d670-d9dd9f2189c7",
        "colab": {
          "base_uri": "https://localhost:8080/"
        }
      },
      "execution_count": 14,
      "outputs": [
        {
          "output_type": "stream",
          "name": "stdout",
          "text": [
            "БОЛЬШИЕ БУКВЫ\n"
          ]
        }
      ]
    },
    {
      "cell_type": "code",
      "source": [
        "a = 7\n",
        "b = 12\n",
        "[1, 2,a if a < b else b , 4,5]"
      ],
      "metadata": {
        "id": "70SK_UTmKAhr",
        "outputId": "6d81d103-57c7-4cba-c007-6ff897c27496",
        "colab": {
          "base_uri": "https://localhost:8080/"
        }
      },
      "execution_count": 15,
      "outputs": [
        {
          "output_type": "execute_result",
          "data": {
            "text/plain": [
              "[1, 2, 7, 4, 5]"
            ]
          },
          "metadata": {},
          "execution_count": 15
        }
      ]
    },
    {
      "cell_type": "code",
      "source": [
        "a = int(input(\"Введите целое число a: \"))\n",
        "print(\"a - \" + (\"чётное \" if a % 2 == 0 else \"нечётное \") + \"число.\")"
      ],
      "metadata": {
        "id": "lb0cCZgtI4sw",
        "outputId": "49d1880a-f9e7-46d1-e9a8-3975d2d91143",
        "colab": {
          "base_uri": "https://localhost:8080/"
        }
      },
      "execution_count": 21,
      "outputs": [
        {
          "output_type": "stream",
          "name": "stdout",
          "text": [
            "Введите целое число a: 121\n",
            "a - нечётное число.\n"
          ]
        }
      ]
    },
    {
      "cell_type": "code",
      "source": [
        "a = -17\n",
        "b = 23\n",
        "max (1, 2, 3, a if a > 0 else b, 5, 3)"
      ],
      "metadata": {
        "id": "fBZqPKGAMXc2",
        "outputId": "af436aae-293c-49bd-a2e5-c71d0b7a69bd",
        "colab": {
          "base_uri": "https://localhost:8080/"
        }
      },
      "execution_count": 23,
      "outputs": [
        {
          "output_type": "execute_result",
          "data": {
            "text/plain": [
              "23"
            ]
          },
          "metadata": {},
          "execution_count": 23
        }
      ]
    },
    {
      "cell_type": "code",
      "source": [
        "# Поиск наибольшего числа через тернарных операторов\n",
        "a = 4 \n",
        "b = 7 \n",
        "c = -7\n",
        "\n",
        "d = (a if a > c else c) if a > b else (b if b > c else c)\n",
        "d\n"
      ],
      "metadata": {
        "id": "MFWq3X7KM_Xq",
        "outputId": "6ed9c508-2b00-4c6a-fbeb-e14528a790b0",
        "colab": {
          "base_uri": "https://localhost:8080/"
        }
      },
      "execution_count": 30,
      "outputs": [
        {
          "data": {
            "text/plain": [
              "7"
            ]
          },
          "execution_count": null,
          "metadata": {},
          "output_type": "execute_result"
        }
      ]
    }
  ]
}